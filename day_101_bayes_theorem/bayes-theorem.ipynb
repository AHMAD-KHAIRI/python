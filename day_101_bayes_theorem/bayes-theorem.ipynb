{
 "cells": [
  {
   "cell_type": "markdown",
   "metadata": {},
   "source": [
    "\n",
    "\n",
    "**Example 1:**\n",
    "\n",
    "Let’s say we have a drug test that can accurately identify users of a drug 99% of the time, and accurately has a negative result for 99% of non-users. But only 0.3% of the overall population actually uses this drug."
   ]
  },
  {
   "cell_type": "markdown",
   "metadata": {},
   "source": [
    "**Solution:**\n",
    "\n",
    "Let's define:\n",
    "\n",
    "    P(A): Probability of being a user (prevalence of drug users in the population) = 0.003 (0.3% of the population)\n",
    "    P(B∣A): Probability of testing positive given that the person is a user (sensitivity) = 0.99 (99% accurate for users)\n",
    "    P(B∣¬A): Probability of testing positive given that the person is not a user (false positive rate) = 0.01 (1% error for non-users)\n",
    "\n",
    "Bayes' Theorem is given by:\n",
    "\n",
    "P(A∣B) = ( P(B∣A) ⋅ P(A) ) / P(B)\n",
    "\n",
    "Where:\n",
    "P(B) = P(B∣A) ⋅ P(A) + P(B∣¬A) ⋅ P(¬A)\n",
    "\n",
    "And P(¬A) is the probability of not being a user, which is equal to 1 − P(A).\n",
    "\n",
    "Now let's plug in the values:\n",
    "\n",
    "P(B) = (0.99 ⋅ 0.003) + (0.01 ⋅ 0.997)\n",
    "\n",
    "P(B) = 0.00297 + 0.00997\n",
    "\n",
    "P(B) = 0.01294\n",
    "\n",
    "Now, we can use Bayes' Theorem:\n",
    "\n",
    "P(A∣B) = (0.99 ⋅ 0.0030)/ 0.01294 \n",
    "\n",
    "P(A∣B) = 0.00297 / 0.01294\n",
    "\n",
    "P(A∣B) ≈ 0.229\n",
    "\n",
    "So, given a positive test result, the probability of the person actually being a user is approximately 22.9%. Despite the test's high accuracy, the low prevalence of drug users in the overall population contributes to a relatively low positive predictive value."
   ]
  },
  {
   "cell_type": "markdown",
   "metadata": {},
   "source": [
    "**Let's break down the solution step by step:**\n",
    "\n",
    "We have a population, and in that population, only 0.3% of people actually use a particular drug. This is our P(A) or the probability of being a user.\n",
    "\n",
    "Now, we have a drug test that's pretty accurate:\n",
    "\n",
    "    It correctly identifies users 99% of the time (P(B∣A)).\n",
    "    It correctly gives a negative result for non-users 99% of the time (P(B∣¬A)).\n",
    "\n",
    "Now, the Bayes' Theorem helps us understand the probability of someone being a user given a positive test result. This is P(A∣B).\n",
    "\n",
    "Here are the steps:\n",
    "\n",
    "    1. Calculate the total probability of getting a positive result (P(B)):\n",
    "        This involves considering both scenarios:\n",
    "            A person is a user (P(B∣A) × P(A))\n",
    "            A person is not a user (P(B∣¬A) × P(¬A))\n",
    "\n",
    "P(B) = P(B∣A) ⋅ P(A) + P(B∣¬A) ⋅ P(¬A)\n",
    "\n",
    "    2. Use Bayes' Theorem to find P(A∣B):\n",
    "        Bayes' Theorem takes into account the likelihood of being a user given a positive test result.\n",
    "\n",
    "P(A∣B) = ( P(B∣A) ⋅ P(A) ) / P(B)\n",
    "\n",
    "In simple terms, even if the test is very accurate, the low prevalence of drug users in the overall population means that even a small percentage of false positives can significantly affect the probability of someone actually being a user when the test is positive.\n",
    "\n",
    "In this specific case, with a positive test result, there's approximately a 22.9% chance that the person is actually a user. This might seem counterintuitive at first, but it's a result of the interplay between the test accuracy and the low prevalence of drug users in the population."
   ]
  },
  {
   "cell_type": "markdown",
   "metadata": {},
   "source": []
  },
  {
   "cell_type": "markdown",
   "metadata": {},
   "source": [
    "**Example 2:**\n",
    "\n",
    " Let's consider a scenario in industrial automation where a robot is designed to identify and sort defective products on a production line.\n",
    "\n",
    "Suppose there's a specific defect, \"Defect Y,\" that occurs in 3% of the products produced by a factory. The robot has an automated vision system to detect this defect, and it is 98% accurate in correctly identifying products with Defect Y (sensitivity). \n",
    "\n",
    "However, the system also has a false positive rate of 5% (specificity), meaning it sometimes incorrectly identifies a non-defective product as having Defect Y.\n",
    "\n",
    "Now, let's say the robot inspects a product, and the vision system signals that it has identified Defect Y in that product.\n",
    "\n",
    "Let's use Bayes' Theorem to calculate the probability that the product actually has Defect Y given the positive signal from the vision system."
   ]
  },
  {
   "cell_type": "markdown",
   "metadata": {},
   "source": [
    "P(A): Probability of the product with \"Defect Y\" = 3% = 0.03\n",
    "\n",
    "P(B|A): Probability of robot's vision system accurately identify positive signal given that the product has \"Defect Y\" = 98% = 0.98\n",
    "\n",
    "P(B|-A): Probability of robot's vision system accurately identify positive signal given that the product does not have \"Defect Y\" = 5% = 0.05\n",
    "\n",
    "So, Bayes' Theorem is given by:\n",
    "\n",
    "P(A|B) = P(A) x P(B|A) / P(B)\n",
    "\n",
    "Where: \n",
    "\n",
    "P(A|B): Probability of product with \"Defect Y\" given that the robot's vision system accurately identify positive signal\n",
    "\n",
    "P(B): Probability of robot's vision system accurately identify defect = P(A) x P(B|A) + P(-A) x P(B-A)\n",
    "\n",
    "P(B) = (0.03 x 0.98) + ((1 - 0.03) x 0.05) \n",
    "     = 0.0294 + (0.97 * 0.05)\n",
    "     = 0.0294 + 0.0485\n",
    "     = 0.0779\n",
    "\n",
    "So now we can calculate P(A|B) using Bayes' Theorem:\n",
    "\n",
    "P(A|B) = (0.03 * 0.98) / 0.0779\n",
    "       = 0.0294 / 0.0779\n",
    "       = 0.3774\n",
    "\n",
    "So, the probability of the robot that inspects a product that actually has \"Defect Y\" given that the robot's vision system identifies positive signal is around 37%"
   ]
  },
  {
   "cell_type": "markdown",
   "metadata": {},
   "source": [
    "**Solution:**\n",
    "\n",
    "Here are the probabilities we need:\n",
    "\n",
    "    P(A): Probability of the product having Defect Y (prevalence) = 0.03 (3% of the products)\n",
    "    P(B∣A): Probability of the vision system signaling positive given that the product has Defect Y (sensitivity) = 0.98 (98% accurate for products with Defect Y)\n",
    "    P(B∣¬A): Probability of the vision system signaling positive given that the product does not have Defect Y (false positive rate) = 0.05 (5% error for non-defective products)\n",
    "\n",
    "Now, let's use Bayes' Theorem:\n",
    "\n",
    "    Calculate the total probability of getting a positive result (P(B)):\n",
    "    P(B) = ( P(B∣A) ⋅ P(A) ) + ( P(B∣¬A) ⋅ P(¬A) )\n",
    "\n",
    "    Use Bayes' Theorem to find P(A∣B)P(A∣B):\n",
    "    P(A∣B) = ( P(B∣A) ⋅ P(A) ) / P(B)​\n",
    "\n",
    "This example illustrates how Bayes' Theorem can be applied in the context of industrial automation and robotics to determine the probability of a specific defect being present given a positive signal from a detection system."
   ]
  },
  {
   "cell_type": "markdown",
   "metadata": {},
   "source": []
  }
 ],
 "metadata": {
  "kernelspec": {
   "display_name": "base",
   "language": "python",
   "name": "python3"
  },
  "language_info": {
   "codemirror_mode": {
    "name": "ipython",
    "version": 3
   },
   "file_extension": ".py",
   "mimetype": "text/x-python",
   "name": "python",
   "nbconvert_exporter": "python",
   "pygments_lexer": "ipython3",
   "version": "3.9.12"
  }
 },
 "nbformat": 4,
 "nbformat_minor": 2
}
