{
 "cells": [
  {
   "cell_type": "markdown",
   "metadata": {},
   "source": [
    "**AdaBoost (Adaptive Boosting)**"
   ]
  },
  {
   "cell_type": "markdown",
   "metadata": {},
   "source": [
    "AdaBoost was introduced in 1995 by Freund and Schapire.\n",
    "\n",
    "* AdaBoost combines a lot of \"weak learner\" to make classisfications. The weak learners are almost always <b>stumps</b>.\n",
    "* Some stumps get more say in the classification than others.\n",
    "* Each stump is made by taking the previous stump's mistakes into account."
   ]
  },
  {
   "cell_type": "markdown",
   "metadata": {},
   "source": [
    "AdaBoost is a machine learning algorithm that works by combining multiple simple models, called weak learners, to make accurate predictions. \n",
    "\n",
    "Here's a simplified explanation:\n",
    "\n",
    "1. **Starting Point**: We begin by training a weak learner on the original data, where each data point has the same importance.\n",
    "\n",
    "2. **Sequential Learning**: AdaBoost trains a sequence of weak learners, each focusing on the mistakes made by the previous one. \n",
    "\n",
    "3. **Weighted Data**: At each step, AdaBoost gives more weight to the data points that were incorrectly predicted by the previous weak learner. This makes the next weak learner focus more on these difficult examples.\n",
    "\n",
    "4. **Combining Predictions**: After training all the weak learners, AdaBoost combines their predictions using a weighted majority vote. This final prediction is usually more accurate than the individual predictions of the weak learners.\n",
    "\n",
    "In summary, AdaBoost learns from its mistakes and adapts over time to improve its performance. It's like having a team of learners, where each member specializes in different areas and collectively they make better decisions."
   ]
  },
  {
   "cell_type": "markdown",
   "metadata": {},
   "source": [
    "<b>How to create a Forest of Stumps using AdaBoost:</b>"
   ]
  },
  {
   "cell_type": "markdown",
   "metadata": {},
   "source": [
    "First we will start with some data. We create a Forest of Stumps with AdaBoost to predict machine failures based on sensor data."
   ]
  },
  {
   "cell_type": "code",
   "execution_count": 775,
   "metadata": {},
   "outputs": [
    {
     "data": {
      "text/html": [
       "<div>\n",
       "<style scoped>\n",
       "    .dataframe tbody tr th:only-of-type {\n",
       "        vertical-align: middle;\n",
       "    }\n",
       "\n",
       "    .dataframe tbody tr th {\n",
       "        vertical-align: top;\n",
       "    }\n",
       "\n",
       "    .dataframe thead th {\n",
       "        text-align: right;\n",
       "    }\n",
       "</style>\n",
       "<table border=\"1\" class=\"dataframe\">\n",
       "  <thead>\n",
       "    <tr style=\"text-align: right;\">\n",
       "      <th></th>\n",
       "      <th>Capacitive_Sensor</th>\n",
       "      <th>Inductive_Sensor</th>\n",
       "      <th>Temperature_Sensor</th>\n",
       "      <th>Failure</th>\n",
       "    </tr>\n",
       "  </thead>\n",
       "  <tbody>\n",
       "    <tr>\n",
       "      <th>0</th>\n",
       "      <td>True</td>\n",
       "      <td>False</td>\n",
       "      <td>31.37</td>\n",
       "      <td>False</td>\n",
       "    </tr>\n",
       "    <tr>\n",
       "      <th>1</th>\n",
       "      <td>True</td>\n",
       "      <td>True</td>\n",
       "      <td>31.92</td>\n",
       "      <td>True</td>\n",
       "    </tr>\n",
       "    <tr>\n",
       "      <th>2</th>\n",
       "      <td>False</td>\n",
       "      <td>True</td>\n",
       "      <td>28.80</td>\n",
       "      <td>False</td>\n",
       "    </tr>\n",
       "    <tr>\n",
       "      <th>3</th>\n",
       "      <td>True</td>\n",
       "      <td>False</td>\n",
       "      <td>34.46</td>\n",
       "      <td>False</td>\n",
       "    </tr>\n",
       "    <tr>\n",
       "      <th>4</th>\n",
       "      <td>True</td>\n",
       "      <td>True</td>\n",
       "      <td>29.31</td>\n",
       "      <td>True</td>\n",
       "    </tr>\n",
       "    <tr>\n",
       "      <th>5</th>\n",
       "      <td>False</td>\n",
       "      <td>True</td>\n",
       "      <td>30.74</td>\n",
       "      <td>True</td>\n",
       "    </tr>\n",
       "    <tr>\n",
       "      <th>6</th>\n",
       "      <td>True</td>\n",
       "      <td>True</td>\n",
       "      <td>32.75</td>\n",
       "      <td>False</td>\n",
       "    </tr>\n",
       "    <tr>\n",
       "      <th>7</th>\n",
       "      <td>False</td>\n",
       "      <td>True</td>\n",
       "      <td>30.13</td>\n",
       "      <td>False</td>\n",
       "    </tr>\n",
       "    <tr>\n",
       "      <th>8</th>\n",
       "      <td>True</td>\n",
       "      <td>False</td>\n",
       "      <td>30.41</td>\n",
       "      <td>True</td>\n",
       "    </tr>\n",
       "    <tr>\n",
       "      <th>9</th>\n",
       "      <td>False</td>\n",
       "      <td>True</td>\n",
       "      <td>30.64</td>\n",
       "      <td>False</td>\n",
       "    </tr>\n",
       "  </tbody>\n",
       "</table>\n",
       "</div>"
      ],
      "text/plain": [
       "   Capacitive_Sensor  Inductive_Sensor  Temperature_Sensor  Failure\n",
       "0               True             False               31.37    False\n",
       "1               True              True               31.92     True\n",
       "2              False              True               28.80    False\n",
       "3               True             False               34.46    False\n",
       "4               True              True               29.31     True\n",
       "5              False              True               30.74     True\n",
       "6               True              True               32.75    False\n",
       "7              False              True               30.13    False\n",
       "8               True             False               30.41     True\n",
       "9              False              True               30.64    False"
      ]
     },
     "execution_count": 775,
     "metadata": {},
     "output_type": "execute_result"
    }
   ],
   "source": [
    "import pandas as pd\n",
    "import numpy as np\n",
    "\n",
    "input_file = \"machinedata.csv\"\n",
    "df = pd.read_csv(input_file)\n",
    "\n",
    "df"
   ]
  },
  {
   "cell_type": "markdown",
   "metadata": {},
   "source": [
    "The first thing we do is give each sample a weight that indicates how important it is to be correctly classified.\n",
    "\n",
    "At the start, all samples get the same weight: 1 / total number of samples\n",
    "\n",
    "In our example, it is 1 / 10\n",
    "\n",
    "However, after we make the first stump, these weights will change in order to guide how the next stump is created."
   ]
  },
  {
   "cell_type": "code",
   "execution_count": 776,
   "metadata": {},
   "outputs": [
    {
     "data": {
      "text/html": [
       "<div>\n",
       "<style scoped>\n",
       "    .dataframe tbody tr th:only-of-type {\n",
       "        vertical-align: middle;\n",
       "    }\n",
       "\n",
       "    .dataframe tbody tr th {\n",
       "        vertical-align: top;\n",
       "    }\n",
       "\n",
       "    .dataframe thead th {\n",
       "        text-align: right;\n",
       "    }\n",
       "</style>\n",
       "<table border=\"1\" class=\"dataframe\">\n",
       "  <thead>\n",
       "    <tr style=\"text-align: right;\">\n",
       "      <th></th>\n",
       "      <th>Capacitive_Sensor</th>\n",
       "      <th>Inductive_Sensor</th>\n",
       "      <th>Temperature_Sensor</th>\n",
       "      <th>Failure</th>\n",
       "      <th>Sample_Weight</th>\n",
       "    </tr>\n",
       "  </thead>\n",
       "  <tbody>\n",
       "    <tr>\n",
       "      <th>0</th>\n",
       "      <td>True</td>\n",
       "      <td>False</td>\n",
       "      <td>31.37</td>\n",
       "      <td>False</td>\n",
       "      <td>0.1</td>\n",
       "    </tr>\n",
       "    <tr>\n",
       "      <th>1</th>\n",
       "      <td>True</td>\n",
       "      <td>True</td>\n",
       "      <td>31.92</td>\n",
       "      <td>True</td>\n",
       "      <td>0.1</td>\n",
       "    </tr>\n",
       "    <tr>\n",
       "      <th>2</th>\n",
       "      <td>False</td>\n",
       "      <td>True</td>\n",
       "      <td>28.80</td>\n",
       "      <td>False</td>\n",
       "      <td>0.1</td>\n",
       "    </tr>\n",
       "    <tr>\n",
       "      <th>3</th>\n",
       "      <td>True</td>\n",
       "      <td>False</td>\n",
       "      <td>34.46</td>\n",
       "      <td>False</td>\n",
       "      <td>0.1</td>\n",
       "    </tr>\n",
       "    <tr>\n",
       "      <th>4</th>\n",
       "      <td>True</td>\n",
       "      <td>True</td>\n",
       "      <td>29.31</td>\n",
       "      <td>True</td>\n",
       "      <td>0.1</td>\n",
       "    </tr>\n",
       "    <tr>\n",
       "      <th>5</th>\n",
       "      <td>False</td>\n",
       "      <td>True</td>\n",
       "      <td>30.74</td>\n",
       "      <td>True</td>\n",
       "      <td>0.1</td>\n",
       "    </tr>\n",
       "    <tr>\n",
       "      <th>6</th>\n",
       "      <td>True</td>\n",
       "      <td>True</td>\n",
       "      <td>32.75</td>\n",
       "      <td>False</td>\n",
       "      <td>0.1</td>\n",
       "    </tr>\n",
       "    <tr>\n",
       "      <th>7</th>\n",
       "      <td>False</td>\n",
       "      <td>True</td>\n",
       "      <td>30.13</td>\n",
       "      <td>False</td>\n",
       "      <td>0.1</td>\n",
       "    </tr>\n",
       "    <tr>\n",
       "      <th>8</th>\n",
       "      <td>True</td>\n",
       "      <td>False</td>\n",
       "      <td>30.41</td>\n",
       "      <td>True</td>\n",
       "      <td>0.1</td>\n",
       "    </tr>\n",
       "    <tr>\n",
       "      <th>9</th>\n",
       "      <td>False</td>\n",
       "      <td>True</td>\n",
       "      <td>30.64</td>\n",
       "      <td>False</td>\n",
       "      <td>0.1</td>\n",
       "    </tr>\n",
       "  </tbody>\n",
       "</table>\n",
       "</div>"
      ],
      "text/plain": [
       "   Capacitive_Sensor  Inductive_Sensor  Temperature_Sensor  Failure  \\\n",
       "0               True             False               31.37    False   \n",
       "1               True              True               31.92     True   \n",
       "2              False              True               28.80    False   \n",
       "3               True             False               34.46    False   \n",
       "4               True              True               29.31     True   \n",
       "5              False              True               30.74     True   \n",
       "6               True              True               32.75    False   \n",
       "7              False              True               30.13    False   \n",
       "8               True             False               30.41     True   \n",
       "9              False              True               30.64    False   \n",
       "\n",
       "   Sample_Weight  \n",
       "0            0.1  \n",
       "1            0.1  \n",
       "2            0.1  \n",
       "3            0.1  \n",
       "4            0.1  \n",
       "5            0.1  \n",
       "6            0.1  \n",
       "7            0.1  \n",
       "8            0.1  \n",
       "9            0.1  "
      ]
     },
     "execution_count": 776,
     "metadata": {},
     "output_type": "execute_result"
    }
   ],
   "source": [
    "total_samples = df.shape[0] # total rows\n",
    "df[\"Sample_Weight\"] = 1 / total_samples\n",
    "df"
   ]
  },
  {
   "cell_type": "code",
   "execution_count": 777,
   "metadata": {},
   "outputs": [
    {
     "name": "stdout",
     "output_type": "stream",
     "text": [
      "['Capacitive_Sensor', 'Inductive_Sensor', 'Temperature_Sensor']\n"
     ]
    }
   ],
   "source": [
    "print(list(df.columns[:3])) # features"
   ]
  },
  {
   "cell_type": "markdown",
   "metadata": {},
   "source": [
    "<b>1. Now we need to make the first stump in the forest/ Building a stump with the GINI index:</b>\n",
    "\n",
    "This is done by finding the variables 'Capacitive_Sensor', 'Inductive_Sensor' or 'Temperature_Sensor' that does the best job classifying the samples.\n",
    "\n",
    "NOTE: Because all of the weights are the same, we can ignore them right now."
   ]
  },
  {
   "cell_type": "markdown",
   "metadata": {},
   "source": [
    "Start by seeing how well \"Capacitive_Sensor\" classifies the samples."
   ]
  },
  {
   "cell_type": "code",
   "execution_count": 778,
   "metadata": {},
   "outputs": [
    {
     "data": {
      "text/html": [
       "<div>\n",
       "<style scoped>\n",
       "    .dataframe tbody tr th:only-of-type {\n",
       "        vertical-align: middle;\n",
       "    }\n",
       "\n",
       "    .dataframe tbody tr th {\n",
       "        vertical-align: top;\n",
       "    }\n",
       "\n",
       "    .dataframe thead th {\n",
       "        text-align: right;\n",
       "    }\n",
       "</style>\n",
       "<table border=\"1\" class=\"dataframe\">\n",
       "  <thead>\n",
       "    <tr style=\"text-align: right;\">\n",
       "      <th></th>\n",
       "      <th>Capacitive_Sensor</th>\n",
       "      <th>Failure</th>\n",
       "    </tr>\n",
       "  </thead>\n",
       "  <tbody>\n",
       "    <tr>\n",
       "      <th>0</th>\n",
       "      <td>True</td>\n",
       "      <td>False</td>\n",
       "    </tr>\n",
       "    <tr>\n",
       "      <th>1</th>\n",
       "      <td>True</td>\n",
       "      <td>True</td>\n",
       "    </tr>\n",
       "    <tr>\n",
       "      <th>2</th>\n",
       "      <td>False</td>\n",
       "      <td>False</td>\n",
       "    </tr>\n",
       "    <tr>\n",
       "      <th>3</th>\n",
       "      <td>True</td>\n",
       "      <td>False</td>\n",
       "    </tr>\n",
       "    <tr>\n",
       "      <th>4</th>\n",
       "      <td>True</td>\n",
       "      <td>True</td>\n",
       "    </tr>\n",
       "    <tr>\n",
       "      <th>5</th>\n",
       "      <td>False</td>\n",
       "      <td>True</td>\n",
       "    </tr>\n",
       "    <tr>\n",
       "      <th>6</th>\n",
       "      <td>True</td>\n",
       "      <td>False</td>\n",
       "    </tr>\n",
       "    <tr>\n",
       "      <th>7</th>\n",
       "      <td>False</td>\n",
       "      <td>False</td>\n",
       "    </tr>\n",
       "    <tr>\n",
       "      <th>8</th>\n",
       "      <td>True</td>\n",
       "      <td>True</td>\n",
       "    </tr>\n",
       "    <tr>\n",
       "      <th>9</th>\n",
       "      <td>False</td>\n",
       "      <td>False</td>\n",
       "    </tr>\n",
       "  </tbody>\n",
       "</table>\n",
       "</div>"
      ],
      "text/plain": [
       "   Capacitive_Sensor  Failure\n",
       "0               True    False\n",
       "1               True     True\n",
       "2              False    False\n",
       "3               True    False\n",
       "4               True     True\n",
       "5              False     True\n",
       "6               True    False\n",
       "7              False    False\n",
       "8               True     True\n",
       "9              False    False"
      ]
     },
     "execution_count": 778,
     "metadata": {},
     "output_type": "execute_result"
    }
   ],
   "source": [
    "df[[\"Capacitive_Sensor\", \"Failure\"]]"
   ]
  },
  {
   "cell_type": "markdown",
   "metadata": {},
   "source": [
    "Of the 6 samples with Capacitive_Sensor is True, 3 were correctly classified as having Machine Failure and 3 were incorrectly classified.\n",
    "\n",
    "Of the 4 samples with Capacitive_Sensor is False, 3 were correctly classified as <b>not</b> having Machine Failure and 1 were incorrectly classified."
   ]
  },
  {
   "cell_type": "code",
   "execution_count": 779,
   "metadata": {},
   "outputs": [
    {
     "data": {
      "text/plain": [
       "0.45"
      ]
     },
     "execution_count": 779,
     "metadata": {},
     "output_type": "execute_result"
    }
   ],
   "source": [
    "# Calculate the Gini Impurity for \"Capacitive_Sensor\"\n",
    "\n",
    "gini_left = np.round((1 - np.square(3/6) - np.square(3/6)), decimals=2)\n",
    "gini_right = np.round((1 - np.square(3/4) - np.square(1/4)), decimals=2)\n",
    "total_gini = np.round((6/10)*gini_left + (4/10)*gini_right, decimals=2)\n",
    "total_gini"
   ]
  },
  {
   "cell_type": "markdown",
   "metadata": {},
   "source": [
    "Now we do the same thing for \"Inductive_Sensor\"."
   ]
  },
  {
   "cell_type": "code",
   "execution_count": 780,
   "metadata": {},
   "outputs": [
    {
     "data": {
      "text/html": [
       "<div>\n",
       "<style scoped>\n",
       "    .dataframe tbody tr th:only-of-type {\n",
       "        vertical-align: middle;\n",
       "    }\n",
       "\n",
       "    .dataframe tbody tr th {\n",
       "        vertical-align: top;\n",
       "    }\n",
       "\n",
       "    .dataframe thead th {\n",
       "        text-align: right;\n",
       "    }\n",
       "</style>\n",
       "<table border=\"1\" class=\"dataframe\">\n",
       "  <thead>\n",
       "    <tr style=\"text-align: right;\">\n",
       "      <th></th>\n",
       "      <th>Inductive_Sensor</th>\n",
       "      <th>Failure</th>\n",
       "    </tr>\n",
       "  </thead>\n",
       "  <tbody>\n",
       "    <tr>\n",
       "      <th>0</th>\n",
       "      <td>False</td>\n",
       "      <td>False</td>\n",
       "    </tr>\n",
       "    <tr>\n",
       "      <th>1</th>\n",
       "      <td>True</td>\n",
       "      <td>True</td>\n",
       "    </tr>\n",
       "    <tr>\n",
       "      <th>2</th>\n",
       "      <td>True</td>\n",
       "      <td>False</td>\n",
       "    </tr>\n",
       "    <tr>\n",
       "      <th>3</th>\n",
       "      <td>False</td>\n",
       "      <td>False</td>\n",
       "    </tr>\n",
       "    <tr>\n",
       "      <th>4</th>\n",
       "      <td>True</td>\n",
       "      <td>True</td>\n",
       "    </tr>\n",
       "    <tr>\n",
       "      <th>5</th>\n",
       "      <td>True</td>\n",
       "      <td>True</td>\n",
       "    </tr>\n",
       "    <tr>\n",
       "      <th>6</th>\n",
       "      <td>True</td>\n",
       "      <td>False</td>\n",
       "    </tr>\n",
       "    <tr>\n",
       "      <th>7</th>\n",
       "      <td>True</td>\n",
       "      <td>False</td>\n",
       "    </tr>\n",
       "    <tr>\n",
       "      <th>8</th>\n",
       "      <td>False</td>\n",
       "      <td>True</td>\n",
       "    </tr>\n",
       "    <tr>\n",
       "      <th>9</th>\n",
       "      <td>True</td>\n",
       "      <td>False</td>\n",
       "    </tr>\n",
       "  </tbody>\n",
       "</table>\n",
       "</div>"
      ],
      "text/plain": [
       "   Inductive_Sensor  Failure\n",
       "0             False    False\n",
       "1              True     True\n",
       "2              True    False\n",
       "3             False    False\n",
       "4              True     True\n",
       "5              True     True\n",
       "6              True    False\n",
       "7              True    False\n",
       "8             False     True\n",
       "9              True    False"
      ]
     },
     "execution_count": 780,
     "metadata": {},
     "output_type": "execute_result"
    }
   ],
   "source": [
    "df[[\"Inductive_Sensor\", \"Failure\"]]"
   ]
  },
  {
   "cell_type": "markdown",
   "metadata": {},
   "source": [
    "Of the 7 samples with Inductive_Sensor is True, 3 were correctly classified as having machine Failure and 4 were incorrectly classified.\n",
    "\n",
    "Of the 3 samples with Inductive_Sensor is False, 2 were correctly classified and 1 were incorrectly classified."
   ]
  },
  {
   "cell_type": "code",
   "execution_count": 781,
   "metadata": {},
   "outputs": [
    {
     "data": {
      "text/plain": [
       "0.48"
      ]
     },
     "execution_count": 781,
     "metadata": {},
     "output_type": "execute_result"
    }
   ],
   "source": [
    "# Calculate the Gini Impurity for \"Inductive_Sensor\"\n",
    "\n",
    "gini_left = np.round((1 - np.square(3/7) - np.square(4/7)), decimals=2)\n",
    "gini_right = np.round((1 - np.square(2/3) - np.square(1/3)), decimals=2)\n",
    "total_gini = np.round((7/10)*gini_left + (3/10)*gini_right, decimals=2)\n",
    "total_gini"
   ]
  },
  {
   "cell_type": "markdown",
   "metadata": {},
   "source": [
    "Now we do the same thing for \"Temperature_Sensor\"."
   ]
  },
  {
   "cell_type": "code",
   "execution_count": 782,
   "metadata": {},
   "outputs": [
    {
     "data": {
      "text/html": [
       "<div>\n",
       "<style scoped>\n",
       "    .dataframe tbody tr th:only-of-type {\n",
       "        vertical-align: middle;\n",
       "    }\n",
       "\n",
       "    .dataframe tbody tr th {\n",
       "        vertical-align: top;\n",
       "    }\n",
       "\n",
       "    .dataframe thead th {\n",
       "        text-align: right;\n",
       "    }\n",
       "</style>\n",
       "<table border=\"1\" class=\"dataframe\">\n",
       "  <thead>\n",
       "    <tr style=\"text-align: right;\">\n",
       "      <th></th>\n",
       "      <th>Temperature_Sensor</th>\n",
       "      <th>Failure</th>\n",
       "    </tr>\n",
       "  </thead>\n",
       "  <tbody>\n",
       "    <tr>\n",
       "      <th>0</th>\n",
       "      <td>31.37</td>\n",
       "      <td>False</td>\n",
       "    </tr>\n",
       "    <tr>\n",
       "      <th>1</th>\n",
       "      <td>31.92</td>\n",
       "      <td>True</td>\n",
       "    </tr>\n",
       "    <tr>\n",
       "      <th>2</th>\n",
       "      <td>28.80</td>\n",
       "      <td>False</td>\n",
       "    </tr>\n",
       "    <tr>\n",
       "      <th>3</th>\n",
       "      <td>34.46</td>\n",
       "      <td>False</td>\n",
       "    </tr>\n",
       "    <tr>\n",
       "      <th>4</th>\n",
       "      <td>29.31</td>\n",
       "      <td>True</td>\n",
       "    </tr>\n",
       "    <tr>\n",
       "      <th>5</th>\n",
       "      <td>30.74</td>\n",
       "      <td>True</td>\n",
       "    </tr>\n",
       "    <tr>\n",
       "      <th>6</th>\n",
       "      <td>32.75</td>\n",
       "      <td>False</td>\n",
       "    </tr>\n",
       "    <tr>\n",
       "      <th>7</th>\n",
       "      <td>30.13</td>\n",
       "      <td>False</td>\n",
       "    </tr>\n",
       "    <tr>\n",
       "      <th>8</th>\n",
       "      <td>30.41</td>\n",
       "      <td>True</td>\n",
       "    </tr>\n",
       "    <tr>\n",
       "      <th>9</th>\n",
       "      <td>30.64</td>\n",
       "      <td>False</td>\n",
       "    </tr>\n",
       "  </tbody>\n",
       "</table>\n",
       "</div>"
      ],
      "text/plain": [
       "   Temperature_Sensor  Failure\n",
       "0               31.37    False\n",
       "1               31.92     True\n",
       "2               28.80    False\n",
       "3               34.46    False\n",
       "4               29.31     True\n",
       "5               30.74     True\n",
       "6               32.75    False\n",
       "7               30.13    False\n",
       "8               30.41     True\n",
       "9               30.64    False"
      ]
     },
     "execution_count": 782,
     "metadata": {},
     "output_type": "execute_result"
    }
   ],
   "source": [
    "df[[\"Temperature_Sensor\", \"Failure\"]]"
   ]
  },
  {
   "cell_type": "markdown",
   "metadata": {},
   "source": [
    "Notice that \"Temperature_Sensor\" contains numeric data, calculating the Gini Impurity is a little more involved.\n",
    "\n",
    "Step 1: The first thing we do is sort the rows from lowest to the highest value."
   ]
  },
  {
   "cell_type": "code",
   "execution_count": 783,
   "metadata": {},
   "outputs": [
    {
     "data": {
      "text/html": [
       "<div>\n",
       "<style scoped>\n",
       "    .dataframe tbody tr th:only-of-type {\n",
       "        vertical-align: middle;\n",
       "    }\n",
       "\n",
       "    .dataframe tbody tr th {\n",
       "        vertical-align: top;\n",
       "    }\n",
       "\n",
       "    .dataframe thead th {\n",
       "        text-align: right;\n",
       "    }\n",
       "</style>\n",
       "<table border=\"1\" class=\"dataframe\">\n",
       "  <thead>\n",
       "    <tr style=\"text-align: right;\">\n",
       "      <th></th>\n",
       "      <th>Temperature_Sensor</th>\n",
       "      <th>Failure</th>\n",
       "    </tr>\n",
       "  </thead>\n",
       "  <tbody>\n",
       "    <tr>\n",
       "      <th>2</th>\n",
       "      <td>28.80</td>\n",
       "      <td>False</td>\n",
       "    </tr>\n",
       "    <tr>\n",
       "      <th>4</th>\n",
       "      <td>29.31</td>\n",
       "      <td>True</td>\n",
       "    </tr>\n",
       "    <tr>\n",
       "      <th>7</th>\n",
       "      <td>30.13</td>\n",
       "      <td>False</td>\n",
       "    </tr>\n",
       "    <tr>\n",
       "      <th>8</th>\n",
       "      <td>30.41</td>\n",
       "      <td>True</td>\n",
       "    </tr>\n",
       "    <tr>\n",
       "      <th>9</th>\n",
       "      <td>30.64</td>\n",
       "      <td>False</td>\n",
       "    </tr>\n",
       "    <tr>\n",
       "      <th>5</th>\n",
       "      <td>30.74</td>\n",
       "      <td>True</td>\n",
       "    </tr>\n",
       "    <tr>\n",
       "      <th>0</th>\n",
       "      <td>31.37</td>\n",
       "      <td>False</td>\n",
       "    </tr>\n",
       "    <tr>\n",
       "      <th>1</th>\n",
       "      <td>31.92</td>\n",
       "      <td>True</td>\n",
       "    </tr>\n",
       "    <tr>\n",
       "      <th>6</th>\n",
       "      <td>32.75</td>\n",
       "      <td>False</td>\n",
       "    </tr>\n",
       "    <tr>\n",
       "      <th>3</th>\n",
       "      <td>34.46</td>\n",
       "      <td>False</td>\n",
       "    </tr>\n",
       "  </tbody>\n",
       "</table>\n",
       "</div>"
      ],
      "text/plain": [
       "   Temperature_Sensor  Failure\n",
       "2               28.80    False\n",
       "4               29.31     True\n",
       "7               30.13    False\n",
       "8               30.41     True\n",
       "9               30.64    False\n",
       "5               30.74     True\n",
       "0               31.37    False\n",
       "1               31.92     True\n",
       "6               32.75    False\n",
       "3               34.46    False"
      ]
     },
     "execution_count": 783,
     "metadata": {},
     "output_type": "execute_result"
    }
   ],
   "source": [
    "sorted_by_temperature_df = df.sort_values(\"Temperature_Sensor\", ascending=True)\n",
    "sorted_by_temperature_df[[\"Temperature_Sensor\", \"Failure\"]]"
   ]
  },
  {
   "cell_type": "markdown",
   "metadata": {},
   "source": [
    "Step 2: Calculate the average Temperature for all adjacent data"
   ]
  },
  {
   "cell_type": "code",
   "execution_count": 784,
   "metadata": {},
   "outputs": [
    {
     "name": "stdout",
     "output_type": "stream",
     "text": [
      "[28.8, 29.31, 30.13, 30.41, 30.64, 30.74, 31.37, 31.92, 32.75, 34.46]\n",
      "[29.05, 29.72, 30.27, 30.52, 30.69, 31.05, 31.65, 32.34, 33.61]\n"
     ]
    },
    {
     "data": {
      "text/html": [
       "<div>\n",
       "<style scoped>\n",
       "    .dataframe tbody tr th:only-of-type {\n",
       "        vertical-align: middle;\n",
       "    }\n",
       "\n",
       "    .dataframe tbody tr th {\n",
       "        vertical-align: top;\n",
       "    }\n",
       "\n",
       "    .dataframe thead th {\n",
       "        text-align: right;\n",
       "    }\n",
       "</style>\n",
       "<table border=\"1\" class=\"dataframe\">\n",
       "  <thead>\n",
       "    <tr style=\"text-align: right;\">\n",
       "      <th></th>\n",
       "      <th>Temperature_Sensor</th>\n",
       "      <th>Failure</th>\n",
       "    </tr>\n",
       "  </thead>\n",
       "  <tbody>\n",
       "    <tr>\n",
       "      <th>2</th>\n",
       "      <td>28.80</td>\n",
       "      <td>False</td>\n",
       "    </tr>\n",
       "    <tr>\n",
       "      <th>4</th>\n",
       "      <td>29.31</td>\n",
       "      <td>True</td>\n",
       "    </tr>\n",
       "    <tr>\n",
       "      <th>7</th>\n",
       "      <td>30.13</td>\n",
       "      <td>False</td>\n",
       "    </tr>\n",
       "    <tr>\n",
       "      <th>8</th>\n",
       "      <td>30.41</td>\n",
       "      <td>True</td>\n",
       "    </tr>\n",
       "    <tr>\n",
       "      <th>9</th>\n",
       "      <td>30.64</td>\n",
       "      <td>False</td>\n",
       "    </tr>\n",
       "    <tr>\n",
       "      <th>5</th>\n",
       "      <td>30.74</td>\n",
       "      <td>True</td>\n",
       "    </tr>\n",
       "    <tr>\n",
       "      <th>0</th>\n",
       "      <td>31.37</td>\n",
       "      <td>False</td>\n",
       "    </tr>\n",
       "    <tr>\n",
       "      <th>1</th>\n",
       "      <td>31.92</td>\n",
       "      <td>True</td>\n",
       "    </tr>\n",
       "    <tr>\n",
       "      <th>6</th>\n",
       "      <td>32.75</td>\n",
       "      <td>False</td>\n",
       "    </tr>\n",
       "    <tr>\n",
       "      <th>3</th>\n",
       "      <td>34.46</td>\n",
       "      <td>False</td>\n",
       "    </tr>\n",
       "  </tbody>\n",
       "</table>\n",
       "</div>"
      ],
      "text/plain": [
       "   Temperature_Sensor  Failure\n",
       "2               28.80    False\n",
       "4               29.31     True\n",
       "7               30.13    False\n",
       "8               30.41     True\n",
       "9               30.64    False\n",
       "5               30.74     True\n",
       "0               31.37    False\n",
       "1               31.92     True\n",
       "6               32.75    False\n",
       "3               34.46    False"
      ]
     },
     "execution_count": 784,
     "metadata": {},
     "output_type": "execute_result"
    }
   ],
   "source": [
    "my_list = []\n",
    "averages = []\n",
    "\n",
    "for temp in sorted_by_temperature_df[\"Temperature_Sensor\"]:\n",
    "    my_list.append(temp)\n",
    "\n",
    "# Calculate the average for each adjacent pair and round to 2 decimals\n",
    "for i in range(len(my_list) - 1):\n",
    "    average = round((my_list[i] + my_list[i + 1]) / 2, 2)\n",
    "    averages.append(average)\n",
    "\n",
    "print(my_list)\n",
    "print(averages)\n",
    "sorted_by_temperature_df[[\"Temperature_Sensor\", \"Failure\"]]"
   ]
  },
  {
   "cell_type": "markdown",
   "metadata": {},
   "source": [
    "Step 3: Calculate the impurity values for each average temperature."
   ]
  },
  {
   "cell_type": "markdown",
   "metadata": {},
   "source": [
    "1. Temperature < 29.05 --> Gini Impurity = 0.445\n",
    "2. Temperature < 29.72 --> Gini Impurity = 0.476\n",
    "3. Temperature < 30.27 --> Gini Impurity = 0.476\n",
    "4. Temperature < 30.52 --> Gini Impurity = 0.45\n",
    "5. Temperature < 30.69 --> Gini Impurity = 0.48\n",
    "6. Temperature < 31.05 --> Gini Impurity = 0.45\n",
    "7. Temperature < 31.65 --> Gini Impurity = 0.476\n",
    "8. Temperature < 32.34 --> Gini Impurity = 0.476\n",
    "9. Temperature < 33.61 --> Gini Impurity = 0.445"
   ]
  },
  {
   "cell_type": "code",
   "execution_count": 785,
   "metadata": {},
   "outputs": [
    {
     "data": {
      "text/plain": [
       "0.44"
      ]
     },
     "execution_count": 785,
     "metadata": {},
     "output_type": "execute_result"
    }
   ],
   "source": [
    "# 1. Temperature < 29.05 \n",
    "gini_left = 0\n",
    "gini_right = np.round(1-np.square(5/9)-np.square(4/9), decimals=2)\n",
    "total_gini = np.round(0 + (9/10)*gini_right, decimals=2)\n",
    "total_gini"
   ]
  },
  {
   "cell_type": "code",
   "execution_count": 786,
   "metadata": {},
   "outputs": [
    {
     "data": {
      "text/plain": [
       "0.48"
      ]
     },
     "execution_count": 786,
     "metadata": {},
     "output_type": "execute_result"
    }
   ],
   "source": [
    "# 2. Temperature < 29.72\n",
    "gini_left = np.round(1-np.square(1/2)-np.square(1/2), decimals=2)\n",
    "gini_right = np.round(1-np.square(5/8)-np.square(3/8), decimals=2)\n",
    "total_gini = np.round((2/10)*gini_left + (8/10)*gini_right, decimals=2)\n",
    "total_gini"
   ]
  },
  {
   "cell_type": "code",
   "execution_count": 787,
   "metadata": {},
   "outputs": [
    {
     "data": {
      "text/plain": [
       "0.48"
      ]
     },
     "execution_count": 787,
     "metadata": {},
     "output_type": "execute_result"
    }
   ],
   "source": [
    "# 3. Temperature < 30.27\n",
    "gini_left = np.round(1-np.square(1/3)-np.square(2/3), decimals=2)\n",
    "gini_right = np.round(1-np.square(4/7)-np.square(3/7), decimals=2)\n",
    "total_gini = np.round((3/10)*gini_left + (7/10)*gini_right, decimals=2)\n",
    "total_gini"
   ]
  },
  {
   "cell_type": "code",
   "execution_count": 788,
   "metadata": {},
   "outputs": [
    {
     "data": {
      "text/plain": [
       "0.46"
      ]
     },
     "execution_count": 788,
     "metadata": {},
     "output_type": "execute_result"
    }
   ],
   "source": [
    "# 4. Temperature < 30.52\n",
    "gini_left = np.round(1-np.square(2/4)-np.square(2/4), decimals=2)\n",
    "gini_right = np.round(1-np.square(4/6)-np.square(2/6), decimals=2)\n",
    "total_gini = np.round((4/10)*gini_left + (6/10)*gini_right, decimals=2)\n",
    "total_gini"
   ]
  },
  {
   "cell_type": "code",
   "execution_count": 789,
   "metadata": {},
   "outputs": [
    {
     "data": {
      "text/plain": [
       "0.48"
      ]
     },
     "execution_count": 789,
     "metadata": {},
     "output_type": "execute_result"
    }
   ],
   "source": [
    "# 5. Temperature < 30.69\n",
    "gini_left = np.round(1-np.square(2/5)-np.square(3/5), decimals=2)\n",
    "gini_right = np.round(1-np.square(3/5)-np.square(2/5), decimals=2)\n",
    "total_gini = np.round((5/10)*gini_left + (5/10)*gini_right, decimals=2)\n",
    "total_gini"
   ]
  },
  {
   "cell_type": "code",
   "execution_count": 790,
   "metadata": {},
   "outputs": [
    {
     "data": {
      "text/plain": [
       "0.45"
      ]
     },
     "execution_count": 790,
     "metadata": {},
     "output_type": "execute_result"
    }
   ],
   "source": [
    "# 6. Temperature < 31.05\n",
    "gini_left = np.round(1-np.square(3/6)-np.square(3/6), decimals=2)\n",
    "gini_right = np.round(1-np.square(3/4)-np.square(1/4), decimals=2)\n",
    "total_gini = np.round((6/10)*gini_left + (4/10)*gini_right, decimals=2)\n",
    "total_gini"
   ]
  },
  {
   "cell_type": "code",
   "execution_count": 791,
   "metadata": {},
   "outputs": [
    {
     "data": {
      "text/plain": [
       "0.48"
      ]
     },
     "execution_count": 791,
     "metadata": {},
     "output_type": "execute_result"
    }
   ],
   "source": [
    "# 7. Temperature < 31.65\n",
    "gini_left = np.round(1-np.square(3/7)-np.square(4/7), decimals=2)\n",
    "gini_right = np.round(1-np.square(2/3)-np.square(1/3), decimals=2)\n",
    "total_gini = np.round((7/10)*gini_left + (3/10)*gini_right, decimals=2)\n",
    "total_gini"
   ]
  },
  {
   "cell_type": "code",
   "execution_count": 792,
   "metadata": {},
   "outputs": [
    {
     "data": {
      "text/plain": [
       "0.4"
      ]
     },
     "execution_count": 792,
     "metadata": {},
     "output_type": "execute_result"
    }
   ],
   "source": [
    "# 8. Temperature < 32.34\n",
    "gini_left = np.round(1-np.square(4/8)-np.square(4/8), decimals=2)\n",
    "gini_right = np.round(1-np.square(2/2)-np.square(0/2), decimals=2)\n",
    "total_gini = np.round((8/10)*gini_left + (2/10)*gini_right, decimals=2)\n",
    "total_gini"
   ]
  },
  {
   "cell_type": "code",
   "execution_count": 793,
   "metadata": {},
   "outputs": [
    {
     "data": {
      "text/plain": [
       "0.44"
      ]
     },
     "execution_count": 793,
     "metadata": {},
     "output_type": "execute_result"
    }
   ],
   "source": [
    "# 9. Temperature < 33.61\n",
    "gini_left = np.round(1-np.square(4/9)-np.square(5/9), decimals=2)\n",
    "gini_right = np.round(1-np.square(1/1)-np.square(0/1), decimals=2)\n",
    "total_gini = np.round((9/10)*gini_left + (1/10)*gini_right, decimals=2)\n",
    "total_gini"
   ]
  },
  {
   "cell_type": "markdown",
   "metadata": {},
   "source": [
    "From the above, the lowest Gini Impurity occurs when we separate using Temperature < 32.34\n",
    "\n",
    "So this is the cutoff and impurity value we will use when we compare Temperature to Capacitive_Sensor or Inductive_Sensor."
   ]
  },
  {
   "cell_type": "markdown",
   "metadata": {},
   "source": [
    "* Of the 2 samples with Temperature > 32.34 is True, 0 were correctly classified as having machine Failure and 2 were incorrectly classified.\n",
    "\n",
    "* Of the 8 samples with Temperature > 32.34 is False, 4 were correctly classified as and 4 were incorrectly classified."
   ]
  },
  {
   "cell_type": "code",
   "execution_count": 794,
   "metadata": {},
   "outputs": [
    {
     "data": {
      "text/plain": [
       "0.4"
      ]
     },
     "execution_count": 794,
     "metadata": {},
     "output_type": "execute_result"
    }
   ],
   "source": [
    "# Calculate the Gini Impurity for \"Temperature_Sensor\" > 32.34\n",
    "\n",
    "gini_left = np.round((1 - np.square(0/2) - np.square(2/2)), decimals=2)\n",
    "gini_right = np.round((1 - np.square(4/8) - np.square(4/8)), decimals=2)\n",
    "total_gini = np.round((2/10)*gini_left + (8/10)*gini_right, decimals=2)\n",
    "total_gini"
   ]
  },
  {
   "cell_type": "markdown",
   "metadata": {},
   "source": [
    "So by comparing the Gini Index for:\n",
    "* Capacitive_Sensor: 0.45 \n",
    "* Inductive_Sensor: 0.48\n",
    "* Temperature_Sensor: 0.4\n",
    "\n",
    "The Gini Index for Temperature_Sensor is the lowest, so this will be the first stump in the forest."
   ]
  },
  {
   "cell_type": "markdown",
   "metadata": {},
   "source": [
    "<b>2. Now we need to determine how much say this stump will have in the final classification.</b>\n",
    "\n",
    "Remember, some stumps get more say in the final classification than others.\n",
    "\n",
    "We determine how much say a stump has in the final classification based on how well it classified the samples."
   ]
  },
  {
   "cell_type": "markdown",
   "metadata": {},
   "source": [
    "By looking at the previous Temperature_Sensor classification below, this stump made 5 errors:\n",
    "\n",
    "* Of the 1 sample with Temperature > 32,34 is True, 0 were correctly classified as having machine Failure and <b><u>2 were incorrectly classified</b></u>.\n",
    "\n",
    "* Of the 9 samples with Temperature > 32,34 is False, 4 were correctly classified as and <b><u>4 were incorrectly classified</b></u>.\n",
    "\n",
    "The data with index 1, 3, 4, 5, 6 and 8 had Machine Failures, but the stump says they do not."
   ]
  },
  {
   "cell_type": "code",
   "execution_count": 795,
   "metadata": {},
   "outputs": [
    {
     "name": "stdout",
     "output_type": "stream",
     "text": [
      "Capacitive_Sensor      True\n",
      "Inductive_Sensor       True\n",
      "Temperature_Sensor    31.92\n",
      "Failure                True\n",
      "Sample_Weight           0.1\n",
      "Name: 1, dtype: object\n",
      "Capacitive_Sensor      True\n",
      "Inductive_Sensor      False\n",
      "Temperature_Sensor    34.46\n",
      "Failure               False\n",
      "Sample_Weight           0.1\n",
      "Name: 3, dtype: object\n",
      "Capacitive_Sensor      True\n",
      "Inductive_Sensor       True\n",
      "Temperature_Sensor    29.31\n",
      "Failure                True\n",
      "Sample_Weight           0.1\n",
      "Name: 4, dtype: object\n",
      "Capacitive_Sensor     False\n",
      "Inductive_Sensor       True\n",
      "Temperature_Sensor    30.74\n",
      "Failure                True\n",
      "Sample_Weight           0.1\n",
      "Name: 5, dtype: object\n",
      "Capacitive_Sensor      True\n",
      "Inductive_Sensor       True\n",
      "Temperature_Sensor    32.75\n",
      "Failure               False\n",
      "Sample_Weight           0.1\n",
      "Name: 6, dtype: object\n",
      "Capacitive_Sensor      True\n",
      "Inductive_Sensor      False\n",
      "Temperature_Sensor    30.41\n",
      "Failure                True\n",
      "Sample_Weight           0.1\n",
      "Name: 8, dtype: object\n"
     ]
    }
   ],
   "source": [
    "print(df.loc[1])\n",
    "print(df.loc[3])\n",
    "print(df.loc[4])\n",
    "print(df.loc[5])\n",
    "print(df.loc[6])\n",
    "print(df.loc[8])"
   ]
  },
  {
   "cell_type": "markdown",
   "metadata": {},
   "source": [
    "The Total Error for a stump is the sum of the weights associated with the <b><u>incorrectly classified samples</b></u>.\n",
    "\n",
    "Thus, in this case, the Total Error is: <b><u>0.75</b></u>\n",
    "\n",
    "NOTE: Because all of the Sample Weights add up to 1, Total Error will always be between 0, for a perfect stump, and 1, for a horrible stump."
   ]
  },
  {
   "cell_type": "code",
   "execution_count": 796,
   "metadata": {},
   "outputs": [
    {
     "data": {
      "text/plain": [
       "0.75"
      ]
     },
     "execution_count": 796,
     "metadata": {},
     "output_type": "execute_result"
    }
   ],
   "source": [
    "total_error_first_stump = (1/8)*6\n",
    "total_error_first_stump"
   ]
  },
  {
   "cell_type": "markdown",
   "metadata": {},
   "source": [
    "The Amount of Say this stump has in the final classification with the following formula:\n",
    "\n",
    "<img src=\"amount-of-say-formula.webp\">"
   ]
  },
  {
   "cell_type": "code",
   "execution_count": 797,
   "metadata": {},
   "outputs": [
    {
     "data": {
      "text/plain": [
       "-0.55"
      ]
     },
     "execution_count": 797,
     "metadata": {},
     "output_type": "execute_result"
    }
   ],
   "source": [
    "amount_of_say_first_stump = np.round((1/2)*np.log((1-total_error_first_stump)/total_error_first_stump), decimals=2)\n",
    "amount_of_say_first_stump"
   ]
  },
  {
   "cell_type": "markdown",
   "metadata": {},
   "source": [
    "So, the Amount of Say that this stump has on the final classification is <b>-0.55</b>."
   ]
  },
  {
   "cell_type": "markdown",
   "metadata": {},
   "source": [
    "We can draw a graph of the Amount of Say by plugging in a bunch of numbers between 0 and 1 for Total Error.\n",
    "\n",
    "<img src=\"amount-of-say-vs-total-error-graph.webp\">"
   ]
  },
  {
   "cell_type": "markdown",
   "metadata": {},
   "source": [
    "The blue line tells us the Amount of Say for Total Error values between 0 and 1.\n",
    "\n",
    "* When a stump does a good job, and the Total Error is small, then the Amount of Say is a relatively large positive value.\n",
    "\n",
    "* When a stump is not doing a good job at classification (i.e. half of the samples are correctly classified and half are incorrectly classified) and Total Error = 0.5, then the Amount of Say will be 0.\n",
    "\n",
    "* When a stump does a terrible job and the Total Error is close to 1 (i.e. if the stump consistently gives the opposite classification), then the Amount of Say will be a large negative value.\n",
    "\n",
    "So in our case above (Total Error is 0.75 and the Amount of Say is -0.55), if a stump votes Yes/ True for Machine \"Failure\", the negative Amount of Say will turn that vote into \"Not Machine Failure\"."
   ]
  },
  {
   "cell_type": "markdown",
   "metadata": {},
   "source": [
    "Now, let's work out how much say Capacitive_Sensor stump would have had if it had been the best stump."
   ]
  },
  {
   "cell_type": "code",
   "execution_count": 798,
   "metadata": {},
   "outputs": [
    {
     "data": {
      "text/html": [
       "<div>\n",
       "<style scoped>\n",
       "    .dataframe tbody tr th:only-of-type {\n",
       "        vertical-align: middle;\n",
       "    }\n",
       "\n",
       "    .dataframe tbody tr th {\n",
       "        vertical-align: top;\n",
       "    }\n",
       "\n",
       "    .dataframe thead th {\n",
       "        text-align: right;\n",
       "    }\n",
       "</style>\n",
       "<table border=\"1\" class=\"dataframe\">\n",
       "  <thead>\n",
       "    <tr style=\"text-align: right;\">\n",
       "      <th></th>\n",
       "      <th>Capacitive_Sensor</th>\n",
       "      <th>Failure</th>\n",
       "    </tr>\n",
       "  </thead>\n",
       "  <tbody>\n",
       "    <tr>\n",
       "      <th>0</th>\n",
       "      <td>True</td>\n",
       "      <td>False</td>\n",
       "    </tr>\n",
       "    <tr>\n",
       "      <th>1</th>\n",
       "      <td>True</td>\n",
       "      <td>True</td>\n",
       "    </tr>\n",
       "    <tr>\n",
       "      <th>2</th>\n",
       "      <td>False</td>\n",
       "      <td>False</td>\n",
       "    </tr>\n",
       "    <tr>\n",
       "      <th>3</th>\n",
       "      <td>True</td>\n",
       "      <td>False</td>\n",
       "    </tr>\n",
       "    <tr>\n",
       "      <th>4</th>\n",
       "      <td>True</td>\n",
       "      <td>True</td>\n",
       "    </tr>\n",
       "    <tr>\n",
       "      <th>5</th>\n",
       "      <td>False</td>\n",
       "      <td>True</td>\n",
       "    </tr>\n",
       "    <tr>\n",
       "      <th>6</th>\n",
       "      <td>True</td>\n",
       "      <td>False</td>\n",
       "    </tr>\n",
       "    <tr>\n",
       "      <th>7</th>\n",
       "      <td>False</td>\n",
       "      <td>False</td>\n",
       "    </tr>\n",
       "    <tr>\n",
       "      <th>8</th>\n",
       "      <td>True</td>\n",
       "      <td>True</td>\n",
       "    </tr>\n",
       "    <tr>\n",
       "      <th>9</th>\n",
       "      <td>False</td>\n",
       "      <td>False</td>\n",
       "    </tr>\n",
       "  </tbody>\n",
       "</table>\n",
       "</div>"
      ],
      "text/plain": [
       "   Capacitive_Sensor  Failure\n",
       "0               True    False\n",
       "1               True     True\n",
       "2              False    False\n",
       "3               True    False\n",
       "4               True     True\n",
       "5              False     True\n",
       "6               True    False\n",
       "7              False    False\n",
       "8               True     True\n",
       "9              False    False"
      ]
     },
     "execution_count": 798,
     "metadata": {},
     "output_type": "execute_result"
    }
   ],
   "source": [
    "df[[\"Capacitive_Sensor\", \"Failure\"]]"
   ]
  },
  {
   "cell_type": "markdown",
   "metadata": {},
   "source": [
    "Of the 6 samples with Capacitive_Sensor is True, 3 were correctly classified as having Machine Failure and <b><u>3 were incorrectly classified.</u></b>\n",
    "\n",
    "Of the 4 samples with Capacitive_Sensor is False, 3 were correctly classified as <b>not</b> having Machine Failure and <b><u>1 were incorrectly classified.</b></u>\n",
    "\n",
    "The data with index 0, 3, 5, and 6 had Machine Failures, but the stump says they do not."
   ]
  },
  {
   "cell_type": "code",
   "execution_count": 799,
   "metadata": {},
   "outputs": [
    {
     "name": "stdout",
     "output_type": "stream",
     "text": [
      "0.5\n"
     ]
    },
    {
     "data": {
      "text/plain": [
       "0.0"
      ]
     },
     "execution_count": 799,
     "metadata": {},
     "output_type": "execute_result"
    }
   ],
   "source": [
    "total_error_second_stump = (1/8)*4\n",
    "print(total_error_second_stump)\n",
    "\n",
    "amount_of_say_second_stump = (1/2)*np.log((1-total_error_second_stump)/total_error_second_stump)\n",
    "amount_of_say_second_stump"
   ]
  },
  {
   "cell_type": "markdown",
   "metadata": {},
   "source": [
    "So, the Amount of Say that this stump has on the final classification is <b>0.0</b>."
   ]
  },
  {
   "cell_type": "markdown",
   "metadata": {},
   "source": [
    "Now, let's work out how much say Inductive_Sensor stump would have had if it had been the best stump."
   ]
  },
  {
   "cell_type": "code",
   "execution_count": 800,
   "metadata": {},
   "outputs": [
    {
     "data": {
      "text/html": [
       "<div>\n",
       "<style scoped>\n",
       "    .dataframe tbody tr th:only-of-type {\n",
       "        vertical-align: middle;\n",
       "    }\n",
       "\n",
       "    .dataframe tbody tr th {\n",
       "        vertical-align: top;\n",
       "    }\n",
       "\n",
       "    .dataframe thead th {\n",
       "        text-align: right;\n",
       "    }\n",
       "</style>\n",
       "<table border=\"1\" class=\"dataframe\">\n",
       "  <thead>\n",
       "    <tr style=\"text-align: right;\">\n",
       "      <th></th>\n",
       "      <th>Inductive_Sensor</th>\n",
       "      <th>Failure</th>\n",
       "    </tr>\n",
       "  </thead>\n",
       "  <tbody>\n",
       "    <tr>\n",
       "      <th>0</th>\n",
       "      <td>False</td>\n",
       "      <td>False</td>\n",
       "    </tr>\n",
       "    <tr>\n",
       "      <th>1</th>\n",
       "      <td>True</td>\n",
       "      <td>True</td>\n",
       "    </tr>\n",
       "    <tr>\n",
       "      <th>2</th>\n",
       "      <td>True</td>\n",
       "      <td>False</td>\n",
       "    </tr>\n",
       "    <tr>\n",
       "      <th>3</th>\n",
       "      <td>False</td>\n",
       "      <td>False</td>\n",
       "    </tr>\n",
       "    <tr>\n",
       "      <th>4</th>\n",
       "      <td>True</td>\n",
       "      <td>True</td>\n",
       "    </tr>\n",
       "    <tr>\n",
       "      <th>5</th>\n",
       "      <td>True</td>\n",
       "      <td>True</td>\n",
       "    </tr>\n",
       "    <tr>\n",
       "      <th>6</th>\n",
       "      <td>True</td>\n",
       "      <td>False</td>\n",
       "    </tr>\n",
       "    <tr>\n",
       "      <th>7</th>\n",
       "      <td>True</td>\n",
       "      <td>False</td>\n",
       "    </tr>\n",
       "    <tr>\n",
       "      <th>8</th>\n",
       "      <td>False</td>\n",
       "      <td>True</td>\n",
       "    </tr>\n",
       "    <tr>\n",
       "      <th>9</th>\n",
       "      <td>True</td>\n",
       "      <td>False</td>\n",
       "    </tr>\n",
       "  </tbody>\n",
       "</table>\n",
       "</div>"
      ],
      "text/plain": [
       "   Inductive_Sensor  Failure\n",
       "0             False    False\n",
       "1              True     True\n",
       "2              True    False\n",
       "3             False    False\n",
       "4              True     True\n",
       "5              True     True\n",
       "6              True    False\n",
       "7              True    False\n",
       "8             False     True\n",
       "9              True    False"
      ]
     },
     "execution_count": 800,
     "metadata": {},
     "output_type": "execute_result"
    }
   ],
   "source": [
    "df[[\"Inductive_Sensor\", \"Failure\"]]"
   ]
  },
  {
   "cell_type": "markdown",
   "metadata": {},
   "source": [
    "Of the 7 samples with Inductive_Sensor is True, 3 were correctly classified as having machine Failure and <b><u>4 were incorrectly classified.</b></u>\n",
    "\n",
    "Of the 3 samples with Inductive_Sensor is False, 2 were correctly classified and <b><u>1 were incorrectly classified.</b></u>\n",
    "\n",
    "The data with index 2, 6, 7, 8 and 9 had Machine Failures, but the stump says they do not."
   ]
  },
  {
   "cell_type": "code",
   "execution_count": 801,
   "metadata": {},
   "outputs": [
    {
     "name": "stdout",
     "output_type": "stream",
     "text": [
      "0.625\n"
     ]
    },
    {
     "data": {
      "text/plain": [
       "-0.26"
      ]
     },
     "execution_count": 801,
     "metadata": {},
     "output_type": "execute_result"
    }
   ],
   "source": [
    "total_error_third_stump = (1/8)*5\n",
    "print(total_error_third_stump)\n",
    "\n",
    "amount_of_say_third_stump = np.round((1/2)*np.log((1-total_error_third_stump)/total_error_third_stump), decimals=2)\n",
    "amount_of_say_third_stump"
   ]
  },
  {
   "cell_type": "markdown",
   "metadata": {},
   "source": [
    "So, the Amount of Say that this stump has on the final classification is <b>-0.26</b>."
   ]
  },
  {
   "cell_type": "markdown",
   "metadata": {},
   "source": [
    "Now we know how the Sample Weights for the incorrectly classified samples are used to determine the Amount of Say each stump gets."
   ]
  },
  {
   "cell_type": "markdown",
   "metadata": {},
   "source": [
    "<b>3. Now we need to learn how to modify the weights so that the next stump will take the errors that the current stump made into account.</b>"
   ]
  },
  {
   "cell_type": "markdown",
   "metadata": {},
   "source": [
    "At the very start, we give each sample a weight that indicates how important it is to be correctly classified where all of the Sample Weights were the same (1/10).\n",
    "\n",
    "This meant that we did not emphasize the importance of correctly classifying any particular sample.\n",
    "\n",
    "But since the first stump incorrectly classified 6 samples (Data with index 1, 3, 4, 5, 6 and 8 with Temperature less than 32.34), we will emphasize the need for the next stump to correctly classify it by <b><u>increasing its Sample Weights</u></b> and <b><u>decreasing all of the other Sample Weights</u></b>\n",
    "\n",
    "Let's start by increasing the Sample Weight for the incorrectly classified samples.\n",
    "\n",
    "This is the formula we will use to increase the Sample Weight for the samples that was incorrectly classifed:\n",
    "\n",
    "<img src=\"incorrectly-classified-new-sample-weight-formula.webp\">"
   ]
  },
  {
   "cell_type": "code",
   "execution_count": 802,
   "metadata": {},
   "outputs": [
    {
     "name": "stdout",
     "output_type": "stream",
     "text": [
      "-0.55\n",
      "0.5769498103804866\n"
     ]
    },
    {
     "data": {
      "text/plain": [
       "0.06"
      ]
     },
     "execution_count": 802,
     "metadata": {},
     "output_type": "execute_result"
    }
   ],
   "source": [
    "print(amount_of_say_first_stump)\n",
    "print(np.exp(amount_of_say_first_stump))\n",
    "new_sample_weight_incorrectly_classified = np.round((1/10) * np.exp(amount_of_say_first_stump), decimals=2)\n",
    "new_sample_weight_incorrectly_classified"
   ]
  },
  {
   "cell_type": "markdown",
   "metadata": {},
   "source": [
    "\n",
    "This means that the New Sample Weight for the incorrectly classified samples is 0.06, which is less than the old one (1/10 = 0.1)"
   ]
  },
  {
   "cell_type": "markdown",
   "metadata": {},
   "source": [
    "To get a better understanding of how this part will scale the previous Sample Weight, we can use the graph below (screenshot from StatQuest with Josh Starmer on YouTube):\n",
    "\n",
    "<img src=\"positive-amount-of-say-vs-new-sample-weight-graph.png\">"
   ]
  },
  {
   "cell_type": "markdown",
   "metadata": {},
   "source": [
    "When the Amount of Say is relatively large (i.e. last stump did a good job classifying samples), then we will scale the previous Sample Weight with a large number.\n",
    "\n",
    "This means that the New Sample Weight will be much larger than the old one.\n",
    "\n",
    "When the Amount of Say is relatively low (i.e. the last stump did not do a good job classifying samples), then the previous Sample Weight is scaled by a relatively small number.\n",
    "\n",
    "This means that the New Sample Weight will only be a little larger than the old one."
   ]
  },
  {
   "cell_type": "markdown",
   "metadata": {},
   "source": [
    "Now we need to decrease the Sample Weights for all of the correctly classified samples.\n",
    "\n",
    "This is the formula we will use to decrease the Sample Weights:\n",
    "\n",
    "<img src=\"correctly-classified-new-sample-weight-formula.webp\">\n",
    "\n",
    "The big difference is the negative sign in front of Amount of Say.\n",
    "\n",
    "The first stump correctly classified 4 samples: Data with index 0, 2, 7 and 9"
   ]
  },
  {
   "cell_type": "code",
   "execution_count": 803,
   "metadata": {},
   "outputs": [
    {
     "name": "stdout",
     "output_type": "stream",
     "text": [
      "-0.55\n",
      "1.7332530178673953\n"
     ]
    },
    {
     "data": {
      "text/plain": [
       "0.17"
      ]
     },
     "execution_count": 803,
     "metadata": {},
     "output_type": "execute_result"
    }
   ],
   "source": [
    "print(amount_of_say_first_stump)\n",
    "print(np.exp(-amount_of_say_first_stump))\n",
    "new_sample_weight_correctly_classified = np.round((1/10) * np.exp(-amount_of_say_first_stump), decimals=2)\n",
    "new_sample_weight_correctly_classified"
   ]
  },
  {
   "cell_type": "markdown",
   "metadata": {},
   "source": [
    "This means that the New Sample Weight for the correctly classified samples is 0.17, which is slightly more than the old one (1/10 = 0.1)"
   ]
  },
  {
   "cell_type": "markdown",
   "metadata": {},
   "source": [
    "To get a better understanding of how this part will scale the previous Sample Weight, we can use the graph below:\n",
    "\n",
    "<img src=\"negative-amount-of-say-vs-new-sample-weight-graph.png\">"
   ]
  },
  {
   "cell_type": "markdown",
   "metadata": {},
   "source": [
    "When the Amount of Say is relatively large (i.e. last stump did a good job classifying samples), then we scale the Sample Weight by a value very close to 0.\n",
    "\n",
    "This means that the New Sample Weight will be very small.\n",
    "\n",
    "When the Amount of Say is relatively low (i.e. the last stump did not do a good job classifying samples), then the previous Sample Weight is scaled by a value close to 1.\n",
    "\n",
    "This means that the New Sample Weight will be just a little smaller than the old one."
   ]
  },
  {
   "cell_type": "markdown",
   "metadata": {},
   "source": [
    "We will keep track of the <b>New Sample Weights</b> in a new column.\n",
    "\n",
    "* We plug in 0.06 for the samples that was incorrectly classified (Data with index 1, 3, 4, 5, 6 and 8)\n",
    "* We plug in 0.17 for the samples that was correctly classified (Data with index 0, 2, 7 and 9)"
   ]
  },
  {
   "cell_type": "code",
   "execution_count": 804,
   "metadata": {},
   "outputs": [
    {
     "name": "stdout",
     "output_type": "stream",
     "text": [
      "1.57\n"
     ]
    },
    {
     "data": {
      "text/html": [
       "<div>\n",
       "<style scoped>\n",
       "    .dataframe tbody tr th:only-of-type {\n",
       "        vertical-align: middle;\n",
       "    }\n",
       "\n",
       "    .dataframe tbody tr th {\n",
       "        vertical-align: top;\n",
       "    }\n",
       "\n",
       "    .dataframe thead th {\n",
       "        text-align: right;\n",
       "    }\n",
       "</style>\n",
       "<table border=\"1\" class=\"dataframe\">\n",
       "  <thead>\n",
       "    <tr style=\"text-align: right;\">\n",
       "      <th></th>\n",
       "      <th>Capacitive_Sensor</th>\n",
       "      <th>Inductive_Sensor</th>\n",
       "      <th>Temperature_Sensor</th>\n",
       "      <th>Failure</th>\n",
       "      <th>Sample_Weight</th>\n",
       "      <th>New_Weight</th>\n",
       "    </tr>\n",
       "  </thead>\n",
       "  <tbody>\n",
       "    <tr>\n",
       "      <th>0</th>\n",
       "      <td>True</td>\n",
       "      <td>False</td>\n",
       "      <td>31.37</td>\n",
       "      <td>False</td>\n",
       "      <td>0.1</td>\n",
       "      <td>0.17</td>\n",
       "    </tr>\n",
       "    <tr>\n",
       "      <th>1</th>\n",
       "      <td>True</td>\n",
       "      <td>True</td>\n",
       "      <td>31.92</td>\n",
       "      <td>True</td>\n",
       "      <td>0.1</td>\n",
       "      <td>0.06</td>\n",
       "    </tr>\n",
       "    <tr>\n",
       "      <th>2</th>\n",
       "      <td>False</td>\n",
       "      <td>True</td>\n",
       "      <td>28.80</td>\n",
       "      <td>False</td>\n",
       "      <td>0.1</td>\n",
       "      <td>0.17</td>\n",
       "    </tr>\n",
       "    <tr>\n",
       "      <th>3</th>\n",
       "      <td>True</td>\n",
       "      <td>False</td>\n",
       "      <td>34.46</td>\n",
       "      <td>False</td>\n",
       "      <td>0.1</td>\n",
       "      <td>0.06</td>\n",
       "    </tr>\n",
       "    <tr>\n",
       "      <th>4</th>\n",
       "      <td>True</td>\n",
       "      <td>True</td>\n",
       "      <td>29.31</td>\n",
       "      <td>True</td>\n",
       "      <td>0.1</td>\n",
       "      <td>0.06</td>\n",
       "    </tr>\n",
       "    <tr>\n",
       "      <th>5</th>\n",
       "      <td>False</td>\n",
       "      <td>True</td>\n",
       "      <td>30.74</td>\n",
       "      <td>True</td>\n",
       "      <td>0.1</td>\n",
       "      <td>0.06</td>\n",
       "    </tr>\n",
       "    <tr>\n",
       "      <th>6</th>\n",
       "      <td>True</td>\n",
       "      <td>True</td>\n",
       "      <td>32.75</td>\n",
       "      <td>False</td>\n",
       "      <td>0.1</td>\n",
       "      <td>0.06</td>\n",
       "    </tr>\n",
       "    <tr>\n",
       "      <th>7</th>\n",
       "      <td>False</td>\n",
       "      <td>True</td>\n",
       "      <td>30.13</td>\n",
       "      <td>False</td>\n",
       "      <td>0.1</td>\n",
       "      <td>0.70</td>\n",
       "    </tr>\n",
       "    <tr>\n",
       "      <th>8</th>\n",
       "      <td>True</td>\n",
       "      <td>False</td>\n",
       "      <td>30.41</td>\n",
       "      <td>True</td>\n",
       "      <td>0.1</td>\n",
       "      <td>0.06</td>\n",
       "    </tr>\n",
       "    <tr>\n",
       "      <th>9</th>\n",
       "      <td>False</td>\n",
       "      <td>True</td>\n",
       "      <td>30.64</td>\n",
       "      <td>False</td>\n",
       "      <td>0.1</td>\n",
       "      <td>0.17</td>\n",
       "    </tr>\n",
       "  </tbody>\n",
       "</table>\n",
       "</div>"
      ],
      "text/plain": [
       "   Capacitive_Sensor  Inductive_Sensor  Temperature_Sensor  Failure  \\\n",
       "0               True             False               31.37    False   \n",
       "1               True              True               31.92     True   \n",
       "2              False              True               28.80    False   \n",
       "3               True             False               34.46    False   \n",
       "4               True              True               29.31     True   \n",
       "5              False              True               30.74     True   \n",
       "6               True              True               32.75    False   \n",
       "7              False              True               30.13    False   \n",
       "8               True             False               30.41     True   \n",
       "9              False              True               30.64    False   \n",
       "\n",
       "   Sample_Weight  New_Weight  \n",
       "0            0.1        0.17  \n",
       "1            0.1        0.06  \n",
       "2            0.1        0.17  \n",
       "3            0.1        0.06  \n",
       "4            0.1        0.06  \n",
       "5            0.1        0.06  \n",
       "6            0.1        0.06  \n",
       "7            0.1        0.70  \n",
       "8            0.1        0.06  \n",
       "9            0.1        0.17  "
      ]
     },
     "execution_count": 804,
     "metadata": {},
     "output_type": "execute_result"
    }
   ],
   "source": [
    "df[\"New_Weight\"] = [0.17, 0.06, 0.17, 0.06, 0.06, 0.06, 0.06, 0.7, 0.06, 0.17]\n",
    "print(df[\"New_Weight\"].sum())\n",
    "df"
   ]
  },
  {
   "cell_type": "markdown",
   "metadata": {},
   "source": [
    "Now we need to normalize the New Sample Weights so that they will add up to 1.\n",
    "\n",
    "Right now, the sum of New Sample Weights is 1.57 which is more than 1."
   ]
  },
  {
   "cell_type": "code",
   "execution_count": 805,
   "metadata": {},
   "outputs": [
    {
     "data": {
      "text/plain": [
       "1.02"
      ]
     },
     "execution_count": 805,
     "metadata": {},
     "output_type": "execute_result"
    }
   ],
   "source": [
    "df[\"Normalized_Weight\"] = df[\"New_Weight\"]/(df[\"New_Weight\"].sum())\n",
    "df[\"Normalized_Weight\"] = df[\"Normalized_Weight\"].round(3)\n",
    "df[\"Normalized_Weight\"].sum()"
   ]
  },
  {
   "cell_type": "markdown",
   "metadata": {},
   "source": [
    "Now we just transfer the Normalized Sample Weights to the Sample Weights column, since those are what we will use for the next stump."
   ]
  },
  {
   "cell_type": "code",
   "execution_count": 806,
   "metadata": {},
   "outputs": [
    {
     "data": {
      "text/html": [
       "<div>\n",
       "<style scoped>\n",
       "    .dataframe tbody tr th:only-of-type {\n",
       "        vertical-align: middle;\n",
       "    }\n",
       "\n",
       "    .dataframe tbody tr th {\n",
       "        vertical-align: top;\n",
       "    }\n",
       "\n",
       "    .dataframe thead th {\n",
       "        text-align: right;\n",
       "    }\n",
       "</style>\n",
       "<table border=\"1\" class=\"dataframe\">\n",
       "  <thead>\n",
       "    <tr style=\"text-align: right;\">\n",
       "      <th></th>\n",
       "      <th>Capacitive_Sensor</th>\n",
       "      <th>Inductive_Sensor</th>\n",
       "      <th>Temperature_Sensor</th>\n",
       "      <th>Failure</th>\n",
       "      <th>Sample_Weight</th>\n",
       "    </tr>\n",
       "  </thead>\n",
       "  <tbody>\n",
       "    <tr>\n",
       "      <th>0</th>\n",
       "      <td>True</td>\n",
       "      <td>False</td>\n",
       "      <td>31.37</td>\n",
       "      <td>False</td>\n",
       "      <td>0.11</td>\n",
       "    </tr>\n",
       "    <tr>\n",
       "      <th>1</th>\n",
       "      <td>True</td>\n",
       "      <td>True</td>\n",
       "      <td>31.92</td>\n",
       "      <td>True</td>\n",
       "      <td>0.04</td>\n",
       "    </tr>\n",
       "    <tr>\n",
       "      <th>2</th>\n",
       "      <td>False</td>\n",
       "      <td>True</td>\n",
       "      <td>28.80</td>\n",
       "      <td>False</td>\n",
       "      <td>0.11</td>\n",
       "    </tr>\n",
       "    <tr>\n",
       "      <th>3</th>\n",
       "      <td>True</td>\n",
       "      <td>False</td>\n",
       "      <td>34.46</td>\n",
       "      <td>False</td>\n",
       "      <td>0.04</td>\n",
       "    </tr>\n",
       "    <tr>\n",
       "      <th>4</th>\n",
       "      <td>True</td>\n",
       "      <td>True</td>\n",
       "      <td>29.31</td>\n",
       "      <td>True</td>\n",
       "      <td>0.04</td>\n",
       "    </tr>\n",
       "    <tr>\n",
       "      <th>5</th>\n",
       "      <td>False</td>\n",
       "      <td>True</td>\n",
       "      <td>30.74</td>\n",
       "      <td>True</td>\n",
       "      <td>0.04</td>\n",
       "    </tr>\n",
       "    <tr>\n",
       "      <th>6</th>\n",
       "      <td>True</td>\n",
       "      <td>True</td>\n",
       "      <td>32.75</td>\n",
       "      <td>False</td>\n",
       "      <td>0.04</td>\n",
       "    </tr>\n",
       "    <tr>\n",
       "      <th>7</th>\n",
       "      <td>False</td>\n",
       "      <td>True</td>\n",
       "      <td>30.13</td>\n",
       "      <td>False</td>\n",
       "      <td>0.45</td>\n",
       "    </tr>\n",
       "    <tr>\n",
       "      <th>8</th>\n",
       "      <td>True</td>\n",
       "      <td>False</td>\n",
       "      <td>30.41</td>\n",
       "      <td>True</td>\n",
       "      <td>0.04</td>\n",
       "    </tr>\n",
       "    <tr>\n",
       "      <th>9</th>\n",
       "      <td>False</td>\n",
       "      <td>True</td>\n",
       "      <td>30.64</td>\n",
       "      <td>False</td>\n",
       "      <td>0.11</td>\n",
       "    </tr>\n",
       "  </tbody>\n",
       "</table>\n",
       "</div>"
      ],
      "text/plain": [
       "   Capacitive_Sensor  Inductive_Sensor  Temperature_Sensor  Failure  \\\n",
       "0               True             False               31.37    False   \n",
       "1               True              True               31.92     True   \n",
       "2              False              True               28.80    False   \n",
       "3               True             False               34.46    False   \n",
       "4               True              True               29.31     True   \n",
       "5              False              True               30.74     True   \n",
       "6               True              True               32.75    False   \n",
       "7              False              True               30.13    False   \n",
       "8               True             False               30.41     True   \n",
       "9              False              True               30.64    False   \n",
       "\n",
       "   Sample_Weight  \n",
       "0           0.11  \n",
       "1           0.04  \n",
       "2           0.11  \n",
       "3           0.04  \n",
       "4           0.04  \n",
       "5           0.04  \n",
       "6           0.04  \n",
       "7           0.45  \n",
       "8           0.04  \n",
       "9           0.11  "
      ]
     },
     "execution_count": 806,
     "metadata": {},
     "output_type": "execute_result"
    }
   ],
   "source": [
    "df[\"Sample_Weight\"] = df[\"Normalized_Weight\"]\n",
    "df.drop(columns=[\"New_Weight\", \"Normalized_Weight\"], axis=1, inplace=True)\n",
    "df"
   ]
  },
  {
   "cell_type": "markdown",
   "metadata": {},
   "source": [
    "Now we can use the modified Sample Weights to make the second stump in the forest.\n",
    "\n",
    "In theory, we could use the Sample Weights to calculate the Weighted Gini Indexes to determine which variable should split the next stump.\n",
    "\n",
    "The Weighted Gini Index would put more emphasis on correctly classifying this sample (the samples that was misclassified by the last stump).\n",
    "\n",
    "Alternatively, instead of using a Weighted Gini Index, we can <b><u>make a new collection of samples that contains duplicate copies of the samples with the largest Sample Weights.</u></b>\n",
    "\n",
    "We start by making a new empty dataset that is the same size as the original."
   ]
  },
  {
   "cell_type": "code",
   "execution_count": 807,
   "metadata": {},
   "outputs": [
    {
     "data": {
      "text/html": [
       "<div>\n",
       "<style scoped>\n",
       "    .dataframe tbody tr th:only-of-type {\n",
       "        vertical-align: middle;\n",
       "    }\n",
       "\n",
       "    .dataframe tbody tr th {\n",
       "        vertical-align: top;\n",
       "    }\n",
       "\n",
       "    .dataframe thead th {\n",
       "        text-align: right;\n",
       "    }\n",
       "</style>\n",
       "<table border=\"1\" class=\"dataframe\">\n",
       "  <thead>\n",
       "    <tr style=\"text-align: right;\">\n",
       "      <th></th>\n",
       "      <th>Capacitive_Sensor</th>\n",
       "      <th>Inductive_Sensor</th>\n",
       "      <th>Temperature_Sensor</th>\n",
       "      <th>Failure</th>\n",
       "    </tr>\n",
       "  </thead>\n",
       "  <tbody>\n",
       "  </tbody>\n",
       "</table>\n",
       "</div>"
      ],
      "text/plain": [
       "Empty DataFrame\n",
       "Columns: [Capacitive_Sensor, Inductive_Sensor, Temperature_Sensor, Failure]\n",
       "Index: []"
      ]
     },
     "execution_count": 807,
     "metadata": {},
     "output_type": "execute_result"
    }
   ],
   "source": [
    "new_df = pd.DataFrame(columns=(list(df.columns[:4])))\n",
    "new_df\n"
   ]
  },
  {
   "cell_type": "markdown",
   "metadata": {},
   "source": [
    "Then we pick a random number between 0 and 1 and we see where that number falls when we use the Sample Weights like a distribution."
   ]
  },
  {
   "cell_type": "code",
   "execution_count": 808,
   "metadata": {},
   "outputs": [
    {
     "data": {
      "text/html": [
       "<div>\n",
       "<style scoped>\n",
       "    .dataframe tbody tr th:only-of-type {\n",
       "        vertical-align: middle;\n",
       "    }\n",
       "\n",
       "    .dataframe tbody tr th {\n",
       "        vertical-align: top;\n",
       "    }\n",
       "\n",
       "    .dataframe thead th {\n",
       "        text-align: right;\n",
       "    }\n",
       "</style>\n",
       "<table border=\"1\" class=\"dataframe\">\n",
       "  <thead>\n",
       "    <tr style=\"text-align: right;\">\n",
       "      <th></th>\n",
       "      <th>Capacitive_Sensor</th>\n",
       "      <th>Inductive_Sensor</th>\n",
       "      <th>Temperature_Sensor</th>\n",
       "      <th>Failure</th>\n",
       "      <th>Sample_Weight</th>\n",
       "    </tr>\n",
       "  </thead>\n",
       "  <tbody>\n",
       "    <tr>\n",
       "      <th>0</th>\n",
       "      <td>True</td>\n",
       "      <td>False</td>\n",
       "      <td>31.37</td>\n",
       "      <td>False</td>\n",
       "      <td>0.11</td>\n",
       "    </tr>\n",
       "    <tr>\n",
       "      <th>1</th>\n",
       "      <td>True</td>\n",
       "      <td>True</td>\n",
       "      <td>31.92</td>\n",
       "      <td>True</td>\n",
       "      <td>0.04</td>\n",
       "    </tr>\n",
       "    <tr>\n",
       "      <th>2</th>\n",
       "      <td>False</td>\n",
       "      <td>True</td>\n",
       "      <td>28.80</td>\n",
       "      <td>False</td>\n",
       "      <td>0.11</td>\n",
       "    </tr>\n",
       "    <tr>\n",
       "      <th>3</th>\n",
       "      <td>True</td>\n",
       "      <td>False</td>\n",
       "      <td>34.46</td>\n",
       "      <td>False</td>\n",
       "      <td>0.04</td>\n",
       "    </tr>\n",
       "    <tr>\n",
       "      <th>4</th>\n",
       "      <td>True</td>\n",
       "      <td>True</td>\n",
       "      <td>29.31</td>\n",
       "      <td>True</td>\n",
       "      <td>0.04</td>\n",
       "    </tr>\n",
       "    <tr>\n",
       "      <th>5</th>\n",
       "      <td>False</td>\n",
       "      <td>True</td>\n",
       "      <td>30.74</td>\n",
       "      <td>True</td>\n",
       "      <td>0.04</td>\n",
       "    </tr>\n",
       "    <tr>\n",
       "      <th>6</th>\n",
       "      <td>True</td>\n",
       "      <td>True</td>\n",
       "      <td>32.75</td>\n",
       "      <td>False</td>\n",
       "      <td>0.04</td>\n",
       "    </tr>\n",
       "    <tr>\n",
       "      <th>7</th>\n",
       "      <td>False</td>\n",
       "      <td>True</td>\n",
       "      <td>30.13</td>\n",
       "      <td>False</td>\n",
       "      <td>0.45</td>\n",
       "    </tr>\n",
       "    <tr>\n",
       "      <th>8</th>\n",
       "      <td>True</td>\n",
       "      <td>False</td>\n",
       "      <td>30.41</td>\n",
       "      <td>True</td>\n",
       "      <td>0.04</td>\n",
       "    </tr>\n",
       "    <tr>\n",
       "      <th>9</th>\n",
       "      <td>False</td>\n",
       "      <td>True</td>\n",
       "      <td>30.64</td>\n",
       "      <td>False</td>\n",
       "      <td>0.11</td>\n",
       "    </tr>\n",
       "  </tbody>\n",
       "</table>\n",
       "</div>"
      ],
      "text/plain": [
       "   Capacitive_Sensor  Inductive_Sensor  Temperature_Sensor  Failure  \\\n",
       "0               True             False               31.37    False   \n",
       "1               True              True               31.92     True   \n",
       "2              False              True               28.80    False   \n",
       "3               True             False               34.46    False   \n",
       "4               True              True               29.31     True   \n",
       "5              False              True               30.74     True   \n",
       "6               True              True               32.75    False   \n",
       "7              False              True               30.13    False   \n",
       "8               True             False               30.41     True   \n",
       "9              False              True               30.64    False   \n",
       "\n",
       "   Sample_Weight  \n",
       "0           0.11  \n",
       "1           0.04  \n",
       "2           0.11  \n",
       "3           0.04  \n",
       "4           0.04  \n",
       "5           0.04  \n",
       "6           0.04  \n",
       "7           0.45  \n",
       "8           0.04  \n",
       "9           0.11  "
      ]
     },
     "execution_count": 808,
     "metadata": {},
     "output_type": "execute_result"
    }
   ],
   "source": [
    "df"
   ]
  },
  {
   "cell_type": "markdown",
   "metadata": {},
   "source": [
    "If the number is between 0 and 0.15, then we would put the first sample (index 0) into the new collection of samples (new_df)."
   ]
  },
  {
   "cell_type": "code",
   "execution_count": 809,
   "metadata": {},
   "outputs": [
    {
     "data": {
      "text/plain": [
       "1.02"
      ]
     },
     "execution_count": 809,
     "metadata": {},
     "output_type": "execute_result"
    }
   ],
   "source": [
    "df[\"Sample_Weight\"].iloc[0:10].sum()"
   ]
  },
  {
   "cell_type": "code",
   "execution_count": 810,
   "metadata": {},
   "outputs": [
    {
     "data": {
      "text/plain": [
       "0.15"
      ]
     },
     "execution_count": 810,
     "metadata": {},
     "output_type": "execute_result"
    }
   ],
   "source": [
    "# df[\"Sample_Weight\"][0] + df[\"Sample_Weight\"][1]\n",
    "df[\"Sample_Weight\"].iloc[0:2].sum()"
   ]
  },
  {
   "cell_type": "markdown",
   "metadata": {},
   "source": [
    "⬆️ If the number is between 0.15 and 0.22 (0.15 + 0.07 = 0.2), then we would put this sample (index 1) into the new collection of samples."
   ]
  },
  {
   "cell_type": "code",
   "execution_count": 811,
   "metadata": {},
   "outputs": [
    {
     "data": {
      "text/plain": [
       "0.26"
      ]
     },
     "execution_count": 811,
     "metadata": {},
     "output_type": "execute_result"
    }
   ],
   "source": [
    "# df[\"Sample_Weight\"][0] + df[\"Sample_Weight\"][1] + df[\"Sample_Weight\"][2]\n",
    "df[\"Sample_Weight\"].iloc[0:3].sum()"
   ]
  },
  {
   "cell_type": "markdown",
   "metadata": {},
   "source": [
    "⬆️ If the number is between 0.2 and 0.37, then we would put this sample (index 2) into the new collection of samples."
   ]
  },
  {
   "cell_type": "code",
   "execution_count": 812,
   "metadata": {},
   "outputs": [
    {
     "data": {
      "text/plain": [
       "0.3"
      ]
     },
     "execution_count": 812,
     "metadata": {},
     "output_type": "execute_result"
    }
   ],
   "source": [
    "# df[\"Sample_Weight\"][0] + df[\"Sample_Weight\"][1] + df[\"Sample_Weight\"][2] + df[\"Sample_Weight\"][3]\n",
    "df[\"Sample_Weight\"].iloc[0:4].sum()"
   ]
  },
  {
   "cell_type": "markdown",
   "metadata": {},
   "source": [
    "⬆️If the number is between 0.37 and 0.44, then we would put this sample (index 3) into the new collection of samples."
   ]
  },
  {
   "cell_type": "code",
   "execution_count": 813,
   "metadata": {},
   "outputs": [
    {
     "data": {
      "text/plain": [
       "0.33999999999999997"
      ]
     },
     "execution_count": 813,
     "metadata": {},
     "output_type": "execute_result"
    }
   ],
   "source": [
    "# df[\"Sample_Weight\"][0] + df[\"Sample_Weight\"][1] + df[\"Sample_Weight\"][2] + df[\"Sample_Weight\"][3] + df[\"Sample_Weight\"][4]\n",
    "df[\"Sample_Weight\"].iloc[0:5].sum()"
   ]
  },
  {
   "cell_type": "markdown",
   "metadata": {},
   "source": [
    "⬆️ If the number is between 0.44 and 0.51, then we would put this sample (index 4) into the new collection of samples."
   ]
  },
  {
   "cell_type": "code",
   "execution_count": 814,
   "metadata": {},
   "outputs": [
    {
     "data": {
      "text/plain": [
       "0.37999999999999995"
      ]
     },
     "execution_count": 814,
     "metadata": {},
     "output_type": "execute_result"
    }
   ],
   "source": [
    "# df[\"Sample_Weight\"][0] + df[\"Sample_Weight\"][1] + df[\"Sample_Weight\"][2] + df[\"Sample_Weight\"][3] + df[\"Sample_Weight\"][4] + df[\"Sample_Weight\"][5]\n",
    "df[\"Sample_Weight\"].iloc[0:6].sum()"
   ]
  },
  {
   "cell_type": "markdown",
   "metadata": {},
   "source": [
    "If the number is between 0.51 and 0.58, then we would put this sample (index 5) into the new collection of samples."
   ]
  },
  {
   "cell_type": "code",
   "execution_count": 815,
   "metadata": {},
   "outputs": [
    {
     "data": {
      "text/plain": [
       "0.41999999999999993"
      ]
     },
     "execution_count": 815,
     "metadata": {},
     "output_type": "execute_result"
    }
   ],
   "source": [
    "# df[\"Sample_Weight\"][0] + df[\"Sample_Weight\"][1] + df[\"Sample_Weight\"][2] + df[\"Sample_Weight\"][3] + df[\"Sample_Weight\"][4] + df[\"Sample_Weight\"][5] + df[\"Sample_Weight\"][6]\n",
    "df[\"Sample_Weight\"].iloc[0:7].sum()"
   ]
  },
  {
   "cell_type": "markdown",
   "metadata": {},
   "source": [
    "If the number is between 0.58 and 0.65, then we would put this sample (index 6) into the new collection of samples."
   ]
  },
  {
   "cell_type": "code",
   "execution_count": 816,
   "metadata": {},
   "outputs": [
    {
     "data": {
      "text/plain": [
       "0.8699999999999999"
      ]
     },
     "execution_count": 816,
     "metadata": {},
     "output_type": "execute_result"
    }
   ],
   "source": [
    "# df[\"Sample_Weight\"][0] + df[\"Sample_Weight\"][1] + df[\"Sample_Weight\"][2] + df[\"Sample_Weight\"][3] + df[\"Sample_Weight\"][4] + df[\"Sample_Weight\"][5] + df[\"Sample_Weight\"][6] + df[\"Sample_Weight\"][7]\n",
    "df[\"Sample_Weight\"].iloc[0:8].sum()"
   ]
  },
  {
   "cell_type": "markdown",
   "metadata": {},
   "source": [
    "If the number is between 0.65 and 0.8, then we would put this sample (index 7) into the new collection of samples."
   ]
  },
  {
   "cell_type": "code",
   "execution_count": 817,
   "metadata": {},
   "outputs": [
    {
     "data": {
      "text/plain": [
       "0.9099999999999999"
      ]
     },
     "execution_count": 817,
     "metadata": {},
     "output_type": "execute_result"
    }
   ],
   "source": [
    "# df[\"Sample_Weight\"][0] + df[\"Sample_Weight\"][1] + df[\"Sample_Weight\"][2] + df[\"Sample_Weight\"][3] + df[\"Sample_Weight\"][4] + df[\"Sample_Weight\"][5] + df[\"Sample_Weight\"][6] + df[\"Sample_Weight\"][7] + df[\"Sample_Weight\"][8]\n",
    "df[\"Sample_Weight\"].iloc[0:9].sum()"
   ]
  },
  {
   "cell_type": "markdown",
   "metadata": {},
   "source": [
    "If the number is between 0.8 and 0.87, then we would put this sample (index 8) into the new collection of samples."
   ]
  },
  {
   "cell_type": "code",
   "execution_count": 818,
   "metadata": {},
   "outputs": [
    {
     "data": {
      "text/plain": [
       "1.02"
      ]
     },
     "execution_count": 818,
     "metadata": {},
     "output_type": "execute_result"
    }
   ],
   "source": [
    "# df[\"Sample_Weight\"][0] + df[\"Sample_Weight\"][1] + df[\"Sample_Weight\"][2] + df[\"Sample_Weight\"][3] + df[\"Sample_Weight\"][4] + df[\"Sample_Weight\"][5] + df[\"Sample_Weight\"][6] + df[\"Sample_Weight\"][7] + df[\"Sample_Weight\"][8] + df[\"Sample_Weight\"][9]\n",
    "df[\"Sample_Weight\"].iloc[0:10].sum()"
   ]
  },
  {
   "cell_type": "markdown",
   "metadata": {},
   "source": [
    "Lastly, if the number is between 0.87 and 1.0, then we would put this sample (index 9) into the new collection of samples."
   ]
  },
  {
   "cell_type": "markdown",
   "metadata": {},
   "source": [
    "For example, imagine the first number I picked was 0.4, then I would put this sample (index 3) into my new collection of samples (new_df)"
   ]
  },
  {
   "cell_type": "code",
   "execution_count": 819,
   "metadata": {},
   "outputs": [
    {
     "data": {
      "text/html": [
       "<div>\n",
       "<style scoped>\n",
       "    .dataframe tbody tr th:only-of-type {\n",
       "        vertical-align: middle;\n",
       "    }\n",
       "\n",
       "    .dataframe tbody tr th {\n",
       "        vertical-align: top;\n",
       "    }\n",
       "\n",
       "    .dataframe thead th {\n",
       "        text-align: right;\n",
       "    }\n",
       "</style>\n",
       "<table border=\"1\" class=\"dataframe\">\n",
       "  <thead>\n",
       "    <tr style=\"text-align: right;\">\n",
       "      <th></th>\n",
       "      <th>Capacitive_Sensor</th>\n",
       "      <th>Inductive_Sensor</th>\n",
       "      <th>Temperature_Sensor</th>\n",
       "      <th>Failure</th>\n",
       "    </tr>\n",
       "  </thead>\n",
       "  <tbody>\n",
       "    <tr>\n",
       "      <th>0</th>\n",
       "      <td>True</td>\n",
       "      <td>False</td>\n",
       "      <td>34.46</td>\n",
       "      <td>False</td>\n",
       "    </tr>\n",
       "  </tbody>\n",
       "</table>\n",
       "</div>"
      ],
      "text/plain": [
       "  Capacitive_Sensor Inductive_Sensor Temperature_Sensor Failure\n",
       "0              True            False              34.46   False"
      ]
     },
     "execution_count": 819,
     "metadata": {},
     "output_type": "execute_result"
    }
   ],
   "source": [
    "new_df.loc[0] = df.loc[3]\n",
    "new_df"
   ]
  },
  {
   "cell_type": "code",
   "execution_count": 820,
   "metadata": {},
   "outputs": [
    {
     "data": {
      "text/plain": [
       "0.7789595301619779"
      ]
     },
     "execution_count": 820,
     "metadata": {},
     "output_type": "execute_result"
    }
   ],
   "source": [
    "np.random.random()"
   ]
  },
  {
   "cell_type": "markdown",
   "metadata": {},
   "source": [
    "Then I picked another random number and get 0.547232, then I would put sample with index 5 into my new collection of samples."
   ]
  },
  {
   "cell_type": "code",
   "execution_count": 821,
   "metadata": {},
   "outputs": [
    {
     "data": {
      "text/html": [
       "<div>\n",
       "<style scoped>\n",
       "    .dataframe tbody tr th:only-of-type {\n",
       "        vertical-align: middle;\n",
       "    }\n",
       "\n",
       "    .dataframe tbody tr th {\n",
       "        vertical-align: top;\n",
       "    }\n",
       "\n",
       "    .dataframe thead th {\n",
       "        text-align: right;\n",
       "    }\n",
       "</style>\n",
       "<table border=\"1\" class=\"dataframe\">\n",
       "  <thead>\n",
       "    <tr style=\"text-align: right;\">\n",
       "      <th></th>\n",
       "      <th>Capacitive_Sensor</th>\n",
       "      <th>Inductive_Sensor</th>\n",
       "      <th>Temperature_Sensor</th>\n",
       "      <th>Failure</th>\n",
       "    </tr>\n",
       "  </thead>\n",
       "  <tbody>\n",
       "    <tr>\n",
       "      <th>0</th>\n",
       "      <td>True</td>\n",
       "      <td>False</td>\n",
       "      <td>34.46</td>\n",
       "      <td>False</td>\n",
       "    </tr>\n",
       "    <tr>\n",
       "      <th>1</th>\n",
       "      <td>False</td>\n",
       "      <td>True</td>\n",
       "      <td>30.74</td>\n",
       "      <td>True</td>\n",
       "    </tr>\n",
       "  </tbody>\n",
       "</table>\n",
       "</div>"
      ],
      "text/plain": [
       "  Capacitive_Sensor Inductive_Sensor Temperature_Sensor Failure\n",
       "0              True            False              34.46   False\n",
       "1             False             True              30.74    True"
      ]
     },
     "execution_count": 821,
     "metadata": {},
     "output_type": "execute_result"
    }
   ],
   "source": [
    "new_df.loc[1] = df.loc[5]\n",
    "new_df"
   ]
  },
  {
   "cell_type": "code",
   "execution_count": 822,
   "metadata": {},
   "outputs": [
    {
     "data": {
      "text/plain": [
       "0.26468239177679165"
      ]
     },
     "execution_count": 822,
     "metadata": {},
     "output_type": "execute_result"
    }
   ],
   "source": [
    "np.random.random()"
   ]
  },
  {
   "cell_type": "markdown",
   "metadata": {},
   "source": [
    "Then I picked another random number and get 0.529, then I would put sample with index 5 (+1) into my new collection of samples."
   ]
  },
  {
   "cell_type": "code",
   "execution_count": 823,
   "metadata": {},
   "outputs": [
    {
     "data": {
      "text/html": [
       "<div>\n",
       "<style scoped>\n",
       "    .dataframe tbody tr th:only-of-type {\n",
       "        vertical-align: middle;\n",
       "    }\n",
       "\n",
       "    .dataframe tbody tr th {\n",
       "        vertical-align: top;\n",
       "    }\n",
       "\n",
       "    .dataframe thead th {\n",
       "        text-align: right;\n",
       "    }\n",
       "</style>\n",
       "<table border=\"1\" class=\"dataframe\">\n",
       "  <thead>\n",
       "    <tr style=\"text-align: right;\">\n",
       "      <th></th>\n",
       "      <th>Capacitive_Sensor</th>\n",
       "      <th>Inductive_Sensor</th>\n",
       "      <th>Temperature_Sensor</th>\n",
       "      <th>Failure</th>\n",
       "    </tr>\n",
       "  </thead>\n",
       "  <tbody>\n",
       "    <tr>\n",
       "      <th>0</th>\n",
       "      <td>True</td>\n",
       "      <td>False</td>\n",
       "      <td>34.46</td>\n",
       "      <td>False</td>\n",
       "    </tr>\n",
       "    <tr>\n",
       "      <th>1</th>\n",
       "      <td>False</td>\n",
       "      <td>True</td>\n",
       "      <td>30.74</td>\n",
       "      <td>True</td>\n",
       "    </tr>\n",
       "    <tr>\n",
       "      <th>2</th>\n",
       "      <td>False</td>\n",
       "      <td>True</td>\n",
       "      <td>30.74</td>\n",
       "      <td>True</td>\n",
       "    </tr>\n",
       "  </tbody>\n",
       "</table>\n",
       "</div>"
      ],
      "text/plain": [
       "  Capacitive_Sensor Inductive_Sensor Temperature_Sensor Failure\n",
       "0              True            False              34.46   False\n",
       "1             False             True              30.74    True\n",
       "2             False             True              30.74    True"
      ]
     },
     "execution_count": 823,
     "metadata": {},
     "output_type": "execute_result"
    }
   ],
   "source": [
    "new_df.loc[2] = df.loc[5]\n",
    "new_df"
   ]
  },
  {
   "cell_type": "code",
   "execution_count": 824,
   "metadata": {},
   "outputs": [
    {
     "data": {
      "text/plain": [
       "0.9601322147296767"
      ]
     },
     "execution_count": 824,
     "metadata": {},
     "output_type": "execute_result"
    }
   ],
   "source": [
    "np.random.random()"
   ]
  },
  {
   "cell_type": "markdown",
   "metadata": {},
   "source": [
    "Then I picked another random number and get 0.134, then I would put sample with index 1 into my new collection of samples."
   ]
  },
  {
   "cell_type": "code",
   "execution_count": 825,
   "metadata": {},
   "outputs": [
    {
     "data": {
      "text/html": [
       "<div>\n",
       "<style scoped>\n",
       "    .dataframe tbody tr th:only-of-type {\n",
       "        vertical-align: middle;\n",
       "    }\n",
       "\n",
       "    .dataframe tbody tr th {\n",
       "        vertical-align: top;\n",
       "    }\n",
       "\n",
       "    .dataframe thead th {\n",
       "        text-align: right;\n",
       "    }\n",
       "</style>\n",
       "<table border=\"1\" class=\"dataframe\">\n",
       "  <thead>\n",
       "    <tr style=\"text-align: right;\">\n",
       "      <th></th>\n",
       "      <th>Capacitive_Sensor</th>\n",
       "      <th>Inductive_Sensor</th>\n",
       "      <th>Temperature_Sensor</th>\n",
       "      <th>Failure</th>\n",
       "    </tr>\n",
       "  </thead>\n",
       "  <tbody>\n",
       "    <tr>\n",
       "      <th>0</th>\n",
       "      <td>True</td>\n",
       "      <td>False</td>\n",
       "      <td>34.46</td>\n",
       "      <td>False</td>\n",
       "    </tr>\n",
       "    <tr>\n",
       "      <th>1</th>\n",
       "      <td>False</td>\n",
       "      <td>True</td>\n",
       "      <td>30.74</td>\n",
       "      <td>True</td>\n",
       "    </tr>\n",
       "    <tr>\n",
       "      <th>2</th>\n",
       "      <td>False</td>\n",
       "      <td>True</td>\n",
       "      <td>30.74</td>\n",
       "      <td>True</td>\n",
       "    </tr>\n",
       "    <tr>\n",
       "      <th>3</th>\n",
       "      <td>True</td>\n",
       "      <td>True</td>\n",
       "      <td>31.92</td>\n",
       "      <td>True</td>\n",
       "    </tr>\n",
       "  </tbody>\n",
       "</table>\n",
       "</div>"
      ],
      "text/plain": [
       "  Capacitive_Sensor Inductive_Sensor Temperature_Sensor Failure\n",
       "0              True            False              34.46   False\n",
       "1             False             True              30.74    True\n",
       "2             False             True              30.74    True\n",
       "3              True             True              31.92    True"
      ]
     },
     "execution_count": 825,
     "metadata": {},
     "output_type": "execute_result"
    }
   ],
   "source": [
    "new_df.loc[3] = df.loc[1]\n",
    "new_df"
   ]
  },
  {
   "cell_type": "code",
   "execution_count": 826,
   "metadata": {},
   "outputs": [
    {
     "data": {
      "text/plain": [
       "0.23730994746710976"
      ]
     },
     "execution_count": 826,
     "metadata": {},
     "output_type": "execute_result"
    }
   ],
   "source": [
    "np.random.random()"
   ]
  },
  {
   "cell_type": "markdown",
   "metadata": {},
   "source": [
    "Then I picked another random number and get 0.513, then I would put sample with index 5 (+2) into my new collection of samples."
   ]
  },
  {
   "cell_type": "code",
   "execution_count": 827,
   "metadata": {},
   "outputs": [
    {
     "data": {
      "text/html": [
       "<div>\n",
       "<style scoped>\n",
       "    .dataframe tbody tr th:only-of-type {\n",
       "        vertical-align: middle;\n",
       "    }\n",
       "\n",
       "    .dataframe tbody tr th {\n",
       "        vertical-align: top;\n",
       "    }\n",
       "\n",
       "    .dataframe thead th {\n",
       "        text-align: right;\n",
       "    }\n",
       "</style>\n",
       "<table border=\"1\" class=\"dataframe\">\n",
       "  <thead>\n",
       "    <tr style=\"text-align: right;\">\n",
       "      <th></th>\n",
       "      <th>Capacitive_Sensor</th>\n",
       "      <th>Inductive_Sensor</th>\n",
       "      <th>Temperature_Sensor</th>\n",
       "      <th>Failure</th>\n",
       "    </tr>\n",
       "  </thead>\n",
       "  <tbody>\n",
       "    <tr>\n",
       "      <th>0</th>\n",
       "      <td>True</td>\n",
       "      <td>False</td>\n",
       "      <td>34.46</td>\n",
       "      <td>False</td>\n",
       "    </tr>\n",
       "    <tr>\n",
       "      <th>1</th>\n",
       "      <td>False</td>\n",
       "      <td>True</td>\n",
       "      <td>30.74</td>\n",
       "      <td>True</td>\n",
       "    </tr>\n",
       "    <tr>\n",
       "      <th>2</th>\n",
       "      <td>False</td>\n",
       "      <td>True</td>\n",
       "      <td>30.74</td>\n",
       "      <td>True</td>\n",
       "    </tr>\n",
       "    <tr>\n",
       "      <th>3</th>\n",
       "      <td>True</td>\n",
       "      <td>True</td>\n",
       "      <td>31.92</td>\n",
       "      <td>True</td>\n",
       "    </tr>\n",
       "    <tr>\n",
       "      <th>4</th>\n",
       "      <td>False</td>\n",
       "      <td>True</td>\n",
       "      <td>30.74</td>\n",
       "      <td>True</td>\n",
       "    </tr>\n",
       "  </tbody>\n",
       "</table>\n",
       "</div>"
      ],
      "text/plain": [
       "  Capacitive_Sensor Inductive_Sensor Temperature_Sensor Failure\n",
       "0              True            False              34.46   False\n",
       "1             False             True              30.74    True\n",
       "2             False             True              30.74    True\n",
       "3              True             True              31.92    True\n",
       "4             False             True              30.74    True"
      ]
     },
     "execution_count": 827,
     "metadata": {},
     "output_type": "execute_result"
    }
   ],
   "source": [
    "new_df.loc[4] = df.loc[5]\n",
    "new_df"
   ]
  },
  {
   "cell_type": "code",
   "execution_count": 828,
   "metadata": {},
   "outputs": [
    {
     "data": {
      "text/plain": [
       "0.8539330836806694"
      ]
     },
     "execution_count": 828,
     "metadata": {},
     "output_type": "execute_result"
    }
   ],
   "source": [
    "np.random.random()"
   ]
  },
  {
   "cell_type": "markdown",
   "metadata": {},
   "source": [
    "Then I picked another random number and get 0.184, then I would put sample with index 1 (+1) into my new collection of samples."
   ]
  },
  {
   "cell_type": "code",
   "execution_count": 829,
   "metadata": {},
   "outputs": [
    {
     "data": {
      "text/html": [
       "<div>\n",
       "<style scoped>\n",
       "    .dataframe tbody tr th:only-of-type {\n",
       "        vertical-align: middle;\n",
       "    }\n",
       "\n",
       "    .dataframe tbody tr th {\n",
       "        vertical-align: top;\n",
       "    }\n",
       "\n",
       "    .dataframe thead th {\n",
       "        text-align: right;\n",
       "    }\n",
       "</style>\n",
       "<table border=\"1\" class=\"dataframe\">\n",
       "  <thead>\n",
       "    <tr style=\"text-align: right;\">\n",
       "      <th></th>\n",
       "      <th>Capacitive_Sensor</th>\n",
       "      <th>Inductive_Sensor</th>\n",
       "      <th>Temperature_Sensor</th>\n",
       "      <th>Failure</th>\n",
       "    </tr>\n",
       "  </thead>\n",
       "  <tbody>\n",
       "    <tr>\n",
       "      <th>0</th>\n",
       "      <td>True</td>\n",
       "      <td>False</td>\n",
       "      <td>34.46</td>\n",
       "      <td>False</td>\n",
       "    </tr>\n",
       "    <tr>\n",
       "      <th>1</th>\n",
       "      <td>False</td>\n",
       "      <td>True</td>\n",
       "      <td>30.74</td>\n",
       "      <td>True</td>\n",
       "    </tr>\n",
       "    <tr>\n",
       "      <th>2</th>\n",
       "      <td>False</td>\n",
       "      <td>True</td>\n",
       "      <td>30.74</td>\n",
       "      <td>True</td>\n",
       "    </tr>\n",
       "    <tr>\n",
       "      <th>3</th>\n",
       "      <td>True</td>\n",
       "      <td>True</td>\n",
       "      <td>31.92</td>\n",
       "      <td>True</td>\n",
       "    </tr>\n",
       "    <tr>\n",
       "      <th>4</th>\n",
       "      <td>False</td>\n",
       "      <td>True</td>\n",
       "      <td>30.74</td>\n",
       "      <td>True</td>\n",
       "    </tr>\n",
       "    <tr>\n",
       "      <th>5</th>\n",
       "      <td>True</td>\n",
       "      <td>True</td>\n",
       "      <td>31.92</td>\n",
       "      <td>True</td>\n",
       "    </tr>\n",
       "  </tbody>\n",
       "</table>\n",
       "</div>"
      ],
      "text/plain": [
       "  Capacitive_Sensor Inductive_Sensor Temperature_Sensor Failure\n",
       "0              True            False              34.46   False\n",
       "1             False             True              30.74    True\n",
       "2             False             True              30.74    True\n",
       "3              True             True              31.92    True\n",
       "4             False             True              30.74    True\n",
       "5              True             True              31.92    True"
      ]
     },
     "execution_count": 829,
     "metadata": {},
     "output_type": "execute_result"
    }
   ],
   "source": [
    "new_df.loc[5] = df.loc[1]\n",
    "new_df"
   ]
  },
  {
   "cell_type": "code",
   "execution_count": 830,
   "metadata": {},
   "outputs": [
    {
     "data": {
      "text/plain": [
       "0.14556643973236583"
      ]
     },
     "execution_count": 830,
     "metadata": {},
     "output_type": "execute_result"
    }
   ],
   "source": [
    "np.random.random()"
   ]
  },
  {
   "cell_type": "markdown",
   "metadata": {},
   "source": [
    "Then I picked another random number and get 0.785, then I would put sample with index 7 into my new collection of samples."
   ]
  },
  {
   "cell_type": "code",
   "execution_count": 831,
   "metadata": {},
   "outputs": [
    {
     "data": {
      "text/html": [
       "<div>\n",
       "<style scoped>\n",
       "    .dataframe tbody tr th:only-of-type {\n",
       "        vertical-align: middle;\n",
       "    }\n",
       "\n",
       "    .dataframe tbody tr th {\n",
       "        vertical-align: top;\n",
       "    }\n",
       "\n",
       "    .dataframe thead th {\n",
       "        text-align: right;\n",
       "    }\n",
       "</style>\n",
       "<table border=\"1\" class=\"dataframe\">\n",
       "  <thead>\n",
       "    <tr style=\"text-align: right;\">\n",
       "      <th></th>\n",
       "      <th>Capacitive_Sensor</th>\n",
       "      <th>Inductive_Sensor</th>\n",
       "      <th>Temperature_Sensor</th>\n",
       "      <th>Failure</th>\n",
       "    </tr>\n",
       "  </thead>\n",
       "  <tbody>\n",
       "    <tr>\n",
       "      <th>0</th>\n",
       "      <td>True</td>\n",
       "      <td>False</td>\n",
       "      <td>34.46</td>\n",
       "      <td>False</td>\n",
       "    </tr>\n",
       "    <tr>\n",
       "      <th>1</th>\n",
       "      <td>False</td>\n",
       "      <td>True</td>\n",
       "      <td>30.74</td>\n",
       "      <td>True</td>\n",
       "    </tr>\n",
       "    <tr>\n",
       "      <th>2</th>\n",
       "      <td>False</td>\n",
       "      <td>True</td>\n",
       "      <td>30.74</td>\n",
       "      <td>True</td>\n",
       "    </tr>\n",
       "    <tr>\n",
       "      <th>3</th>\n",
       "      <td>True</td>\n",
       "      <td>True</td>\n",
       "      <td>31.92</td>\n",
       "      <td>True</td>\n",
       "    </tr>\n",
       "    <tr>\n",
       "      <th>4</th>\n",
       "      <td>False</td>\n",
       "      <td>True</td>\n",
       "      <td>30.74</td>\n",
       "      <td>True</td>\n",
       "    </tr>\n",
       "    <tr>\n",
       "      <th>5</th>\n",
       "      <td>True</td>\n",
       "      <td>True</td>\n",
       "      <td>31.92</td>\n",
       "      <td>True</td>\n",
       "    </tr>\n",
       "    <tr>\n",
       "      <th>6</th>\n",
       "      <td>False</td>\n",
       "      <td>True</td>\n",
       "      <td>30.13</td>\n",
       "      <td>False</td>\n",
       "    </tr>\n",
       "  </tbody>\n",
       "</table>\n",
       "</div>"
      ],
      "text/plain": [
       "  Capacitive_Sensor Inductive_Sensor Temperature_Sensor Failure\n",
       "0              True            False              34.46   False\n",
       "1             False             True              30.74    True\n",
       "2             False             True              30.74    True\n",
       "3              True             True              31.92    True\n",
       "4             False             True              30.74    True\n",
       "5              True             True              31.92    True\n",
       "6             False             True              30.13   False"
      ]
     },
     "execution_count": 831,
     "metadata": {},
     "output_type": "execute_result"
    }
   ],
   "source": [
    "new_df.loc[6] = df.loc[7]\n",
    "new_df"
   ]
  },
  {
   "cell_type": "code",
   "execution_count": 832,
   "metadata": {},
   "outputs": [
    {
     "data": {
      "text/plain": [
       "0.8687867274478627"
      ]
     },
     "execution_count": 832,
     "metadata": {},
     "output_type": "execute_result"
    }
   ],
   "source": [
    "np.random.random()"
   ]
  },
  {
   "cell_type": "markdown",
   "metadata": {},
   "source": [
    "Then I picked another random number and get 0.853, then I would put sample with index 8 into my new collection of samples."
   ]
  },
  {
   "cell_type": "code",
   "execution_count": 833,
   "metadata": {},
   "outputs": [
    {
     "data": {
      "text/html": [
       "<div>\n",
       "<style scoped>\n",
       "    .dataframe tbody tr th:only-of-type {\n",
       "        vertical-align: middle;\n",
       "    }\n",
       "\n",
       "    .dataframe tbody tr th {\n",
       "        vertical-align: top;\n",
       "    }\n",
       "\n",
       "    .dataframe thead th {\n",
       "        text-align: right;\n",
       "    }\n",
       "</style>\n",
       "<table border=\"1\" class=\"dataframe\">\n",
       "  <thead>\n",
       "    <tr style=\"text-align: right;\">\n",
       "      <th></th>\n",
       "      <th>Capacitive_Sensor</th>\n",
       "      <th>Inductive_Sensor</th>\n",
       "      <th>Temperature_Sensor</th>\n",
       "      <th>Failure</th>\n",
       "    </tr>\n",
       "  </thead>\n",
       "  <tbody>\n",
       "    <tr>\n",
       "      <th>0</th>\n",
       "      <td>True</td>\n",
       "      <td>False</td>\n",
       "      <td>34.46</td>\n",
       "      <td>False</td>\n",
       "    </tr>\n",
       "    <tr>\n",
       "      <th>1</th>\n",
       "      <td>False</td>\n",
       "      <td>True</td>\n",
       "      <td>30.74</td>\n",
       "      <td>True</td>\n",
       "    </tr>\n",
       "    <tr>\n",
       "      <th>2</th>\n",
       "      <td>False</td>\n",
       "      <td>True</td>\n",
       "      <td>30.74</td>\n",
       "      <td>True</td>\n",
       "    </tr>\n",
       "    <tr>\n",
       "      <th>3</th>\n",
       "      <td>True</td>\n",
       "      <td>True</td>\n",
       "      <td>31.92</td>\n",
       "      <td>True</td>\n",
       "    </tr>\n",
       "    <tr>\n",
       "      <th>4</th>\n",
       "      <td>False</td>\n",
       "      <td>True</td>\n",
       "      <td>30.74</td>\n",
       "      <td>True</td>\n",
       "    </tr>\n",
       "    <tr>\n",
       "      <th>5</th>\n",
       "      <td>True</td>\n",
       "      <td>True</td>\n",
       "      <td>31.92</td>\n",
       "      <td>True</td>\n",
       "    </tr>\n",
       "    <tr>\n",
       "      <th>6</th>\n",
       "      <td>False</td>\n",
       "      <td>True</td>\n",
       "      <td>30.13</td>\n",
       "      <td>False</td>\n",
       "    </tr>\n",
       "    <tr>\n",
       "      <th>7</th>\n",
       "      <td>True</td>\n",
       "      <td>False</td>\n",
       "      <td>30.41</td>\n",
       "      <td>True</td>\n",
       "    </tr>\n",
       "  </tbody>\n",
       "</table>\n",
       "</div>"
      ],
      "text/plain": [
       "  Capacitive_Sensor Inductive_Sensor Temperature_Sensor Failure\n",
       "0              True            False              34.46   False\n",
       "1             False             True              30.74    True\n",
       "2             False             True              30.74    True\n",
       "3              True             True              31.92    True\n",
       "4             False             True              30.74    True\n",
       "5              True             True              31.92    True\n",
       "6             False             True              30.13   False\n",
       "7              True            False              30.41    True"
      ]
     },
     "execution_count": 833,
     "metadata": {},
     "output_type": "execute_result"
    }
   ],
   "source": [
    "new_df.loc[7] = df.loc[8]\n",
    "new_df"
   ]
  },
  {
   "cell_type": "code",
   "execution_count": 834,
   "metadata": {},
   "outputs": [
    {
     "data": {
      "text/plain": [
       "0.6030820261769517"
      ]
     },
     "execution_count": 834,
     "metadata": {},
     "output_type": "execute_result"
    }
   ],
   "source": [
    "np.random.random()"
   ]
  },
  {
   "cell_type": "markdown",
   "metadata": {},
   "source": [
    "Then I picked another random number and get 0.494, then I would put sample with index 5 (+3) into my new collection of samples."
   ]
  },
  {
   "cell_type": "code",
   "execution_count": 835,
   "metadata": {},
   "outputs": [
    {
     "data": {
      "text/html": [
       "<div>\n",
       "<style scoped>\n",
       "    .dataframe tbody tr th:only-of-type {\n",
       "        vertical-align: middle;\n",
       "    }\n",
       "\n",
       "    .dataframe tbody tr th {\n",
       "        vertical-align: top;\n",
       "    }\n",
       "\n",
       "    .dataframe thead th {\n",
       "        text-align: right;\n",
       "    }\n",
       "</style>\n",
       "<table border=\"1\" class=\"dataframe\">\n",
       "  <thead>\n",
       "    <tr style=\"text-align: right;\">\n",
       "      <th></th>\n",
       "      <th>Capacitive_Sensor</th>\n",
       "      <th>Inductive_Sensor</th>\n",
       "      <th>Temperature_Sensor</th>\n",
       "      <th>Failure</th>\n",
       "    </tr>\n",
       "  </thead>\n",
       "  <tbody>\n",
       "    <tr>\n",
       "      <th>0</th>\n",
       "      <td>True</td>\n",
       "      <td>False</td>\n",
       "      <td>34.46</td>\n",
       "      <td>False</td>\n",
       "    </tr>\n",
       "    <tr>\n",
       "      <th>1</th>\n",
       "      <td>False</td>\n",
       "      <td>True</td>\n",
       "      <td>30.74</td>\n",
       "      <td>True</td>\n",
       "    </tr>\n",
       "    <tr>\n",
       "      <th>2</th>\n",
       "      <td>False</td>\n",
       "      <td>True</td>\n",
       "      <td>30.74</td>\n",
       "      <td>True</td>\n",
       "    </tr>\n",
       "    <tr>\n",
       "      <th>3</th>\n",
       "      <td>True</td>\n",
       "      <td>True</td>\n",
       "      <td>31.92</td>\n",
       "      <td>True</td>\n",
       "    </tr>\n",
       "    <tr>\n",
       "      <th>4</th>\n",
       "      <td>False</td>\n",
       "      <td>True</td>\n",
       "      <td>30.74</td>\n",
       "      <td>True</td>\n",
       "    </tr>\n",
       "    <tr>\n",
       "      <th>5</th>\n",
       "      <td>True</td>\n",
       "      <td>True</td>\n",
       "      <td>31.92</td>\n",
       "      <td>True</td>\n",
       "    </tr>\n",
       "    <tr>\n",
       "      <th>6</th>\n",
       "      <td>False</td>\n",
       "      <td>True</td>\n",
       "      <td>30.13</td>\n",
       "      <td>False</td>\n",
       "    </tr>\n",
       "    <tr>\n",
       "      <th>7</th>\n",
       "      <td>True</td>\n",
       "      <td>False</td>\n",
       "      <td>30.41</td>\n",
       "      <td>True</td>\n",
       "    </tr>\n",
       "    <tr>\n",
       "      <th>8</th>\n",
       "      <td>False</td>\n",
       "      <td>True</td>\n",
       "      <td>30.74</td>\n",
       "      <td>True</td>\n",
       "    </tr>\n",
       "  </tbody>\n",
       "</table>\n",
       "</div>"
      ],
      "text/plain": [
       "  Capacitive_Sensor Inductive_Sensor Temperature_Sensor Failure\n",
       "0              True            False              34.46   False\n",
       "1             False             True              30.74    True\n",
       "2             False             True              30.74    True\n",
       "3              True             True              31.92    True\n",
       "4             False             True              30.74    True\n",
       "5              True             True              31.92    True\n",
       "6             False             True              30.13   False\n",
       "7              True            False              30.41    True\n",
       "8             False             True              30.74    True"
      ]
     },
     "execution_count": 835,
     "metadata": {},
     "output_type": "execute_result"
    }
   ],
   "source": [
    "new_df.loc[8] = df.loc[5]\n",
    "new_df"
   ]
  },
  {
   "cell_type": "code",
   "execution_count": 836,
   "metadata": {},
   "outputs": [
    {
     "data": {
      "text/plain": [
       "0.3265163074153956"
      ]
     },
     "execution_count": 836,
     "metadata": {},
     "output_type": "execute_result"
    }
   ],
   "source": [
    "np.random.random()"
   ]
  },
  {
   "cell_type": "markdown",
   "metadata": {},
   "source": [
    "For my last sample, I picked another random number and get 0.846, then I would put sample with index 8 (+1) into my new collection of samples."
   ]
  },
  {
   "cell_type": "code",
   "execution_count": 837,
   "metadata": {},
   "outputs": [
    {
     "data": {
      "text/html": [
       "<div>\n",
       "<style scoped>\n",
       "    .dataframe tbody tr th:only-of-type {\n",
       "        vertical-align: middle;\n",
       "    }\n",
       "\n",
       "    .dataframe tbody tr th {\n",
       "        vertical-align: top;\n",
       "    }\n",
       "\n",
       "    .dataframe thead th {\n",
       "        text-align: right;\n",
       "    }\n",
       "</style>\n",
       "<table border=\"1\" class=\"dataframe\">\n",
       "  <thead>\n",
       "    <tr style=\"text-align: right;\">\n",
       "      <th></th>\n",
       "      <th>Capacitive_Sensor</th>\n",
       "      <th>Inductive_Sensor</th>\n",
       "      <th>Temperature_Sensor</th>\n",
       "      <th>Failure</th>\n",
       "    </tr>\n",
       "  </thead>\n",
       "  <tbody>\n",
       "    <tr>\n",
       "      <th>0</th>\n",
       "      <td>True</td>\n",
       "      <td>False</td>\n",
       "      <td>34.46</td>\n",
       "      <td>False</td>\n",
       "    </tr>\n",
       "    <tr>\n",
       "      <th>1</th>\n",
       "      <td>False</td>\n",
       "      <td>True</td>\n",
       "      <td>30.74</td>\n",
       "      <td>True</td>\n",
       "    </tr>\n",
       "    <tr>\n",
       "      <th>2</th>\n",
       "      <td>False</td>\n",
       "      <td>True</td>\n",
       "      <td>30.74</td>\n",
       "      <td>True</td>\n",
       "    </tr>\n",
       "    <tr>\n",
       "      <th>3</th>\n",
       "      <td>True</td>\n",
       "      <td>True</td>\n",
       "      <td>31.92</td>\n",
       "      <td>True</td>\n",
       "    </tr>\n",
       "    <tr>\n",
       "      <th>4</th>\n",
       "      <td>False</td>\n",
       "      <td>True</td>\n",
       "      <td>30.74</td>\n",
       "      <td>True</td>\n",
       "    </tr>\n",
       "    <tr>\n",
       "      <th>5</th>\n",
       "      <td>True</td>\n",
       "      <td>True</td>\n",
       "      <td>31.92</td>\n",
       "      <td>True</td>\n",
       "    </tr>\n",
       "    <tr>\n",
       "      <th>6</th>\n",
       "      <td>False</td>\n",
       "      <td>True</td>\n",
       "      <td>30.13</td>\n",
       "      <td>False</td>\n",
       "    </tr>\n",
       "    <tr>\n",
       "      <th>7</th>\n",
       "      <td>True</td>\n",
       "      <td>False</td>\n",
       "      <td>30.41</td>\n",
       "      <td>True</td>\n",
       "    </tr>\n",
       "    <tr>\n",
       "      <th>8</th>\n",
       "      <td>False</td>\n",
       "      <td>True</td>\n",
       "      <td>30.74</td>\n",
       "      <td>True</td>\n",
       "    </tr>\n",
       "    <tr>\n",
       "      <th>9</th>\n",
       "      <td>True</td>\n",
       "      <td>False</td>\n",
       "      <td>30.41</td>\n",
       "      <td>True</td>\n",
       "    </tr>\n",
       "  </tbody>\n",
       "</table>\n",
       "</div>"
      ],
      "text/plain": [
       "  Capacitive_Sensor Inductive_Sensor Temperature_Sensor Failure\n",
       "0              True            False              34.46   False\n",
       "1             False             True              30.74    True\n",
       "2             False             True              30.74    True\n",
       "3              True             True              31.92    True\n",
       "4             False             True              30.74    True\n",
       "5              True             True              31.92    True\n",
       "6             False             True              30.13   False\n",
       "7              True            False              30.41    True\n",
       "8             False             True              30.74    True\n",
       "9              True            False              30.41    True"
      ]
     },
     "execution_count": 837,
     "metadata": {},
     "output_type": "execute_result"
    }
   ],
   "source": [
    "new_df.loc[9] = df.loc[8]\n",
    "new_df"
   ]
  },
  {
   "cell_type": "markdown",
   "metadata": {},
   "source": [
    "Ultimately, the sample with index 5 was added to the collection 4 times, reflecting its larger Sample Weight.\n",
    "\n",
    "Our new collection of samples (new_df) will be used moving forward and just like before, we give all the samples equal Sample Weights.\n",
    "\n",
    "Now we go back to the beginning and try to find the stump that does the best job classifying the new collection of samples.\n",
    "\n",
    "So that is how the errors that the first tree makes influence how the second tree is made and the errors that the second tree makes influence how the third tree is made.\n",
    "\n",
    "Etc..etc..etc "
   ]
  },
  {
   "cell_type": "markdown",
   "metadata": {},
   "source": [
    "**So, how does a forest of stumps created by AdaBoost makes classifications?**\n",
    "\n",
    "Imagine a set of stumps classified a data as \"Has Machine Failure\" and another set of stumps classified as \"Does Not Have Machine Failure\".\n",
    "\n",
    "We add up the Amount of Say for each set of stumps and depending on which has the largest sum, the data makes the classification.\n",
    "\n",
    "Example:\n",
    "\n",
    "Total Amount of Say for Stumps of \"Has Machine Failure\": 2.7\n",
    "Total Amount of Say for Stumps of \"Does Not Have Machine Failure\": 1.23\n",
    "\n",
    "Ultimately, the data is classified as \"Has Machine Failure\" because it has the largest sum"
   ]
  },
  {
   "cell_type": "markdown",
   "metadata": {},
   "source": [
    "Below is the full-code section:"
   ]
  },
  {
   "cell_type": "code",
   "execution_count": 838,
   "metadata": {},
   "outputs": [
    {
     "name": "stdout",
     "output_type": "stream",
     "text": [
      "Accuracy: 0.5\n",
      "Number of decision stumps created: 40\n",
      "Stump 1: Amount of Say = 1.0986122886681098\n",
      "Stump 2: Amount of Say = 1.0986122886681098\n",
      "Stump 3: Amount of Say = 0.6931471805599455\n",
      "Stump 4: Amount of Say = 0.5108256237659907\n",
      "Stump 5: Amount of Say = 0.4054651081081642\n",
      "Stump 6: Amount of Say = 0.5705448584676128\n",
      "Stump 7: Amount of Say = 0.8266785731844679\n",
      "Stump 8: Amount of Say = 1.2450528300694006\n",
      "Stump 9: Amount of Say = 0.8808004106395194\n",
      "Stump 10: Amount of Say = 0.5372777574846742\n",
      "Stump 11: Amount of Say = 0.6430578524931895\n",
      "Stump 12: Amount of Say = 0.994787733595039\n",
      "Stump 13: Amount of Say = 0.6523929993530199\n",
      "Stump 14: Amount of Say = 0.9915940651322648\n",
      "Stump 15: Amount of Say = 0.602152175074124\n",
      "Stump 16: Amount of Say = 0.9701617260391947\n",
      "Stump 17: Amount of Say = 0.736158815473821\n",
      "Stump 18: Amount of Say = 0.9325942411551376\n",
      "Stump 19: Amount of Say = 0.9510401808630546\n",
      "Stump 20: Amount of Say = 0.6340855138788194\n",
      "Stump 21: Amount of Say = 0.8864705254021638\n",
      "Stump 22: Amount of Say = 0.6057603358618711\n",
      "Stump 23: Amount of Say = 0.9995789061155284\n",
      "Stump 24: Amount of Say = 0.6543559944106986\n",
      "Stump 25: Amount of Say = 0.9421182052604278\n",
      "Stump 26: Amount of Say = 0.6302655822194436\n",
      "Stump 27: Amount of Say = 0.940110278487406\n",
      "Stump 28: Amount of Say = 0.6294018010556445\n",
      "Stump 29: Amount of Say = 0.9631270171186872\n",
      "Stump 30: Amount of Say = 0.6392134538713975\n",
      "Stump 31: Amount of Say = 0.9468724825301595\n",
      "Stump 32: Amount of Say = 0.6323048053173469\n",
      "Stump 33: Amount of Say = 0.950026444114076\n",
      "Stump 34: Amount of Say = 0.6336529738315979\n",
      "Stump 35: Amount of Say = 0.9539266656344177\n",
      "Stump 36: Amount of Say = 0.6353150304685605\n",
      "Stump 37: Amount of Say = 0.9498128296371489\n",
      "Stump 38: Amount of Say = 0.6335617804259542\n",
      "Stump 39: Amount of Say = 0.9513577462656668\n",
      "Stump 40: Amount of Say = 0.6342209339525264\n"
     ]
    }
   ],
   "source": [
    "# import pandas as pd\n",
    "from sklearn.model_selection import train_test_split\n",
    "from sklearn.ensemble import AdaBoostClassifier\n",
    "from sklearn.metrics import accuracy_score\n",
    "\n",
    "# Read the CSV file into a DataFrame\n",
    "input_file = \"machinedata.csv\"\n",
    "df = pd.read_csv(input_file)\n",
    "\n",
    "# Convert boolean columns to integers (if needed)\n",
    "df[\"Capacitive_Sensor\"] = df[\"Capacitive_Sensor\"].astype(int)\n",
    "df[\"Inductive_Sensor\"] = df[\"Inductive_Sensor\"].astype(int)\n",
    "df[\"Failure\"] = df[\"Failure\"].astype(int)\n",
    "\n",
    "# Separate features and target variable\n",
    "features = list(df.columns[:3])\n",
    "X = df[features]  # Features\n",
    "y = df[\"Failure\"]  # Target variable\n",
    "\n",
    "# Split data into train and test sets\n",
    "X_train, X_test, y_train, y_test = train_test_split(X, y, test_size=0.2, random_state=42)\n",
    "\n",
    "# Initialize the AdaBoostClassifier\n",
    "adaboost = AdaBoostClassifier(n_estimators=40, algorithm=\"SAMME\", random_state=0) # estimators is the number of stumps\n",
    "\n",
    "# Train the AdaBoostClassifier\n",
    "adaboost.fit(X_train, y_train)\n",
    "\n",
    "# Predict the target variable on the test set\n",
    "y_pred = adaboost.predict(X_test)\n",
    "\n",
    "# Calculate accuracy\n",
    "accuracy = accuracy_score(y_test, y_pred)\n",
    "print(\"Accuracy:\", accuracy)\n",
    "\n",
    "from sklearn.model_selection import cross_val_score\n",
    "scores = cross_val_score(adaboost, X, y, cv=4)\n",
    "scores.mean()\n",
    "\n",
    "# Access the individual base learners\n",
    "base_learners = adaboost.estimators_\n",
    "\n",
    "# Count the number of base learners (decision stumps)\n",
    "num_stumps = len(base_learners)\n",
    "print(\"Number of decision stumps created:\", num_stumps)\n",
    "\n",
    "# Access the weights of the base learners\n",
    "base_learner_weights = adaboost.estimator_weights_\n",
    "\n",
    "# Print the amount of say for each stump\n",
    "for i, weight in enumerate(base_learner_weights):\n",
    "    print(f\"Stump {i + 1}: Amount of Say = {weight}\")"
   ]
  },
  {
   "cell_type": "markdown",
   "metadata": {},
   "source": [
    "From ChatGPT:\n",
    "\n",
    "An accuracy of 0.5 means that your model is performing no better than random guessing on the test data.\n",
    "\n",
    "In binary classification problems (where there are only two possible classes), if the accuracy is 0.5, it suggests that the model is making predictions that are as good as flipping a coin. Essentially, it's unable to distinguish between the two classes and is making random guesses."
   ]
  },
  {
   "cell_type": "markdown",
   "metadata": {},
   "source": [
    "Attempt to improve accuracy score with XGBoost:"
   ]
  },
  {
   "cell_type": "code",
   "execution_count": 839,
   "metadata": {},
   "outputs": [
    {
     "name": "stdout",
     "output_type": "stream",
     "text": [
      "Accuracy: 0.50\n"
     ]
    }
   ],
   "source": [
    "import pandas as pd\n",
    "from sklearn.model_selection import train_test_split\n",
    "import xgboost as xgb\n",
    "from sklearn.metrics import accuracy_score\n",
    "\n",
    "# Read the CSV file into a DataFrame\n",
    "input_file = \"machinedata.csv\"\n",
    "df = pd.read_csv(input_file)\n",
    "\n",
    "# Convert boolean columns to integers (if needed)\n",
    "df[\"Capacitive_Sensor\"] = df[\"Capacitive_Sensor\"].astype(int)\n",
    "df[\"Inductive_Sensor\"] = df[\"Inductive_Sensor\"].astype(int)\n",
    "df[\"Failure\"] = df[\"Failure\"].astype(int)\n",
    "\n",
    "# Separate features and target variable\n",
    "features = list(df.columns[:3])\n",
    "X = df[features]  # Features\n",
    "y = df[\"Failure\"]  # Target variable\n",
    "\n",
    "# Split data into train and test sets\n",
    "X_train, X_test, y_train, y_test = train_test_split(X, y, test_size=0.2, random_state=0)\n",
    "\n",
    "# Convert data to DMatrix format with specifying feature names\n",
    "train = xgb.DMatrix(data=X_train, label=y_train, feature_names=features)\n",
    "test = xgb.DMatrix(data=X_test, label=y_test, feature_names=features)\n",
    "\n",
    "# Remove \"num_class\" parameter or set it to 1 (since it's a binary classification task)\n",
    "param = {\n",
    "    \"max_depth\": 6,\n",
    "    \"eta\": 0.1,\n",
    "    \"objective\": \"binary:logistic\",\n",
    "    \"eval_metric\": \"error\"\n",
    "}\n",
    "\n",
    "epochs = 2  # no of iterations, how many times we want to run this algorithm over\n",
    "\n",
    "# Train the XGBoost model\n",
    "model = xgb.train(params=param, dtrain=train, num_boost_round=epochs)\n",
    "\n",
    "# Make predictions\n",
    "predictions = model.predict(data=test)\n",
    "\n",
    "# Convert probabilities to binary predictions\n",
    "predictions_binary = [1 if p > 0.5 else 0 for p in predictions]\n",
    "\n",
    "# Evaluate accuracy\n",
    "accuracy = accuracy_score(y_test, predictions_binary)\n",
    "print(f'Accuracy: {accuracy:.2f}')"
   ]
  },
  {
   "cell_type": "markdown",
   "metadata": {},
   "source": [
    "Attempt to improve accuracy using Random Forest:"
   ]
  },
  {
   "cell_type": "code",
   "execution_count": 840,
   "metadata": {},
   "outputs": [
    {
     "name": "stdout",
     "output_type": "stream",
     "text": [
      "[0 0]\n",
      "Accuracy: 0.50\n",
      "\n",
      "Classification Report:\n",
      "              precision    recall  f1-score   support\n",
      "\n",
      "           0       0.50      1.00      0.67         1\n",
      "           1       0.00      0.00      0.00         1\n",
      "\n",
      "    accuracy                           0.50         2\n",
      "   macro avg       0.25      0.50      0.33         2\n",
      "weighted avg       0.25      0.50      0.33         2\n",
      "\n"
     ]
    },
    {
     "name": "stderr",
     "output_type": "stream",
     "text": [
      "c:\\Users\\ahmad\\AppData\\Local\\Programs\\Python\\Python310\\lib\\site-packages\\sklearn\\metrics\\_classification.py:1469: UndefinedMetricWarning: Precision and F-score are ill-defined and being set to 0.0 in labels with no predicted samples. Use `zero_division` parameter to control this behavior.\n",
      "  _warn_prf(average, modifier, msg_start, len(result))\n",
      "c:\\Users\\ahmad\\AppData\\Local\\Programs\\Python\\Python310\\lib\\site-packages\\sklearn\\metrics\\_classification.py:1469: UndefinedMetricWarning: Precision and F-score are ill-defined and being set to 0.0 in labels with no predicted samples. Use `zero_division` parameter to control this behavior.\n",
      "  _warn_prf(average, modifier, msg_start, len(result))\n",
      "c:\\Users\\ahmad\\AppData\\Local\\Programs\\Python\\Python310\\lib\\site-packages\\sklearn\\metrics\\_classification.py:1469: UndefinedMetricWarning: Precision and F-score are ill-defined and being set to 0.0 in labels with no predicted samples. Use `zero_division` parameter to control this behavior.\n",
      "  _warn_prf(average, modifier, msg_start, len(result))\n"
     ]
    }
   ],
   "source": [
    "import pandas as pd\n",
    "from sklearn import tree\n",
    "from sklearn.model_selection import train_test_split\n",
    "from sklearn.ensemble import RandomForestClassifier\n",
    "from sklearn.metrics import accuracy_score, classification_report\n",
    "\n",
    "input_file = \"machinedata.csv\"\n",
    "df = pd.read_csv(input_file)\n",
    "\n",
    "# Convert boolean columns to integers (if needed)\n",
    "df[\"Capacitive_Sensor\"] = df[\"Capacitive_Sensor\"].astype(int)\n",
    "df[\"Inductive_Sensor\"] = df[\"Inductive_Sensor\"].astype(int)\n",
    "df[\"Failure\"] = df[\"Failure\"].astype(int)\n",
    "\n",
    "# Separate features and target variable\n",
    "features = list(df.columns[:3])\n",
    "X = df[features]  # Features\n",
    "y = df[\"Failure\"]  # Target variable\n",
    "\n",
    "# Split data into train and test sets\n",
    "X_train, X_test, y_train, y_test = train_test_split(X, y, test_size=0.2, random_state=0)\n",
    "\n",
    "clf = RandomForestClassifier(n_estimators=10) # n_estimators is equal to the number of trees\n",
    "clf = clf.fit(X_train, y_train)\n",
    "\n",
    "# Predictions for the test set\n",
    "predictions = clf.predict(X_test)\n",
    "print(predictions)\n",
    "\n",
    "# Evaluate accuracy\n",
    "accuracy = accuracy_score(y_test, predictions)\n",
    "print(f'Accuracy: {accuracy:.2f}')\n",
    "\n",
    "# Display classification report\n",
    "print('\\nClassification Report:')\n",
    "print(classification_report(y_test, predictions))"
   ]
  },
  {
   "cell_type": "code",
   "execution_count": 841,
   "metadata": {},
   "outputs": [
    {
     "data": {
      "image/png": "[encoded data removed]",
      "text/plain": [
       "<IPython.core.display.Image object>"
      ]
     },
     "execution_count": 841,
     "metadata": {},
     "output_type": "execute_result"
    }
   ],
   "source": [
    "from IPython.display import Image  \n",
    "from six import StringIO  \n",
    "import pydotplus\n",
    "\n",
    "# Visualize one of the trees in the Random Forest (for example, the first tree)\n",
    "# Note: You can choose a different tree index based on your requirements\n",
    "tree_to_visualize = 1\n",
    "tree_visualization_data = StringIO()\n",
    "tree.export_graphviz(clf.estimators_[tree_to_visualize], out_file=tree_visualization_data,\n",
    "                     feature_names=features, filled=True, rounded=True, special_characters=True)\n",
    "\n",
    "\n",
    "# Add a title to the PyDotPlus graph object\n",
    "tree_graph = pydotplus.graph_from_dot_data(tree_visualization_data.getvalue())\n",
    "tree_graph.set('label', 'Random Forest')\n",
    "\n",
    "Image(tree_graph.create_png())"
   ]
  },
  {
   "cell_type": "code",
   "execution_count": 842,
   "metadata": {},
   "outputs": [
    {
     "data": {
      "text/plain": [
       "True"
      ]
     },
     "execution_count": 842,
     "metadata": {},
     "output_type": "execute_result"
    }
   ],
   "source": [
    "# Save the random forest tree visualization as a PNG file\n",
    "output_file_path = \"random_forest.png\"\n",
    "tree_graph.write_png(output_file_path)"
   ]
  }
 ],
 "metadata": {
  "kernelspec": {
   "display_name": "Python 3",
   "language": "python",
   "name": "python3"
  },
  "language_info": {
   "codemirror_mode": {
    "name": "ipython",
    "version": 3
   },
   "file_extension": ".py",
   "mimetype": "text/x-python",
   "name": "python",
   "nbconvert_exporter": "python",
   "pygments_lexer": "ipython3",
   "version": "3.10.0"
  }
 },
 "nbformat": 4,
 "nbformat_minor": 2
}
