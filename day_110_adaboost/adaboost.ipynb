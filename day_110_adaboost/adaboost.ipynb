{
 "cells": [
  {
   "cell_type": "markdown",
   "metadata": {},
   "source": [
    "**AdaBoost (Adaptive Boosting)**"
   ]
  },
  {
   "cell_type": "markdown",
   "metadata": {},
   "source": [
    "AdaBoost was introduced in 1995 by Freund and Schapire.\n",
    "\n",
    "* AdaBoost combines a lot of \"weak learner\" to make classisfications. The weak learners are almost always <b>stumps</b>.\n",
    "* Some stumps get more say in the classification than others.\n",
    "* Each stump is made by taking the previous stump's mistakes into account."
   ]
  },
  {
   "cell_type": "markdown",
   "metadata": {},
   "source": [
    "AdaBoost is a machine learning algorithm that works by combining multiple simple models, called weak learners, to make accurate predictions. \n",
    "\n",
    "Here's a simplified explanation:\n",
    "\n",
    "1. **Starting Point**: We begin by training a weak learner on the original data, where each data point has the same importance.\n",
    "\n",
    "2. **Sequential Learning**: AdaBoost trains a sequence of weak learners, each focusing on the mistakes made by the previous one. \n",
    "\n",
    "3. **Weighted Data**: At each step, AdaBoost gives more weight to the data points that were incorrectly predicted by the previous weak learner. This makes the next weak learner focus more on these difficult examples.\n",
    "\n",
    "4. **Combining Predictions**: After training all the weak learners, AdaBoost combines their predictions using a weighted majority vote. This final prediction is usually more accurate than the individual predictions of the weak learners.\n",
    "\n",
    "In summary, AdaBoost learns from its mistakes and adapts over time to improve its performance. It's like having a team of learners, where each member specializes in different areas and collectively they make better decisions."
   ]
  },
  {
   "cell_type": "markdown",
   "metadata": {},
   "source": [
    "<b>How to create a Forest of Stumps using AdaBoost:</b>"
   ]
  },
  {
   "cell_type": "markdown",
   "metadata": {},
   "source": [
    "First we will start with some data. We create a Forest of Stumps with AdaBoost to predict machine failures based on sensor data."
   ]
  },
  {
   "cell_type": "code",
   "execution_count": 64,
   "metadata": {},
   "outputs": [
    {
     "data": {
      "text/html": [
       "<div>\n",
       "<style scoped>\n",
       "    .dataframe tbody tr th:only-of-type {\n",
       "        vertical-align: middle;\n",
       "    }\n",
       "\n",
       "    .dataframe tbody tr th {\n",
       "        vertical-align: top;\n",
       "    }\n",
       "\n",
       "    .dataframe thead th {\n",
       "        text-align: right;\n",
       "    }\n",
       "</style>\n",
       "<table border=\"1\" class=\"dataframe\">\n",
       "  <thead>\n",
       "    <tr style=\"text-align: right;\">\n",
       "      <th></th>\n",
       "      <th>Capacitive_Sensor</th>\n",
       "      <th>Inductive_Sensor</th>\n",
       "      <th>Optical_Sensor</th>\n",
       "      <th>Temperature_Sensor</th>\n",
       "      <th>Airflow_Sensor</th>\n",
       "      <th>Current_Sensor</th>\n",
       "      <th>Failure</th>\n",
       "    </tr>\n",
       "  </thead>\n",
       "  <tbody>\n",
       "    <tr>\n",
       "      <th>0</th>\n",
       "      <td>True</td>\n",
       "      <td>False</td>\n",
       "      <td>True</td>\n",
       "      <td>31.374863</td>\n",
       "      <td>3.00</td>\n",
       "      <td>0.85</td>\n",
       "      <td>False</td>\n",
       "    </tr>\n",
       "    <tr>\n",
       "      <th>1</th>\n",
       "      <td>True</td>\n",
       "      <td>True</td>\n",
       "      <td>True</td>\n",
       "      <td>31.915600</td>\n",
       "      <td>2.00</td>\n",
       "      <td>0.72</td>\n",
       "      <td>True</td>\n",
       "    </tr>\n",
       "    <tr>\n",
       "      <th>2</th>\n",
       "      <td>False</td>\n",
       "      <td>True</td>\n",
       "      <td>True</td>\n",
       "      <td>28.795706</td>\n",
       "      <td>6.00</td>\n",
       "      <td>0.69</td>\n",
       "      <td>False</td>\n",
       "    </tr>\n",
       "    <tr>\n",
       "      <th>3</th>\n",
       "      <td>True</td>\n",
       "      <td>False</td>\n",
       "      <td>True</td>\n",
       "      <td>34.460406</td>\n",
       "      <td>4.00</td>\n",
       "      <td>0.8</td>\n",
       "      <td>False</td>\n",
       "    </tr>\n",
       "    <tr>\n",
       "      <th>4</th>\n",
       "      <td>True</td>\n",
       "      <td>True</td>\n",
       "      <td>False</td>\n",
       "      <td>29.309847</td>\n",
       "      <td>1.00</td>\n",
       "      <td>0.92</td>\n",
       "      <td>True</td>\n",
       "    </tr>\n",
       "    <tr>\n",
       "      <th>5</th>\n",
       "      <td>False</td>\n",
       "      <td>True</td>\n",
       "      <td>False</td>\n",
       "      <td>30.737379</td>\n",
       "      <td>0.65</td>\n",
       "      <td>True</td>\n",
       "      <td>True</td>\n",
       "    </tr>\n",
       "    <tr>\n",
       "      <th>6</th>\n",
       "      <td>True</td>\n",
       "      <td>True</td>\n",
       "      <td>False</td>\n",
       "      <td>32.754322</td>\n",
       "      <td>3.00</td>\n",
       "      <td>0.78</td>\n",
       "      <td>False</td>\n",
       "    </tr>\n",
       "    <tr>\n",
       "      <th>7</th>\n",
       "      <td>False</td>\n",
       "      <td>True</td>\n",
       "      <td>True</td>\n",
       "      <td>30.132068</td>\n",
       "      <td>2.00</td>\n",
       "      <td>0.88</td>\n",
       "      <td>False</td>\n",
       "    </tr>\n",
       "    <tr>\n",
       "      <th>8</th>\n",
       "      <td>True</td>\n",
       "      <td>False</td>\n",
       "      <td>True</td>\n",
       "      <td>30.413072</td>\n",
       "      <td>6.00</td>\n",
       "      <td>0.91</td>\n",
       "      <td>True</td>\n",
       "    </tr>\n",
       "    <tr>\n",
       "      <th>9</th>\n",
       "      <td>False</td>\n",
       "      <td>True</td>\n",
       "      <td>False</td>\n",
       "      <td>30.636489</td>\n",
       "      <td>1.00</td>\n",
       "      <td>0.72</td>\n",
       "      <td>False</td>\n",
       "    </tr>\n",
       "  </tbody>\n",
       "</table>\n",
       "</div>"
      ],
      "text/plain": [
       "   Capacitive_Sensor  Inductive_Sensor  Optical_Sensor  Temperature_Sensor  \\\n",
       "0               True             False            True           31.374863   \n",
       "1               True              True            True           31.915600   \n",
       "2              False              True            True           28.795706   \n",
       "3               True             False            True           34.460406   \n",
       "4               True              True           False           29.309847   \n",
       "5              False              True           False           30.737379   \n",
       "6               True              True           False           32.754322   \n",
       "7              False              True            True           30.132068   \n",
       "8               True             False            True           30.413072   \n",
       "9              False              True           False           30.636489   \n",
       "\n",
       "   Airflow_Sensor Current_Sensor  Failure  \n",
       "0            3.00           0.85    False  \n",
       "1            2.00           0.72     True  \n",
       "2            6.00           0.69    False  \n",
       "3            4.00            0.8    False  \n",
       "4            1.00           0.92     True  \n",
       "5            0.65           True     True  \n",
       "6            3.00           0.78    False  \n",
       "7            2.00           0.88    False  \n",
       "8            6.00           0.91     True  \n",
       "9            1.00           0.72    False  "
      ]
     },
     "execution_count": 64,
     "metadata": {},
     "output_type": "execute_result"
    }
   ],
   "source": [
    "import pandas as pd\n",
    "import numpy as np\n",
    "\n",
    "input_file = \"machinedata.csv\"\n",
    "df = pd.read_csv(input_file)\n",
    "\n",
    "# Generate random temperatures\n",
    "np.random.seed(2)\n",
    "random_temperatures = np.random.normal(32.0, 1.5, len(df)) \n",
    "random_temperatures\n",
    "\n",
    "df[\"Temperature_Sensor\"] = random_temperatures\n",
    "df.to_csv(\"machinedata.csv\", index=False)\n",
    "df"
   ]
  },
  {
   "cell_type": "code",
   "execution_count": 65,
   "metadata": {},
   "outputs": [],
   "source": [
    "# dropping the columns for simplification\n",
    "df.drop(columns=[\"Optical_Sensor\", \"Airflow_Sensor\", \"Current_Sensor\"], axis=1, inplace=True)"
   ]
  },
  {
   "cell_type": "code",
   "execution_count": 66,
   "metadata": {},
   "outputs": [
    {
     "data": {
      "text/html": [
       "<div>\n",
       "<style scoped>\n",
       "    .dataframe tbody tr th:only-of-type {\n",
       "        vertical-align: middle;\n",
       "    }\n",
       "\n",
       "    .dataframe tbody tr th {\n",
       "        vertical-align: top;\n",
       "    }\n",
       "\n",
       "    .dataframe thead th {\n",
       "        text-align: right;\n",
       "    }\n",
       "</style>\n",
       "<table border=\"1\" class=\"dataframe\">\n",
       "  <thead>\n",
       "    <tr style=\"text-align: right;\">\n",
       "      <th></th>\n",
       "      <th>Capacitive_Sensor</th>\n",
       "      <th>Inductive_Sensor</th>\n",
       "      <th>Temperature_Sensor</th>\n",
       "      <th>Failure</th>\n",
       "    </tr>\n",
       "  </thead>\n",
       "  <tbody>\n",
       "    <tr>\n",
       "      <th>0</th>\n",
       "      <td>True</td>\n",
       "      <td>False</td>\n",
       "      <td>31.374863</td>\n",
       "      <td>False</td>\n",
       "    </tr>\n",
       "    <tr>\n",
       "      <th>1</th>\n",
       "      <td>True</td>\n",
       "      <td>True</td>\n",
       "      <td>31.915600</td>\n",
       "      <td>True</td>\n",
       "    </tr>\n",
       "    <tr>\n",
       "      <th>2</th>\n",
       "      <td>False</td>\n",
       "      <td>True</td>\n",
       "      <td>28.795706</td>\n",
       "      <td>False</td>\n",
       "    </tr>\n",
       "    <tr>\n",
       "      <th>3</th>\n",
       "      <td>True</td>\n",
       "      <td>False</td>\n",
       "      <td>34.460406</td>\n",
       "      <td>False</td>\n",
       "    </tr>\n",
       "    <tr>\n",
       "      <th>4</th>\n",
       "      <td>True</td>\n",
       "      <td>True</td>\n",
       "      <td>29.309847</td>\n",
       "      <td>True</td>\n",
       "    </tr>\n",
       "    <tr>\n",
       "      <th>5</th>\n",
       "      <td>False</td>\n",
       "      <td>True</td>\n",
       "      <td>30.737379</td>\n",
       "      <td>True</td>\n",
       "    </tr>\n",
       "    <tr>\n",
       "      <th>6</th>\n",
       "      <td>True</td>\n",
       "      <td>True</td>\n",
       "      <td>32.754322</td>\n",
       "      <td>False</td>\n",
       "    </tr>\n",
       "    <tr>\n",
       "      <th>7</th>\n",
       "      <td>False</td>\n",
       "      <td>True</td>\n",
       "      <td>30.132068</td>\n",
       "      <td>False</td>\n",
       "    </tr>\n",
       "    <tr>\n",
       "      <th>8</th>\n",
       "      <td>True</td>\n",
       "      <td>False</td>\n",
       "      <td>30.413072</td>\n",
       "      <td>True</td>\n",
       "    </tr>\n",
       "    <tr>\n",
       "      <th>9</th>\n",
       "      <td>False</td>\n",
       "      <td>True</td>\n",
       "      <td>30.636489</td>\n",
       "      <td>False</td>\n",
       "    </tr>\n",
       "  </tbody>\n",
       "</table>\n",
       "</div>"
      ],
      "text/plain": [
       "   Capacitive_Sensor  Inductive_Sensor  Temperature_Sensor  Failure\n",
       "0               True             False           31.374863    False\n",
       "1               True              True           31.915600     True\n",
       "2              False              True           28.795706    False\n",
       "3               True             False           34.460406    False\n",
       "4               True              True           29.309847     True\n",
       "5              False              True           30.737379     True\n",
       "6               True              True           32.754322    False\n",
       "7              False              True           30.132068    False\n",
       "8               True             False           30.413072     True\n",
       "9              False              True           30.636489    False"
      ]
     },
     "execution_count": 66,
     "metadata": {},
     "output_type": "execute_result"
    }
   ],
   "source": [
    "df"
   ]
  },
  {
   "cell_type": "markdown",
   "metadata": {},
   "source": [
    "The first thing we do is give each sample a weight that indicates how important it is to be correctly classified.\n",
    "\n",
    "At the start, all samples get the same weight: 1 / total number of samples\n",
    "\n",
    "In our example, it is 1 / 10\n",
    "\n",
    "However, after we make the first stump, these weights will change in order to guide how the next stump is created."
   ]
  },
  {
   "cell_type": "code",
   "execution_count": 67,
   "metadata": {},
   "outputs": [
    {
     "data": {
      "text/html": [
       "<div>\n",
       "<style scoped>\n",
       "    .dataframe tbody tr th:only-of-type {\n",
       "        vertical-align: middle;\n",
       "    }\n",
       "\n",
       "    .dataframe tbody tr th {\n",
       "        vertical-align: top;\n",
       "    }\n",
       "\n",
       "    .dataframe thead th {\n",
       "        text-align: right;\n",
       "    }\n",
       "</style>\n",
       "<table border=\"1\" class=\"dataframe\">\n",
       "  <thead>\n",
       "    <tr style=\"text-align: right;\">\n",
       "      <th></th>\n",
       "      <th>Capacitive_Sensor</th>\n",
       "      <th>Inductive_Sensor</th>\n",
       "      <th>Temperature_Sensor</th>\n",
       "      <th>Failure</th>\n",
       "      <th>Sample_Weight</th>\n",
       "    </tr>\n",
       "  </thead>\n",
       "  <tbody>\n",
       "    <tr>\n",
       "      <th>0</th>\n",
       "      <td>True</td>\n",
       "      <td>False</td>\n",
       "      <td>31.374863</td>\n",
       "      <td>False</td>\n",
       "      <td>0.1</td>\n",
       "    </tr>\n",
       "    <tr>\n",
       "      <th>1</th>\n",
       "      <td>True</td>\n",
       "      <td>True</td>\n",
       "      <td>31.915600</td>\n",
       "      <td>True</td>\n",
       "      <td>0.1</td>\n",
       "    </tr>\n",
       "    <tr>\n",
       "      <th>2</th>\n",
       "      <td>False</td>\n",
       "      <td>True</td>\n",
       "      <td>28.795706</td>\n",
       "      <td>False</td>\n",
       "      <td>0.1</td>\n",
       "    </tr>\n",
       "    <tr>\n",
       "      <th>3</th>\n",
       "      <td>True</td>\n",
       "      <td>False</td>\n",
       "      <td>34.460406</td>\n",
       "      <td>False</td>\n",
       "      <td>0.1</td>\n",
       "    </tr>\n",
       "    <tr>\n",
       "      <th>4</th>\n",
       "      <td>True</td>\n",
       "      <td>True</td>\n",
       "      <td>29.309847</td>\n",
       "      <td>True</td>\n",
       "      <td>0.1</td>\n",
       "    </tr>\n",
       "    <tr>\n",
       "      <th>5</th>\n",
       "      <td>False</td>\n",
       "      <td>True</td>\n",
       "      <td>30.737379</td>\n",
       "      <td>True</td>\n",
       "      <td>0.1</td>\n",
       "    </tr>\n",
       "    <tr>\n",
       "      <th>6</th>\n",
       "      <td>True</td>\n",
       "      <td>True</td>\n",
       "      <td>32.754322</td>\n",
       "      <td>False</td>\n",
       "      <td>0.1</td>\n",
       "    </tr>\n",
       "    <tr>\n",
       "      <th>7</th>\n",
       "      <td>False</td>\n",
       "      <td>True</td>\n",
       "      <td>30.132068</td>\n",
       "      <td>False</td>\n",
       "      <td>0.1</td>\n",
       "    </tr>\n",
       "    <tr>\n",
       "      <th>8</th>\n",
       "      <td>True</td>\n",
       "      <td>False</td>\n",
       "      <td>30.413072</td>\n",
       "      <td>True</td>\n",
       "      <td>0.1</td>\n",
       "    </tr>\n",
       "    <tr>\n",
       "      <th>9</th>\n",
       "      <td>False</td>\n",
       "      <td>True</td>\n",
       "      <td>30.636489</td>\n",
       "      <td>False</td>\n",
       "      <td>0.1</td>\n",
       "    </tr>\n",
       "  </tbody>\n",
       "</table>\n",
       "</div>"
      ],
      "text/plain": [
       "   Capacitive_Sensor  Inductive_Sensor  Temperature_Sensor  Failure  \\\n",
       "0               True             False           31.374863    False   \n",
       "1               True              True           31.915600     True   \n",
       "2              False              True           28.795706    False   \n",
       "3               True             False           34.460406    False   \n",
       "4               True              True           29.309847     True   \n",
       "5              False              True           30.737379     True   \n",
       "6               True              True           32.754322    False   \n",
       "7              False              True           30.132068    False   \n",
       "8               True             False           30.413072     True   \n",
       "9              False              True           30.636489    False   \n",
       "\n",
       "   Sample_Weight  \n",
       "0            0.1  \n",
       "1            0.1  \n",
       "2            0.1  \n",
       "3            0.1  \n",
       "4            0.1  \n",
       "5            0.1  \n",
       "6            0.1  \n",
       "7            0.1  \n",
       "8            0.1  \n",
       "9            0.1  "
      ]
     },
     "execution_count": 67,
     "metadata": {},
     "output_type": "execute_result"
    }
   ],
   "source": [
    "total_samples = df.shape[0] # total rows\n",
    "df[\"Sample_Weight\"] = 1 / total_samples\n",
    "df"
   ]
  },
  {
   "cell_type": "code",
   "execution_count": 68,
   "metadata": {},
   "outputs": [
    {
     "name": "stdout",
     "output_type": "stream",
     "text": [
      "['Capacitive_Sensor', 'Inductive_Sensor', 'Temperature_Sensor']\n"
     ]
    }
   ],
   "source": [
    "print(list(df.columns[:3]))"
   ]
  },
  {
   "cell_type": "markdown",
   "metadata": {},
   "source": [
    "<b>1. Now we need to make the first stump in the forest/ Building a stump with the GINI index:</b>\n",
    "\n",
    "This is done by finding the variables 'Capacitive_Sensor', 'Inductive_Sensor' or 'Temperature_Sensor' that does the best job classifying the samples.\n",
    "\n",
    "NOTE: Because all of the weights are the same, we can ignore them right now."
   ]
  },
  {
   "cell_type": "markdown",
   "metadata": {},
   "source": [
    "Start by seeing how well \"Capacitive_Sensor\" classifies the samples."
   ]
  },
  {
   "cell_type": "code",
   "execution_count": 69,
   "metadata": {},
   "outputs": [
    {
     "data": {
      "text/html": [
       "<div>\n",
       "<style scoped>\n",
       "    .dataframe tbody tr th:only-of-type {\n",
       "        vertical-align: middle;\n",
       "    }\n",
       "\n",
       "    .dataframe tbody tr th {\n",
       "        vertical-align: top;\n",
       "    }\n",
       "\n",
       "    .dataframe thead th {\n",
       "        text-align: right;\n",
       "    }\n",
       "</style>\n",
       "<table border=\"1\" class=\"dataframe\">\n",
       "  <thead>\n",
       "    <tr style=\"text-align: right;\">\n",
       "      <th></th>\n",
       "      <th>Capacitive_Sensor</th>\n",
       "      <th>Failure</th>\n",
       "    </tr>\n",
       "  </thead>\n",
       "  <tbody>\n",
       "    <tr>\n",
       "      <th>0</th>\n",
       "      <td>True</td>\n",
       "      <td>False</td>\n",
       "    </tr>\n",
       "    <tr>\n",
       "      <th>1</th>\n",
       "      <td>True</td>\n",
       "      <td>True</td>\n",
       "    </tr>\n",
       "    <tr>\n",
       "      <th>2</th>\n",
       "      <td>False</td>\n",
       "      <td>False</td>\n",
       "    </tr>\n",
       "    <tr>\n",
       "      <th>3</th>\n",
       "      <td>True</td>\n",
       "      <td>False</td>\n",
       "    </tr>\n",
       "    <tr>\n",
       "      <th>4</th>\n",
       "      <td>True</td>\n",
       "      <td>True</td>\n",
       "    </tr>\n",
       "    <tr>\n",
       "      <th>5</th>\n",
       "      <td>False</td>\n",
       "      <td>True</td>\n",
       "    </tr>\n",
       "    <tr>\n",
       "      <th>6</th>\n",
       "      <td>True</td>\n",
       "      <td>False</td>\n",
       "    </tr>\n",
       "    <tr>\n",
       "      <th>7</th>\n",
       "      <td>False</td>\n",
       "      <td>False</td>\n",
       "    </tr>\n",
       "    <tr>\n",
       "      <th>8</th>\n",
       "      <td>True</td>\n",
       "      <td>True</td>\n",
       "    </tr>\n",
       "    <tr>\n",
       "      <th>9</th>\n",
       "      <td>False</td>\n",
       "      <td>False</td>\n",
       "    </tr>\n",
       "  </tbody>\n",
       "</table>\n",
       "</div>"
      ],
      "text/plain": [
       "   Capacitive_Sensor  Failure\n",
       "0               True    False\n",
       "1               True     True\n",
       "2              False    False\n",
       "3               True    False\n",
       "4               True     True\n",
       "5              False     True\n",
       "6               True    False\n",
       "7              False    False\n",
       "8               True     True\n",
       "9              False    False"
      ]
     },
     "execution_count": 69,
     "metadata": {},
     "output_type": "execute_result"
    }
   ],
   "source": [
    "df[[\"Capacitive_Sensor\", \"Failure\"]]"
   ]
  },
  {
   "cell_type": "markdown",
   "metadata": {},
   "source": [
    "Of the 6 samples with Capacitive_Sensor is True, 3 were correctly classified as having Machine Failure and 3 were incorrectly classified.\n",
    "\n",
    "Of the 4 samples with Capacitive_Sensor is False, 3 were correctly classified as <b>not</b> having Machine Failure and 1 were incorrectly classified."
   ]
  },
  {
   "cell_type": "code",
   "execution_count": 70,
   "metadata": {},
   "outputs": [
    {
     "name": "stdout",
     "output_type": "stream",
     "text": [
      "0.5\n",
      "0.375\n"
     ]
    },
    {
     "data": {
      "text/plain": [
       "0.45"
      ]
     },
     "execution_count": 70,
     "metadata": {},
     "output_type": "execute_result"
    }
   ],
   "source": [
    "# Calculate the Gini Impurity for \"Capacitive_Sensor\"\n",
    "\n",
    "left_leaf_gini = np.round((1 - np.square(3/6) - np.square(3/6)), decimals=3)\n",
    "print(left_leaf_gini)\n",
    "\n",
    "right_leaf_gini = np.round((1 - np.square(3/4) - np.square(1/4)), decimals=3)\n",
    "print(right_leaf_gini)\n",
    "\n",
    "total_gini_impurity = np.round((6/10)*left_leaf_gini + (4/10)*right_leaf_gini, decimals=3)\n",
    "total_gini_impurity"
   ]
  },
  {
   "cell_type": "markdown",
   "metadata": {},
   "source": [
    "Now we do the same thing for \"Inductive_Sensor\"."
   ]
  },
  {
   "cell_type": "code",
   "execution_count": 71,
   "metadata": {},
   "outputs": [
    {
     "data": {
      "text/html": [
       "<div>\n",
       "<style scoped>\n",
       "    .dataframe tbody tr th:only-of-type {\n",
       "        vertical-align: middle;\n",
       "    }\n",
       "\n",
       "    .dataframe tbody tr th {\n",
       "        vertical-align: top;\n",
       "    }\n",
       "\n",
       "    .dataframe thead th {\n",
       "        text-align: right;\n",
       "    }\n",
       "</style>\n",
       "<table border=\"1\" class=\"dataframe\">\n",
       "  <thead>\n",
       "    <tr style=\"text-align: right;\">\n",
       "      <th></th>\n",
       "      <th>Inductive_Sensor</th>\n",
       "      <th>Failure</th>\n",
       "    </tr>\n",
       "  </thead>\n",
       "  <tbody>\n",
       "    <tr>\n",
       "      <th>0</th>\n",
       "      <td>False</td>\n",
       "      <td>False</td>\n",
       "    </tr>\n",
       "    <tr>\n",
       "      <th>1</th>\n",
       "      <td>True</td>\n",
       "      <td>True</td>\n",
       "    </tr>\n",
       "    <tr>\n",
       "      <th>2</th>\n",
       "      <td>True</td>\n",
       "      <td>False</td>\n",
       "    </tr>\n",
       "    <tr>\n",
       "      <th>3</th>\n",
       "      <td>False</td>\n",
       "      <td>False</td>\n",
       "    </tr>\n",
       "    <tr>\n",
       "      <th>4</th>\n",
       "      <td>True</td>\n",
       "      <td>True</td>\n",
       "    </tr>\n",
       "    <tr>\n",
       "      <th>5</th>\n",
       "      <td>True</td>\n",
       "      <td>True</td>\n",
       "    </tr>\n",
       "    <tr>\n",
       "      <th>6</th>\n",
       "      <td>True</td>\n",
       "      <td>False</td>\n",
       "    </tr>\n",
       "    <tr>\n",
       "      <th>7</th>\n",
       "      <td>True</td>\n",
       "      <td>False</td>\n",
       "    </tr>\n",
       "    <tr>\n",
       "      <th>8</th>\n",
       "      <td>False</td>\n",
       "      <td>True</td>\n",
       "    </tr>\n",
       "    <tr>\n",
       "      <th>9</th>\n",
       "      <td>True</td>\n",
       "      <td>False</td>\n",
       "    </tr>\n",
       "  </tbody>\n",
       "</table>\n",
       "</div>"
      ],
      "text/plain": [
       "   Inductive_Sensor  Failure\n",
       "0             False    False\n",
       "1              True     True\n",
       "2              True    False\n",
       "3             False    False\n",
       "4              True     True\n",
       "5              True     True\n",
       "6              True    False\n",
       "7              True    False\n",
       "8             False     True\n",
       "9              True    False"
      ]
     },
     "execution_count": 71,
     "metadata": {},
     "output_type": "execute_result"
    }
   ],
   "source": [
    "df[[\"Inductive_Sensor\", \"Failure\"]]"
   ]
  },
  {
   "cell_type": "markdown",
   "metadata": {},
   "source": [
    "Of the 7 samples with Inductive_Sensor is True, 3 were correctly classified as having machine Failure and 4 were incorrectly classified.\n",
    "\n",
    "Of the 3 samples with Inductive_Sensor is False, 2 were correctly classified and 1 were incorrectly classified."
   ]
  },
  {
   "cell_type": "code",
   "execution_count": 72,
   "metadata": {},
   "outputs": [
    {
     "name": "stdout",
     "output_type": "stream",
     "text": [
      "0.49\n",
      "0.444\n"
     ]
    },
    {
     "data": {
      "text/plain": [
       "0.476"
      ]
     },
     "execution_count": 72,
     "metadata": {},
     "output_type": "execute_result"
    }
   ],
   "source": [
    "# Calculate the Gini Impurity for \"Inductive_Sensor\"\n",
    "\n",
    "left_leaf_gini = np.round((1 - np.square(3/7) - np.square(4/7)), decimals=3)\n",
    "print(left_leaf_gini)\n",
    "\n",
    "right_leaf_gini = np.round((1 - np.square(2/3) - np.square(1/3)), decimals=3)\n",
    "print(right_leaf_gini)\n",
    "\n",
    "total_gini_impurity = np.round((7/10)*left_leaf_gini + (3/10)*right_leaf_gini, decimals=3)\n",
    "total_gini_impurity"
   ]
  },
  {
   "cell_type": "markdown",
   "metadata": {},
   "source": [
    "Now we do the same thing for \"Temperature_Sensor\"."
   ]
  },
  {
   "cell_type": "code",
   "execution_count": 73,
   "metadata": {},
   "outputs": [
    {
     "data": {
      "text/html": [
       "<div>\n",
       "<style scoped>\n",
       "    .dataframe tbody tr th:only-of-type {\n",
       "        vertical-align: middle;\n",
       "    }\n",
       "\n",
       "    .dataframe tbody tr th {\n",
       "        vertical-align: top;\n",
       "    }\n",
       "\n",
       "    .dataframe thead th {\n",
       "        text-align: right;\n",
       "    }\n",
       "</style>\n",
       "<table border=\"1\" class=\"dataframe\">\n",
       "  <thead>\n",
       "    <tr style=\"text-align: right;\">\n",
       "      <th></th>\n",
       "      <th>Temperature_Sensor</th>\n",
       "      <th>Failure</th>\n",
       "    </tr>\n",
       "  </thead>\n",
       "  <tbody>\n",
       "    <tr>\n",
       "      <th>0</th>\n",
       "      <td>31.374863</td>\n",
       "      <td>False</td>\n",
       "    </tr>\n",
       "    <tr>\n",
       "      <th>1</th>\n",
       "      <td>31.915600</td>\n",
       "      <td>True</td>\n",
       "    </tr>\n",
       "    <tr>\n",
       "      <th>2</th>\n",
       "      <td>28.795706</td>\n",
       "      <td>False</td>\n",
       "    </tr>\n",
       "    <tr>\n",
       "      <th>3</th>\n",
       "      <td>34.460406</td>\n",
       "      <td>False</td>\n",
       "    </tr>\n",
       "    <tr>\n",
       "      <th>4</th>\n",
       "      <td>29.309847</td>\n",
       "      <td>True</td>\n",
       "    </tr>\n",
       "    <tr>\n",
       "      <th>5</th>\n",
       "      <td>30.737379</td>\n",
       "      <td>True</td>\n",
       "    </tr>\n",
       "    <tr>\n",
       "      <th>6</th>\n",
       "      <td>32.754322</td>\n",
       "      <td>False</td>\n",
       "    </tr>\n",
       "    <tr>\n",
       "      <th>7</th>\n",
       "      <td>30.132068</td>\n",
       "      <td>False</td>\n",
       "    </tr>\n",
       "    <tr>\n",
       "      <th>8</th>\n",
       "      <td>30.413072</td>\n",
       "      <td>True</td>\n",
       "    </tr>\n",
       "    <tr>\n",
       "      <th>9</th>\n",
       "      <td>30.636489</td>\n",
       "      <td>False</td>\n",
       "    </tr>\n",
       "  </tbody>\n",
       "</table>\n",
       "</div>"
      ],
      "text/plain": [
       "   Temperature_Sensor  Failure\n",
       "0           31.374863    False\n",
       "1           31.915600     True\n",
       "2           28.795706    False\n",
       "3           34.460406    False\n",
       "4           29.309847     True\n",
       "5           30.737379     True\n",
       "6           32.754322    False\n",
       "7           30.132068    False\n",
       "8           30.413072     True\n",
       "9           30.636489    False"
      ]
     },
     "execution_count": 73,
     "metadata": {},
     "output_type": "execute_result"
    }
   ],
   "source": [
    "df[[\"Temperature_Sensor\", \"Failure\"]]"
   ]
  },
  {
   "cell_type": "markdown",
   "metadata": {},
   "source": [
    "Notice that \"Temperature_Sensor\" contains numeric data, calculating the Gini Impurity is a little more involved.\n",
    "\n",
    "Step 1: The first thing we do is sort the rows from lowest to the highest value."
   ]
  },
  {
   "cell_type": "code",
   "execution_count": 74,
   "metadata": {},
   "outputs": [
    {
     "data": {
      "text/html": [
       "<div>\n",
       "<style scoped>\n",
       "    .dataframe tbody tr th:only-of-type {\n",
       "        vertical-align: middle;\n",
       "    }\n",
       "\n",
       "    .dataframe tbody tr th {\n",
       "        vertical-align: top;\n",
       "    }\n",
       "\n",
       "    .dataframe thead th {\n",
       "        text-align: right;\n",
       "    }\n",
       "</style>\n",
       "<table border=\"1\" class=\"dataframe\">\n",
       "  <thead>\n",
       "    <tr style=\"text-align: right;\">\n",
       "      <th></th>\n",
       "      <th>Temperature_Sensor</th>\n",
       "      <th>Failure</th>\n",
       "    </tr>\n",
       "  </thead>\n",
       "  <tbody>\n",
       "    <tr>\n",
       "      <th>2</th>\n",
       "      <td>28.795706</td>\n",
       "      <td>False</td>\n",
       "    </tr>\n",
       "    <tr>\n",
       "      <th>4</th>\n",
       "      <td>29.309847</td>\n",
       "      <td>True</td>\n",
       "    </tr>\n",
       "    <tr>\n",
       "      <th>7</th>\n",
       "      <td>30.132068</td>\n",
       "      <td>False</td>\n",
       "    </tr>\n",
       "    <tr>\n",
       "      <th>8</th>\n",
       "      <td>30.413072</td>\n",
       "      <td>True</td>\n",
       "    </tr>\n",
       "    <tr>\n",
       "      <th>9</th>\n",
       "      <td>30.636489</td>\n",
       "      <td>False</td>\n",
       "    </tr>\n",
       "    <tr>\n",
       "      <th>5</th>\n",
       "      <td>30.737379</td>\n",
       "      <td>True</td>\n",
       "    </tr>\n",
       "    <tr>\n",
       "      <th>0</th>\n",
       "      <td>31.374863</td>\n",
       "      <td>False</td>\n",
       "    </tr>\n",
       "    <tr>\n",
       "      <th>1</th>\n",
       "      <td>31.915600</td>\n",
       "      <td>True</td>\n",
       "    </tr>\n",
       "    <tr>\n",
       "      <th>6</th>\n",
       "      <td>32.754322</td>\n",
       "      <td>False</td>\n",
       "    </tr>\n",
       "    <tr>\n",
       "      <th>3</th>\n",
       "      <td>34.460406</td>\n",
       "      <td>False</td>\n",
       "    </tr>\n",
       "  </tbody>\n",
       "</table>\n",
       "</div>"
      ],
      "text/plain": [
       "   Temperature_Sensor  Failure\n",
       "2           28.795706    False\n",
       "4           29.309847     True\n",
       "7           30.132068    False\n",
       "8           30.413072     True\n",
       "9           30.636489    False\n",
       "5           30.737379     True\n",
       "0           31.374863    False\n",
       "1           31.915600     True\n",
       "6           32.754322    False\n",
       "3           34.460406    False"
      ]
     },
     "execution_count": 74,
     "metadata": {},
     "output_type": "execute_result"
    }
   ],
   "source": [
    "sorted_by_temperature_df = df.sort_values(\"Temperature_Sensor\", ascending=True)\n",
    "sorted_by_temperature_df[[\"Temperature_Sensor\", \"Failure\"]]"
   ]
  },
  {
   "cell_type": "markdown",
   "metadata": {},
   "source": [
    "Step 2: Calculate the average Temperature for all adjacent data"
   ]
  },
  {
   "cell_type": "code",
   "execution_count": 75,
   "metadata": {},
   "outputs": [
    {
     "name": "stdout",
     "output_type": "stream",
     "text": [
      "[28.79570585649732, 29.309846622207704, 30.132067870089152, 30.41307167170649, 30.636488577609725, 30.737378951515694, 31.374863228891794, 31.915599759160507, 32.75432212573706, 34.46040621260748]\n",
      "[29.05277623935251, 29.72095724614843, 30.27256977089782, 30.524780124658108, 30.68693376456271, 31.056121090203746, 31.64523149402615, 32.33496094244879, 33.60736416917227]\n"
     ]
    },
    {
     "data": {
      "text/html": [
       "<div>\n",
       "<style scoped>\n",
       "    .dataframe tbody tr th:only-of-type {\n",
       "        vertical-align: middle;\n",
       "    }\n",
       "\n",
       "    .dataframe tbody tr th {\n",
       "        vertical-align: top;\n",
       "    }\n",
       "\n",
       "    .dataframe thead th {\n",
       "        text-align: right;\n",
       "    }\n",
       "</style>\n",
       "<table border=\"1\" class=\"dataframe\">\n",
       "  <thead>\n",
       "    <tr style=\"text-align: right;\">\n",
       "      <th></th>\n",
       "      <th>Temperature_Sensor</th>\n",
       "      <th>Failure</th>\n",
       "    </tr>\n",
       "  </thead>\n",
       "  <tbody>\n",
       "    <tr>\n",
       "      <th>2</th>\n",
       "      <td>28.795706</td>\n",
       "      <td>False</td>\n",
       "    </tr>\n",
       "    <tr>\n",
       "      <th>4</th>\n",
       "      <td>29.309847</td>\n",
       "      <td>True</td>\n",
       "    </tr>\n",
       "    <tr>\n",
       "      <th>7</th>\n",
       "      <td>30.132068</td>\n",
       "      <td>False</td>\n",
       "    </tr>\n",
       "    <tr>\n",
       "      <th>8</th>\n",
       "      <td>30.413072</td>\n",
       "      <td>True</td>\n",
       "    </tr>\n",
       "    <tr>\n",
       "      <th>9</th>\n",
       "      <td>30.636489</td>\n",
       "      <td>False</td>\n",
       "    </tr>\n",
       "    <tr>\n",
       "      <th>5</th>\n",
       "      <td>30.737379</td>\n",
       "      <td>True</td>\n",
       "    </tr>\n",
       "    <tr>\n",
       "      <th>0</th>\n",
       "      <td>31.374863</td>\n",
       "      <td>False</td>\n",
       "    </tr>\n",
       "    <tr>\n",
       "      <th>1</th>\n",
       "      <td>31.915600</td>\n",
       "      <td>True</td>\n",
       "    </tr>\n",
       "    <tr>\n",
       "      <th>6</th>\n",
       "      <td>32.754322</td>\n",
       "      <td>False</td>\n",
       "    </tr>\n",
       "    <tr>\n",
       "      <th>3</th>\n",
       "      <td>34.460406</td>\n",
       "      <td>False</td>\n",
       "    </tr>\n",
       "  </tbody>\n",
       "</table>\n",
       "</div>"
      ],
      "text/plain": [
       "   Temperature_Sensor  Failure\n",
       "2           28.795706    False\n",
       "4           29.309847     True\n",
       "7           30.132068    False\n",
       "8           30.413072     True\n",
       "9           30.636489    False\n",
       "5           30.737379     True\n",
       "0           31.374863    False\n",
       "1           31.915600     True\n",
       "6           32.754322    False\n",
       "3           34.460406    False"
      ]
     },
     "execution_count": 75,
     "metadata": {},
     "output_type": "execute_result"
    }
   ],
   "source": [
    "my_list = []\n",
    "averages = []\n",
    "\n",
    "for temp in sorted_by_temperature_df[\"Temperature_Sensor\"]:\n",
    "    my_list.append(temp)\n",
    "\n",
    "# Calculate the average for each adjacent pair\n",
    "for i in range(len(my_list) - 1):\n",
    "    average = (my_list[i] + my_list[i + 1]) / 2\n",
    "    averages.append(average)\n",
    "\n",
    "print(my_list)\n",
    "print(averages)\n",
    "sorted_by_temperature_df[[\"Temperature_Sensor\", \"Failure\"]]"
   ]
  },
  {
   "cell_type": "markdown",
   "metadata": {},
   "source": [
    "Step 3: Calculate the impurity values for each average temperature.\n",
    "\n",
    "1. Temperature < 25.5 --> Gini Impurity = 0.445\n",
    "2. Temperature < 26.5 --> Gini Impurity = 0.476\n",
    "3. Temperature < 27.5 --> Gini Impurity = 0.476\n",
    "4. Temperature < 28.5 --> Gini Impurity = 0.45\n",
    "5. Temperature < 29.5 --> Gini Impurity = 0.48\n",
    "6. Temperature < 30.5 --> Gini Impurity = 0.45\n",
    "7. Temperature < 31.5 --> Gini Impurity = 0.476\n",
    "8. Temperature < 32.5 --> Gini Impurity = 0.476\n",
    "9. Temperature < 33.5 --> Gini Impurity = 0.445"
   ]
  },
  {
   "cell_type": "markdown",
   "metadata": {},
   "source": [
    "From the above, the lowest Gini Impurity occurs when we separate using either Temperature < 25.5 or Temperature < 33.5\n",
    "\n",
    "So this is the cutoff and impurity value we will use when we compare Temperature to Capacitive_Sensor or Inductive_Sensor."
   ]
  },
  {
   "cell_type": "code",
   "execution_count": 76,
   "metadata": {},
   "outputs": [
    {
     "data": {
      "text/html": [
       "<div>\n",
       "<style scoped>\n",
       "    .dataframe tbody tr th:only-of-type {\n",
       "        vertical-align: middle;\n",
       "    }\n",
       "\n",
       "    .dataframe tbody tr th {\n",
       "        vertical-align: top;\n",
       "    }\n",
       "\n",
       "    .dataframe thead th {\n",
       "        text-align: right;\n",
       "    }\n",
       "</style>\n",
       "<table border=\"1\" class=\"dataframe\">\n",
       "  <thead>\n",
       "    <tr style=\"text-align: right;\">\n",
       "      <th></th>\n",
       "      <th>Temperature_Sensor</th>\n",
       "      <th>Failure</th>\n",
       "    </tr>\n",
       "  </thead>\n",
       "  <tbody>\n",
       "    <tr>\n",
       "      <th>2</th>\n",
       "      <td>28.795706</td>\n",
       "      <td>False</td>\n",
       "    </tr>\n",
       "    <tr>\n",
       "      <th>4</th>\n",
       "      <td>29.309847</td>\n",
       "      <td>True</td>\n",
       "    </tr>\n",
       "    <tr>\n",
       "      <th>7</th>\n",
       "      <td>30.132068</td>\n",
       "      <td>False</td>\n",
       "    </tr>\n",
       "    <tr>\n",
       "      <th>8</th>\n",
       "      <td>30.413072</td>\n",
       "      <td>True</td>\n",
       "    </tr>\n",
       "    <tr>\n",
       "      <th>9</th>\n",
       "      <td>30.636489</td>\n",
       "      <td>False</td>\n",
       "    </tr>\n",
       "    <tr>\n",
       "      <th>5</th>\n",
       "      <td>30.737379</td>\n",
       "      <td>True</td>\n",
       "    </tr>\n",
       "    <tr>\n",
       "      <th>0</th>\n",
       "      <td>31.374863</td>\n",
       "      <td>False</td>\n",
       "    </tr>\n",
       "    <tr>\n",
       "      <th>1</th>\n",
       "      <td>31.915600</td>\n",
       "      <td>True</td>\n",
       "    </tr>\n",
       "    <tr>\n",
       "      <th>6</th>\n",
       "      <td>32.754322</td>\n",
       "      <td>False</td>\n",
       "    </tr>\n",
       "    <tr>\n",
       "      <th>3</th>\n",
       "      <td>34.460406</td>\n",
       "      <td>False</td>\n",
       "    </tr>\n",
       "  </tbody>\n",
       "</table>\n",
       "</div>"
      ],
      "text/plain": [
       "   Temperature_Sensor  Failure\n",
       "2           28.795706    False\n",
       "4           29.309847     True\n",
       "7           30.132068    False\n",
       "8           30.413072     True\n",
       "9           30.636489    False\n",
       "5           30.737379     True\n",
       "0           31.374863    False\n",
       "1           31.915600     True\n",
       "6           32.754322    False\n",
       "3           34.460406    False"
      ]
     },
     "execution_count": 76,
     "metadata": {},
     "output_type": "execute_result"
    }
   ],
   "source": [
    "sorted_by_temperature_df[[\"Temperature_Sensor\", \"Failure\"]]"
   ]
  },
  {
   "cell_type": "markdown",
   "metadata": {},
   "source": [
    "* Of the 10 samples with Temperature > 25.5 is True, 4 were correctly classified as having machine Failure and 6 were incorrectly classified.\n",
    "\n",
    "* There are 0 samples with Temperature > 25.5 is False."
   ]
  },
  {
   "cell_type": "code",
   "execution_count": 77,
   "metadata": {},
   "outputs": [
    {
     "data": {
      "text/plain": [
       "0.48"
      ]
     },
     "execution_count": 77,
     "metadata": {},
     "output_type": "execute_result"
    }
   ],
   "source": [
    "# Calculate the Gini Impurity for \"Temperature_Sensor\" > 25.5\n",
    "\n",
    "left_leaf_gini = np.round((1 - np.square(4/10) - np.square(6/10)), decimals=3)\n",
    "left_leaf_gini"
   ]
  },
  {
   "cell_type": "markdown",
   "metadata": {},
   "source": [
    "* Of the 1 sample with Temperature > 33.5 is True, 0 were correctly classified as having machine Failure and 1 were incorrectly classified.\n",
    "\n",
    "* Of the 9 samples with Temperature > 33.5 is False, 5 were correctly classified as and 4 were incorrectly classified."
   ]
  },
  {
   "cell_type": "code",
   "execution_count": 78,
   "metadata": {},
   "outputs": [
    {
     "name": "stdout",
     "output_type": "stream",
     "text": [
      "0.0\n",
      "0.494\n"
     ]
    },
    {
     "data": {
      "text/plain": [
       "0.445"
      ]
     },
     "execution_count": 78,
     "metadata": {},
     "output_type": "execute_result"
    }
   ],
   "source": [
    "# Calculate the Gini Impurity for \"Temperature_Sensor\" > 33.5\n",
    "\n",
    "left_leaf_gini = np.round((1 - np.square(0/1) - np.square(1/1)), decimals=3)\n",
    "print(left_leaf_gini)\n",
    "\n",
    "right_leaf_gini = np.round((1 - np.square(5/9) - np.square(4/9)), decimals=3)\n",
    "print(right_leaf_gini)\n",
    "\n",
    "total_gini_impurity = np.round((1/10)*left_leaf_gini + (9/10)*right_leaf_gini, decimals=3)\n",
    "total_gini_impurity"
   ]
  },
  {
   "cell_type": "markdown",
   "metadata": {},
   "source": [
    "Since the Gini impurity of Temperature > 33.5 is the lowest, we will take this value as the cutoff."
   ]
  },
  {
   "cell_type": "markdown",
   "metadata": {},
   "source": [
    "So by comparing the Gini Index for:\n",
    "* Capacitive_Sensor: 0.45 \n",
    "* Inductive_Sensor: 0.476\n",
    "* Temperature_Sensor: 0.445 \n",
    "\n",
    "The Gini Index for Temperature_Sensor is the lowest, so this will be the first stump in the forest."
   ]
  },
  {
   "cell_type": "markdown",
   "metadata": {},
   "source": [
    "<b>2. Now we need to determine how much say this stump will have in the final classification.</b>\n",
    "\n",
    "Remember, some stumps get more say in the final classification than others.\n",
    "\n",
    "We determine how much say a stump has in the final classification based on how well it classified the samples."
   ]
  },
  {
   "cell_type": "markdown",
   "metadata": {},
   "source": [
    "By looking at the previous Temperature_Sensor classification below, this stump made 5 errors:\n",
    "\n",
    "* Of the 1 sample with Temperature > 33.5 is True, 0 were correctly classified as having machine Failure and <b><u>1 were incorrectly classified</b></u>.\n",
    "\n",
    "* Of the 9 samples with Temperature > 33.5 is False, 5 were correctly classified as and <b><u>4 were incorrectly classified</b></u>.\n",
    "\n",
    "The data with index 1, 3, 4, 5 and 8 had Machine Failures, but the stump says they do not."
   ]
  },
  {
   "cell_type": "code",
   "execution_count": 79,
   "metadata": {},
   "outputs": [
    {
     "name": "stdout",
     "output_type": "stream",
     "text": [
      "Capacitive_Sensor        True\n",
      "Inductive_Sensor         True\n",
      "Temperature_Sensor    31.9156\n",
      "Failure                  True\n",
      "Sample_Weight             0.1\n",
      "Name: 1, dtype: object\n",
      "Capacitive_Sensor          True\n",
      "Inductive_Sensor          False\n",
      "Temperature_Sensor    34.460406\n",
      "Failure                   False\n",
      "Sample_Weight               0.1\n",
      "Name: 3, dtype: object\n",
      "Capacitive_Sensor          True\n",
      "Inductive_Sensor           True\n",
      "Temperature_Sensor    29.309847\n",
      "Failure                    True\n",
      "Sample_Weight               0.1\n",
      "Name: 4, dtype: object\n",
      "Capacitive_Sensor         False\n",
      "Inductive_Sensor           True\n",
      "Temperature_Sensor    30.737379\n",
      "Failure                    True\n",
      "Sample_Weight               0.1\n",
      "Name: 5, dtype: object\n",
      "Capacitive_Sensor          True\n",
      "Inductive_Sensor          False\n",
      "Temperature_Sensor    30.413072\n",
      "Failure                    True\n",
      "Sample_Weight               0.1\n",
      "Name: 8, dtype: object\n"
     ]
    }
   ],
   "source": [
    "print(df.loc[1])\n",
    "print(df.loc[3])\n",
    "print(df.loc[4])\n",
    "print(df.loc[5])\n",
    "print(df.loc[8])"
   ]
  },
  {
   "cell_type": "markdown",
   "metadata": {},
   "source": [
    "The Total Error for a stump is the sum of the weights associated with the <b><u>incorrectly classified samples</b></u>.\n",
    "\n",
    "Thus, in this case, the Total Error is: <b><u>0.625</b></u>\n",
    "\n",
    "NOTE: Because all of the Sample Weights add up to 1, Total Error will always be between 0, for a perfect stump, and 1, for a horrible stump."
   ]
  },
  {
   "cell_type": "code",
   "execution_count": 80,
   "metadata": {},
   "outputs": [
    {
     "data": {
      "text/plain": [
       "0.625"
      ]
     },
     "execution_count": 80,
     "metadata": {},
     "output_type": "execute_result"
    }
   ],
   "source": [
    "total_error_first_stump = (1/8)*5\n",
    "total_error_first_stump"
   ]
  },
  {
   "cell_type": "markdown",
   "metadata": {},
   "source": [
    "The Amount of Say this stump has in the final classification with the following formula:\n",
    "\n",
    "<img src=\"amount-of-say-formula.webp\">"
   ]
  },
  {
   "cell_type": "code",
   "execution_count": 81,
   "metadata": {},
   "outputs": [
    {
     "data": {
      "text/plain": [
       "-0.255"
      ]
     },
     "execution_count": 81,
     "metadata": {},
     "output_type": "execute_result"
    }
   ],
   "source": [
    "amount_of_say_first_stump = np.round((1/2)*np.log((1-0.625)/0.625), decimals=3)\n",
    "amount_of_say_first_stump"
   ]
  },
  {
   "cell_type": "markdown",
   "metadata": {},
   "source": [
    "So, the Amount of Say that this stump has on the final classification is <b>-0.25</b>."
   ]
  },
  {
   "cell_type": "markdown",
   "metadata": {},
   "source": [
    "We can draw a graph of the Amount of Say by plugging in a bunch of numbers between 0 and 1 for Total Error.\n",
    "\n",
    "<img src=\"amount-of-say-vs-total-error-graph.webp\">"
   ]
  },
  {
   "cell_type": "markdown",
   "metadata": {},
   "source": [
    "The blue line tells us the Amount of Say for Total Error values between 0 and 1.\n",
    "\n",
    "* When a stump does a good job, and the Total Error is small, then the Amount of Say is a relatively large positive value.\n",
    "\n",
    "* When a stump is not doing a good job at classification (i.e. half of the samples are correctly classified and half are incorrectly classified) and Total Error = 0.5, then the Amount of Say will be 0.\n",
    "\n",
    "* When a stump does a terrible job and the Total Error is close to 1 (i.e. if the stump consistently gives the opposite classification), then the Amount of Say will be a large negative value.\n",
    "\n",
    "So in our case above (Total Error is 0.625 and the Amount of Say is -0.25), if a stump votes Yes/ True for Machine \"Failure\", the negative Amount of Say will turn that vote into \"Not Machine Failure\"."
   ]
  },
  {
   "cell_type": "markdown",
   "metadata": {},
   "source": [
    "Now, let's work out how much say Capacitive_Sensor stump would have had if it had been the best stump."
   ]
  },
  {
   "cell_type": "code",
   "execution_count": 82,
   "metadata": {},
   "outputs": [
    {
     "data": {
      "text/html": [
       "<div>\n",
       "<style scoped>\n",
       "    .dataframe tbody tr th:only-of-type {\n",
       "        vertical-align: middle;\n",
       "    }\n",
       "\n",
       "    .dataframe tbody tr th {\n",
       "        vertical-align: top;\n",
       "    }\n",
       "\n",
       "    .dataframe thead th {\n",
       "        text-align: right;\n",
       "    }\n",
       "</style>\n",
       "<table border=\"1\" class=\"dataframe\">\n",
       "  <thead>\n",
       "    <tr style=\"text-align: right;\">\n",
       "      <th></th>\n",
       "      <th>Capacitive_Sensor</th>\n",
       "      <th>Failure</th>\n",
       "    </tr>\n",
       "  </thead>\n",
       "  <tbody>\n",
       "    <tr>\n",
       "      <th>0</th>\n",
       "      <td>True</td>\n",
       "      <td>False</td>\n",
       "    </tr>\n",
       "    <tr>\n",
       "      <th>1</th>\n",
       "      <td>True</td>\n",
       "      <td>True</td>\n",
       "    </tr>\n",
       "    <tr>\n",
       "      <th>2</th>\n",
       "      <td>False</td>\n",
       "      <td>False</td>\n",
       "    </tr>\n",
       "    <tr>\n",
       "      <th>3</th>\n",
       "      <td>True</td>\n",
       "      <td>False</td>\n",
       "    </tr>\n",
       "    <tr>\n",
       "      <th>4</th>\n",
       "      <td>True</td>\n",
       "      <td>True</td>\n",
       "    </tr>\n",
       "    <tr>\n",
       "      <th>5</th>\n",
       "      <td>False</td>\n",
       "      <td>True</td>\n",
       "    </tr>\n",
       "    <tr>\n",
       "      <th>6</th>\n",
       "      <td>True</td>\n",
       "      <td>False</td>\n",
       "    </tr>\n",
       "    <tr>\n",
       "      <th>7</th>\n",
       "      <td>False</td>\n",
       "      <td>False</td>\n",
       "    </tr>\n",
       "    <tr>\n",
       "      <th>8</th>\n",
       "      <td>True</td>\n",
       "      <td>True</td>\n",
       "    </tr>\n",
       "    <tr>\n",
       "      <th>9</th>\n",
       "      <td>False</td>\n",
       "      <td>False</td>\n",
       "    </tr>\n",
       "  </tbody>\n",
       "</table>\n",
       "</div>"
      ],
      "text/plain": [
       "   Capacitive_Sensor  Failure\n",
       "0               True    False\n",
       "1               True     True\n",
       "2              False    False\n",
       "3               True    False\n",
       "4               True     True\n",
       "5              False     True\n",
       "6               True    False\n",
       "7              False    False\n",
       "8               True     True\n",
       "9              False    False"
      ]
     },
     "execution_count": 82,
     "metadata": {},
     "output_type": "execute_result"
    }
   ],
   "source": [
    "df[[\"Capacitive_Sensor\", \"Failure\"]]"
   ]
  },
  {
   "cell_type": "markdown",
   "metadata": {},
   "source": [
    "Of the 6 samples with Capacitive_Sensor is True, 3 were correctly classified as having Machine Failure and <b><u>3 were incorrectly classified.</u></b>\n",
    "\n",
    "Of the 4 samples with Capacitive_Sensor is False, 3 were correctly classified as <b>not</b> having Machine Failure and <b><u>1 were incorrectly classified.</b></u>\n",
    "\n",
    "The data with index 0, 3, 5, and 6 had Machine Failures, but the stump says they do not."
   ]
  },
  {
   "cell_type": "code",
   "execution_count": 83,
   "metadata": {},
   "outputs": [
    {
     "name": "stdout",
     "output_type": "stream",
     "text": [
      "0.5\n"
     ]
    },
    {
     "data": {
      "text/plain": [
       "0.0"
      ]
     },
     "execution_count": 83,
     "metadata": {},
     "output_type": "execute_result"
    }
   ],
   "source": [
    "total_error_second_stump = (1/8)*4\n",
    "print(total_error_second_stump)\n",
    "\n",
    "amount_of_say_second_stump = (1/2)*np.log((1-total_error_second_stump)/total_error_second_stump)\n",
    "amount_of_say_second_stump"
   ]
  },
  {
   "cell_type": "markdown",
   "metadata": {},
   "source": [
    "So, the Amount of Say that this stump has on the final classification is <b>0.0</b>."
   ]
  },
  {
   "cell_type": "markdown",
   "metadata": {},
   "source": [
    "Now, let's work out how much say Inductive_Sensor stump would have had if it had been the best stump."
   ]
  },
  {
   "cell_type": "code",
   "execution_count": 84,
   "metadata": {},
   "outputs": [
    {
     "data": {
      "text/html": [
       "<div>\n",
       "<style scoped>\n",
       "    .dataframe tbody tr th:only-of-type {\n",
       "        vertical-align: middle;\n",
       "    }\n",
       "\n",
       "    .dataframe tbody tr th {\n",
       "        vertical-align: top;\n",
       "    }\n",
       "\n",
       "    .dataframe thead th {\n",
       "        text-align: right;\n",
       "    }\n",
       "</style>\n",
       "<table border=\"1\" class=\"dataframe\">\n",
       "  <thead>\n",
       "    <tr style=\"text-align: right;\">\n",
       "      <th></th>\n",
       "      <th>Inductive_Sensor</th>\n",
       "      <th>Failure</th>\n",
       "    </tr>\n",
       "  </thead>\n",
       "  <tbody>\n",
       "    <tr>\n",
       "      <th>0</th>\n",
       "      <td>False</td>\n",
       "      <td>False</td>\n",
       "    </tr>\n",
       "    <tr>\n",
       "      <th>1</th>\n",
       "      <td>True</td>\n",
       "      <td>True</td>\n",
       "    </tr>\n",
       "    <tr>\n",
       "      <th>2</th>\n",
       "      <td>True</td>\n",
       "      <td>False</td>\n",
       "    </tr>\n",
       "    <tr>\n",
       "      <th>3</th>\n",
       "      <td>False</td>\n",
       "      <td>False</td>\n",
       "    </tr>\n",
       "    <tr>\n",
       "      <th>4</th>\n",
       "      <td>True</td>\n",
       "      <td>True</td>\n",
       "    </tr>\n",
       "    <tr>\n",
       "      <th>5</th>\n",
       "      <td>True</td>\n",
       "      <td>True</td>\n",
       "    </tr>\n",
       "    <tr>\n",
       "      <th>6</th>\n",
       "      <td>True</td>\n",
       "      <td>False</td>\n",
       "    </tr>\n",
       "    <tr>\n",
       "      <th>7</th>\n",
       "      <td>True</td>\n",
       "      <td>False</td>\n",
       "    </tr>\n",
       "    <tr>\n",
       "      <th>8</th>\n",
       "      <td>False</td>\n",
       "      <td>True</td>\n",
       "    </tr>\n",
       "    <tr>\n",
       "      <th>9</th>\n",
       "      <td>True</td>\n",
       "      <td>False</td>\n",
       "    </tr>\n",
       "  </tbody>\n",
       "</table>\n",
       "</div>"
      ],
      "text/plain": [
       "   Inductive_Sensor  Failure\n",
       "0             False    False\n",
       "1              True     True\n",
       "2              True    False\n",
       "3             False    False\n",
       "4              True     True\n",
       "5              True     True\n",
       "6              True    False\n",
       "7              True    False\n",
       "8             False     True\n",
       "9              True    False"
      ]
     },
     "execution_count": 84,
     "metadata": {},
     "output_type": "execute_result"
    }
   ],
   "source": [
    "df[[\"Inductive_Sensor\", \"Failure\"]]"
   ]
  },
  {
   "cell_type": "markdown",
   "metadata": {},
   "source": [
    "Of the 7 samples with Inductive_Sensor is True, 3 were correctly classified as having machine Failure and <b><u>4 were incorrectly classified.</b></u>\n",
    "\n",
    "Of the 3 samples with Inductive_Sensor is False, 2 were correctly classified and <b><u>1 were incorrectly classified.</b></u>\n",
    "\n",
    "The data with index 2, 6, 7, 8 and 9 had Machine Failures, but the stump says they do not."
   ]
  },
  {
   "cell_type": "code",
   "execution_count": 85,
   "metadata": {},
   "outputs": [
    {
     "name": "stdout",
     "output_type": "stream",
     "text": [
      "0.625\n"
     ]
    },
    {
     "data": {
      "text/plain": [
       "-0.255"
      ]
     },
     "execution_count": 85,
     "metadata": {},
     "output_type": "execute_result"
    }
   ],
   "source": [
    "total_error_third_stump = (1/8)*5\n",
    "print(total_error_third_stump)\n",
    "\n",
    "amount_of_say_third_stump = np.round((1/2)*np.log((1-total_error_third_stump)/total_error_third_stump), decimals=3)\n",
    "amount_of_say_third_stump"
   ]
  },
  {
   "cell_type": "markdown",
   "metadata": {},
   "source": [
    "So, the Amount of Say that this stump has on the final classification is <b>-0.25</b>."
   ]
  },
  {
   "cell_type": "markdown",
   "metadata": {},
   "source": [
    "Now we know how the Sample Weights for the incorrectly classified samples are used to determine the Amount of Say each stump gets."
   ]
  },
  {
   "cell_type": "markdown",
   "metadata": {},
   "source": [
    "<b>3. Now we need to learn how to modify the weights so that the next stump will take the errors that the current stump made into account.</b>"
   ]
  },
  {
   "cell_type": "markdown",
   "metadata": {},
   "source": [
    "At the very start, we give each sample a weight that indicates how important it is to be correctly classified where all of the Sample Weights were the same (1/10).\n",
    "\n",
    "This meant that we did not emphasize the importance of correctly classifying any particular sample.\n",
    "\n",
    "But since the first stump incorrectly classified 5 samples: Data with index 1, 3, 4, 5 and 8 with Temperature less than 33.5, we will emphasize the need for the next stump to correctly classify it by <b><u>increasing its Sample Weights</u></b> and <b><u>decreasing all of the other Sample Weights</u></b>\n",
    "\n",
    "Let's start by increasing the Sample Weight for the incorrectly classified samples.\n",
    "\n",
    "This is the formula we will use to increase the Sample Weight for the samples that was incorrectly classifed:\n",
    "\n",
    "<img src=\"incorrectly-classified-new-sample-weight-formula.webp\">"
   ]
  },
  {
   "cell_type": "code",
   "execution_count": 86,
   "metadata": {},
   "outputs": [
    {
     "name": "stdout",
     "output_type": "stream",
     "text": [
      "-0.255\n",
      "0.774916497961081\n"
     ]
    },
    {
     "data": {
      "text/plain": [
       "0.077"
      ]
     },
     "execution_count": 86,
     "metadata": {},
     "output_type": "execute_result"
    }
   ],
   "source": [
    "print(amount_of_say_first_stump)\n",
    "print(np.exp(amount_of_say_first_stump))\n",
    "new_sample_weight_incorrectly_classified = np.round((1/10) * np.exp(amount_of_say_first_stump), decimals=3)\n",
    "new_sample_weight_incorrectly_classified"
   ]
  },
  {
   "cell_type": "markdown",
   "metadata": {},
   "source": [
    "\n",
    "This means that the New Sample Weight for the incorrectly classified samples is 0.077, which is less than the old one (1/10 = 0.1)"
   ]
  },
  {
   "cell_type": "markdown",
   "metadata": {},
   "source": [
    "To get a better understanding of how this part will scale the previous Sample Weight, we can use the graph below:\n",
    "\n",
    "<img src=\"positive-amount-of-say-vs-new-sample-weight-graph.png\">"
   ]
  },
  {
   "cell_type": "markdown",
   "metadata": {},
   "source": [
    "When the Amount of Say is relatively large (i.e. last stump did a good job classifying samples), then we will scale the previous Sample Weight with a large number.\n",
    "\n",
    "This means that the New Sample Weight will be much larger than the old one.\n",
    "\n",
    "When the Amount of Say is relatively low (i.e. the last stump did not do a good job classifying samples), then the previous Sample Weight is scaled by a relatively small number.\n",
    "\n",
    "This means that the New Sample Weight will only be a little larger than the old one."
   ]
  },
  {
   "cell_type": "markdown",
   "metadata": {},
   "source": [
    "Now we need to decrease the Sample Weights for all of the correctly classified samples.\n",
    "\n",
    "This is the formula we will use to decrease the Sample Weights:\n",
    "\n",
    "<img src=\"correctly-classified-new-sample-weight-formula.webp\">\n",
    "\n",
    "The big difference is the negative sign in front of Amount of Say.\n",
    "\n",
    "The first stump correctly classified 5 samples: Data with index 2, 6, 7, 9 and 10"
   ]
  },
  {
   "cell_type": "code",
   "execution_count": 87,
   "metadata": {},
   "outputs": [
    {
     "name": "stdout",
     "output_type": "stream",
     "text": [
      "-0.255\n",
      "1.2904616208728898\n"
     ]
    },
    {
     "data": {
      "text/plain": [
       "0.129"
      ]
     },
     "execution_count": 87,
     "metadata": {},
     "output_type": "execute_result"
    }
   ],
   "source": [
    "print(amount_of_say_first_stump)\n",
    "print(np.exp(-amount_of_say_first_stump))\n",
    "new_sample_weight_correctly_classified = np.round((1/10) * np.exp(-amount_of_say_first_stump), decimals=3)\n",
    "new_sample_weight_correctly_classified"
   ]
  },
  {
   "cell_type": "markdown",
   "metadata": {},
   "source": [
    "This means that the New Sample Weight for the correctly classified samples is 0.129, which is slightly more than the old one (1/10 = 0.1)"
   ]
  },
  {
   "cell_type": "markdown",
   "metadata": {},
   "source": [
    "To get a better understanding of how this part will scale the previous Sample Weight, we can use the graph below:\n",
    "\n",
    "<img src=\"negative-amount-of-say-vs-new-sample-weight-graph.png\">"
   ]
  },
  {
   "cell_type": "markdown",
   "metadata": {},
   "source": [
    "When the Amount of Say is relatively large (i.e. last stump did a good job classifying samples), then we scale the Sample Weight by a value very close to 0.\n",
    "\n",
    "This means that the New Sample Weight will be very small.\n",
    "\n",
    "When the Amount of Say is relatively low (i.e. the last stump did not do a good job classifying samples), then the previous Sample Weight is scaled by a value close to 1.\n",
    "\n",
    "This means that the New Sample Weight will be just a little smaller than the old one."
   ]
  },
  {
   "cell_type": "markdown",
   "metadata": {},
   "source": [
    "We will keep track of the <b>New Sample Weights</b> in a new column.\n",
    "\n",
    "* We plug in 0.077 for the samples that was incorrectly classified (Data with index 1, 3, 4, 5 and 8)\n",
    "* We plug in 0.129 for the samples that was correctly classified (Data with index 0, 2, 6, 7 and 9)"
   ]
  },
  {
   "cell_type": "code",
   "execution_count": 88,
   "metadata": {},
   "outputs": [
    {
     "name": "stdout",
     "output_type": "stream",
     "text": [
      "1.03\n"
     ]
    },
    {
     "data": {
      "text/html": [
       "<div>\n",
       "<style scoped>\n",
       "    .dataframe tbody tr th:only-of-type {\n",
       "        vertical-align: middle;\n",
       "    }\n",
       "\n",
       "    .dataframe tbody tr th {\n",
       "        vertical-align: top;\n",
       "    }\n",
       "\n",
       "    .dataframe thead th {\n",
       "        text-align: right;\n",
       "    }\n",
       "</style>\n",
       "<table border=\"1\" class=\"dataframe\">\n",
       "  <thead>\n",
       "    <tr style=\"text-align: right;\">\n",
       "      <th></th>\n",
       "      <th>Capacitive_Sensor</th>\n",
       "      <th>Inductive_Sensor</th>\n",
       "      <th>Temperature_Sensor</th>\n",
       "      <th>Failure</th>\n",
       "      <th>Sample_Weight</th>\n",
       "      <th>New_Weight</th>\n",
       "    </tr>\n",
       "  </thead>\n",
       "  <tbody>\n",
       "    <tr>\n",
       "      <th>0</th>\n",
       "      <td>True</td>\n",
       "      <td>False</td>\n",
       "      <td>31.374863</td>\n",
       "      <td>False</td>\n",
       "      <td>0.1</td>\n",
       "      <td>0.129</td>\n",
       "    </tr>\n",
       "    <tr>\n",
       "      <th>1</th>\n",
       "      <td>True</td>\n",
       "      <td>True</td>\n",
       "      <td>31.915600</td>\n",
       "      <td>True</td>\n",
       "      <td>0.1</td>\n",
       "      <td>0.077</td>\n",
       "    </tr>\n",
       "    <tr>\n",
       "      <th>2</th>\n",
       "      <td>False</td>\n",
       "      <td>True</td>\n",
       "      <td>28.795706</td>\n",
       "      <td>False</td>\n",
       "      <td>0.1</td>\n",
       "      <td>0.129</td>\n",
       "    </tr>\n",
       "    <tr>\n",
       "      <th>3</th>\n",
       "      <td>True</td>\n",
       "      <td>False</td>\n",
       "      <td>34.460406</td>\n",
       "      <td>False</td>\n",
       "      <td>0.1</td>\n",
       "      <td>0.077</td>\n",
       "    </tr>\n",
       "    <tr>\n",
       "      <th>4</th>\n",
       "      <td>True</td>\n",
       "      <td>True</td>\n",
       "      <td>29.309847</td>\n",
       "      <td>True</td>\n",
       "      <td>0.1</td>\n",
       "      <td>0.077</td>\n",
       "    </tr>\n",
       "    <tr>\n",
       "      <th>5</th>\n",
       "      <td>False</td>\n",
       "      <td>True</td>\n",
       "      <td>30.737379</td>\n",
       "      <td>True</td>\n",
       "      <td>0.1</td>\n",
       "      <td>0.077</td>\n",
       "    </tr>\n",
       "    <tr>\n",
       "      <th>6</th>\n",
       "      <td>True</td>\n",
       "      <td>True</td>\n",
       "      <td>32.754322</td>\n",
       "      <td>False</td>\n",
       "      <td>0.1</td>\n",
       "      <td>0.129</td>\n",
       "    </tr>\n",
       "    <tr>\n",
       "      <th>7</th>\n",
       "      <td>False</td>\n",
       "      <td>True</td>\n",
       "      <td>30.132068</td>\n",
       "      <td>False</td>\n",
       "      <td>0.1</td>\n",
       "      <td>0.129</td>\n",
       "    </tr>\n",
       "    <tr>\n",
       "      <th>8</th>\n",
       "      <td>True</td>\n",
       "      <td>False</td>\n",
       "      <td>30.413072</td>\n",
       "      <td>True</td>\n",
       "      <td>0.1</td>\n",
       "      <td>0.077</td>\n",
       "    </tr>\n",
       "    <tr>\n",
       "      <th>9</th>\n",
       "      <td>False</td>\n",
       "      <td>True</td>\n",
       "      <td>30.636489</td>\n",
       "      <td>False</td>\n",
       "      <td>0.1</td>\n",
       "      <td>0.129</td>\n",
       "    </tr>\n",
       "  </tbody>\n",
       "</table>\n",
       "</div>"
      ],
      "text/plain": [
       "   Capacitive_Sensor  Inductive_Sensor  Temperature_Sensor  Failure  \\\n",
       "0               True             False           31.374863    False   \n",
       "1               True              True           31.915600     True   \n",
       "2              False              True           28.795706    False   \n",
       "3               True             False           34.460406    False   \n",
       "4               True              True           29.309847     True   \n",
       "5              False              True           30.737379     True   \n",
       "6               True              True           32.754322    False   \n",
       "7              False              True           30.132068    False   \n",
       "8               True             False           30.413072     True   \n",
       "9              False              True           30.636489    False   \n",
       "\n",
       "   Sample_Weight  New_Weight  \n",
       "0            0.1       0.129  \n",
       "1            0.1       0.077  \n",
       "2            0.1       0.129  \n",
       "3            0.1       0.077  \n",
       "4            0.1       0.077  \n",
       "5            0.1       0.077  \n",
       "6            0.1       0.129  \n",
       "7            0.1       0.129  \n",
       "8            0.1       0.077  \n",
       "9            0.1       0.129  "
      ]
     },
     "execution_count": 88,
     "metadata": {},
     "output_type": "execute_result"
    }
   ],
   "source": [
    "df[\"New_Weight\"] = [0.129, 0.077, 0.129, 0.077, 0.077, 0.077, 0.129, 0.129, 0.077, 0.129]\n",
    "print(df[\"New_Weight\"].sum())\n",
    "df"
   ]
  },
  {
   "cell_type": "markdown",
   "metadata": {},
   "source": [
    "Now we need to normalize the New Sample Weights so that they will add up to 1.\n",
    "\n",
    "Right now, the sum of New Sample Weights is 1.03 which is more than 1."
   ]
  },
  {
   "cell_type": "code",
   "execution_count": 89,
   "metadata": {},
   "outputs": [
    {
     "name": "stdout",
     "output_type": "stream",
     "text": [
      "1.0\n"
     ]
    },
    {
     "data": {
      "text/html": [
       "<div>\n",
       "<style scoped>\n",
       "    .dataframe tbody tr th:only-of-type {\n",
       "        vertical-align: middle;\n",
       "    }\n",
       "\n",
       "    .dataframe tbody tr th {\n",
       "        vertical-align: top;\n",
       "    }\n",
       "\n",
       "    .dataframe thead th {\n",
       "        text-align: right;\n",
       "    }\n",
       "</style>\n",
       "<table border=\"1\" class=\"dataframe\">\n",
       "  <thead>\n",
       "    <tr style=\"text-align: right;\">\n",
       "      <th></th>\n",
       "      <th>Capacitive_Sensor</th>\n",
       "      <th>Inductive_Sensor</th>\n",
       "      <th>Temperature_Sensor</th>\n",
       "      <th>Failure</th>\n",
       "      <th>Sample_Weight</th>\n",
       "      <th>New_Weight</th>\n",
       "      <th>Normalized_Weight</th>\n",
       "    </tr>\n",
       "  </thead>\n",
       "  <tbody>\n",
       "    <tr>\n",
       "      <th>0</th>\n",
       "      <td>True</td>\n",
       "      <td>False</td>\n",
       "      <td>31.374863</td>\n",
       "      <td>False</td>\n",
       "      <td>0.1</td>\n",
       "      <td>0.129</td>\n",
       "      <td>0.125243</td>\n",
       "    </tr>\n",
       "    <tr>\n",
       "      <th>1</th>\n",
       "      <td>True</td>\n",
       "      <td>True</td>\n",
       "      <td>31.915600</td>\n",
       "      <td>True</td>\n",
       "      <td>0.1</td>\n",
       "      <td>0.077</td>\n",
       "      <td>0.074757</td>\n",
       "    </tr>\n",
       "    <tr>\n",
       "      <th>2</th>\n",
       "      <td>False</td>\n",
       "      <td>True</td>\n",
       "      <td>28.795706</td>\n",
       "      <td>False</td>\n",
       "      <td>0.1</td>\n",
       "      <td>0.129</td>\n",
       "      <td>0.125243</td>\n",
       "    </tr>\n",
       "    <tr>\n",
       "      <th>3</th>\n",
       "      <td>True</td>\n",
       "      <td>False</td>\n",
       "      <td>34.460406</td>\n",
       "      <td>False</td>\n",
       "      <td>0.1</td>\n",
       "      <td>0.077</td>\n",
       "      <td>0.074757</td>\n",
       "    </tr>\n",
       "    <tr>\n",
       "      <th>4</th>\n",
       "      <td>True</td>\n",
       "      <td>True</td>\n",
       "      <td>29.309847</td>\n",
       "      <td>True</td>\n",
       "      <td>0.1</td>\n",
       "      <td>0.077</td>\n",
       "      <td>0.074757</td>\n",
       "    </tr>\n",
       "    <tr>\n",
       "      <th>5</th>\n",
       "      <td>False</td>\n",
       "      <td>True</td>\n",
       "      <td>30.737379</td>\n",
       "      <td>True</td>\n",
       "      <td>0.1</td>\n",
       "      <td>0.077</td>\n",
       "      <td>0.074757</td>\n",
       "    </tr>\n",
       "    <tr>\n",
       "      <th>6</th>\n",
       "      <td>True</td>\n",
       "      <td>True</td>\n",
       "      <td>32.754322</td>\n",
       "      <td>False</td>\n",
       "      <td>0.1</td>\n",
       "      <td>0.129</td>\n",
       "      <td>0.125243</td>\n",
       "    </tr>\n",
       "    <tr>\n",
       "      <th>7</th>\n",
       "      <td>False</td>\n",
       "      <td>True</td>\n",
       "      <td>30.132068</td>\n",
       "      <td>False</td>\n",
       "      <td>0.1</td>\n",
       "      <td>0.129</td>\n",
       "      <td>0.125243</td>\n",
       "    </tr>\n",
       "    <tr>\n",
       "      <th>8</th>\n",
       "      <td>True</td>\n",
       "      <td>False</td>\n",
       "      <td>30.413072</td>\n",
       "      <td>True</td>\n",
       "      <td>0.1</td>\n",
       "      <td>0.077</td>\n",
       "      <td>0.074757</td>\n",
       "    </tr>\n",
       "    <tr>\n",
       "      <th>9</th>\n",
       "      <td>False</td>\n",
       "      <td>True</td>\n",
       "      <td>30.636489</td>\n",
       "      <td>False</td>\n",
       "      <td>0.1</td>\n",
       "      <td>0.129</td>\n",
       "      <td>0.125243</td>\n",
       "    </tr>\n",
       "  </tbody>\n",
       "</table>\n",
       "</div>"
      ],
      "text/plain": [
       "   Capacitive_Sensor  Inductive_Sensor  Temperature_Sensor  Failure  \\\n",
       "0               True             False           31.374863    False   \n",
       "1               True              True           31.915600     True   \n",
       "2              False              True           28.795706    False   \n",
       "3               True             False           34.460406    False   \n",
       "4               True              True           29.309847     True   \n",
       "5              False              True           30.737379     True   \n",
       "6               True              True           32.754322    False   \n",
       "7              False              True           30.132068    False   \n",
       "8               True             False           30.413072     True   \n",
       "9              False              True           30.636489    False   \n",
       "\n",
       "   Sample_Weight  New_Weight  Normalized_Weight  \n",
       "0            0.1       0.129           0.125243  \n",
       "1            0.1       0.077           0.074757  \n",
       "2            0.1       0.129           0.125243  \n",
       "3            0.1       0.077           0.074757  \n",
       "4            0.1       0.077           0.074757  \n",
       "5            0.1       0.077           0.074757  \n",
       "6            0.1       0.129           0.125243  \n",
       "7            0.1       0.129           0.125243  \n",
       "8            0.1       0.077           0.074757  \n",
       "9            0.1       0.129           0.125243  "
      ]
     },
     "execution_count": 89,
     "metadata": {},
     "output_type": "execute_result"
    }
   ],
   "source": [
    "df[\"Normalized_Weight\"] = df[\"New_Weight\"]/(df[\"New_Weight\"].sum())\n",
    "print(df[\"Normalized_Weight\"].sum())\n",
    "df"
   ]
  },
  {
   "cell_type": "markdown",
   "metadata": {},
   "source": [
    "Now we just transfer the Normalized Sample Weights to the Sample Weights column, since those are what we will use for the next stump."
   ]
  },
  {
   "cell_type": "code",
   "execution_count": 90,
   "metadata": {},
   "outputs": [
    {
     "data": {
      "text/html": [
       "<div>\n",
       "<style scoped>\n",
       "    .dataframe tbody tr th:only-of-type {\n",
       "        vertical-align: middle;\n",
       "    }\n",
       "\n",
       "    .dataframe tbody tr th {\n",
       "        vertical-align: top;\n",
       "    }\n",
       "\n",
       "    .dataframe thead th {\n",
       "        text-align: right;\n",
       "    }\n",
       "</style>\n",
       "<table border=\"1\" class=\"dataframe\">\n",
       "  <thead>\n",
       "    <tr style=\"text-align: right;\">\n",
       "      <th></th>\n",
       "      <th>Capacitive_Sensor</th>\n",
       "      <th>Inductive_Sensor</th>\n",
       "      <th>Temperature_Sensor</th>\n",
       "      <th>Failure</th>\n",
       "      <th>Sample_Weight</th>\n",
       "    </tr>\n",
       "  </thead>\n",
       "  <tbody>\n",
       "    <tr>\n",
       "      <th>0</th>\n",
       "      <td>True</td>\n",
       "      <td>False</td>\n",
       "      <td>31.374863</td>\n",
       "      <td>False</td>\n",
       "      <td>0.125243</td>\n",
       "    </tr>\n",
       "    <tr>\n",
       "      <th>1</th>\n",
       "      <td>True</td>\n",
       "      <td>True</td>\n",
       "      <td>31.915600</td>\n",
       "      <td>True</td>\n",
       "      <td>0.074757</td>\n",
       "    </tr>\n",
       "    <tr>\n",
       "      <th>2</th>\n",
       "      <td>False</td>\n",
       "      <td>True</td>\n",
       "      <td>28.795706</td>\n",
       "      <td>False</td>\n",
       "      <td>0.125243</td>\n",
       "    </tr>\n",
       "    <tr>\n",
       "      <th>3</th>\n",
       "      <td>True</td>\n",
       "      <td>False</td>\n",
       "      <td>34.460406</td>\n",
       "      <td>False</td>\n",
       "      <td>0.074757</td>\n",
       "    </tr>\n",
       "    <tr>\n",
       "      <th>4</th>\n",
       "      <td>True</td>\n",
       "      <td>True</td>\n",
       "      <td>29.309847</td>\n",
       "      <td>True</td>\n",
       "      <td>0.074757</td>\n",
       "    </tr>\n",
       "    <tr>\n",
       "      <th>5</th>\n",
       "      <td>False</td>\n",
       "      <td>True</td>\n",
       "      <td>30.737379</td>\n",
       "      <td>True</td>\n",
       "      <td>0.074757</td>\n",
       "    </tr>\n",
       "    <tr>\n",
       "      <th>6</th>\n",
       "      <td>True</td>\n",
       "      <td>True</td>\n",
       "      <td>32.754322</td>\n",
       "      <td>False</td>\n",
       "      <td>0.125243</td>\n",
       "    </tr>\n",
       "    <tr>\n",
       "      <th>7</th>\n",
       "      <td>False</td>\n",
       "      <td>True</td>\n",
       "      <td>30.132068</td>\n",
       "      <td>False</td>\n",
       "      <td>0.125243</td>\n",
       "    </tr>\n",
       "    <tr>\n",
       "      <th>8</th>\n",
       "      <td>True</td>\n",
       "      <td>False</td>\n",
       "      <td>30.413072</td>\n",
       "      <td>True</td>\n",
       "      <td>0.074757</td>\n",
       "    </tr>\n",
       "    <tr>\n",
       "      <th>9</th>\n",
       "      <td>False</td>\n",
       "      <td>True</td>\n",
       "      <td>30.636489</td>\n",
       "      <td>False</td>\n",
       "      <td>0.125243</td>\n",
       "    </tr>\n",
       "  </tbody>\n",
       "</table>\n",
       "</div>"
      ],
      "text/plain": [
       "   Capacitive_Sensor  Inductive_Sensor  Temperature_Sensor  Failure  \\\n",
       "0               True             False           31.374863    False   \n",
       "1               True              True           31.915600     True   \n",
       "2              False              True           28.795706    False   \n",
       "3               True             False           34.460406    False   \n",
       "4               True              True           29.309847     True   \n",
       "5              False              True           30.737379     True   \n",
       "6               True              True           32.754322    False   \n",
       "7              False              True           30.132068    False   \n",
       "8               True             False           30.413072     True   \n",
       "9              False              True           30.636489    False   \n",
       "\n",
       "   Sample_Weight  \n",
       "0       0.125243  \n",
       "1       0.074757  \n",
       "2       0.125243  \n",
       "3       0.074757  \n",
       "4       0.074757  \n",
       "5       0.074757  \n",
       "6       0.125243  \n",
       "7       0.125243  \n",
       "8       0.074757  \n",
       "9       0.125243  "
      ]
     },
     "execution_count": 90,
     "metadata": {},
     "output_type": "execute_result"
    }
   ],
   "source": [
    "df[\"Sample_Weight\"] = df[\"Normalized_Weight\"]\n",
    "df.drop(columns=[\"New_Weight\", \"Normalized_Weight\"], axis=1, inplace=True)\n",
    "df"
   ]
  },
  {
   "cell_type": "markdown",
   "metadata": {},
   "source": [
    "Now we can use the modified Sample Weights to make the second stump in the forest.\n",
    "\n",
    "In theory, we could use the Sample Weights to calculate the Weighted Gini Indexes to determine which variable should split the next stump.\n",
    "\n",
    "The Weighted Gini Index would put more emphasis on correctly classifying this sample (the samples that was misclassified by the last stump).\n",
    "\n",
    "Alternatively, instead of using a Weighted Gini Index, we can <b><u>make a new collection of samples that contains duplicate copies of the samples with the largest Sample Weights.</u></b>\n",
    "\n",
    "We start by making a new empty dataset that is the same size as the original."
   ]
  },
  {
   "cell_type": "code",
   "execution_count": 91,
   "metadata": {},
   "outputs": [
    {
     "data": {
      "text/html": [
       "<div>\n",
       "<style scoped>\n",
       "    .dataframe tbody tr th:only-of-type {\n",
       "        vertical-align: middle;\n",
       "    }\n",
       "\n",
       "    .dataframe tbody tr th {\n",
       "        vertical-align: top;\n",
       "    }\n",
       "\n",
       "    .dataframe thead th {\n",
       "        text-align: right;\n",
       "    }\n",
       "</style>\n",
       "<table border=\"1\" class=\"dataframe\">\n",
       "  <thead>\n",
       "    <tr style=\"text-align: right;\">\n",
       "      <th></th>\n",
       "      <th>Capacitive_Sensor</th>\n",
       "      <th>Inductive_Sensor</th>\n",
       "      <th>Temperature_Sensor</th>\n",
       "      <th>Failure</th>\n",
       "    </tr>\n",
       "  </thead>\n",
       "  <tbody>\n",
       "  </tbody>\n",
       "</table>\n",
       "</div>"
      ],
      "text/plain": [
       "Empty DataFrame\n",
       "Columns: [Capacitive_Sensor, Inductive_Sensor, Temperature_Sensor, Failure]\n",
       "Index: []"
      ]
     },
     "execution_count": 91,
     "metadata": {},
     "output_type": "execute_result"
    }
   ],
   "source": [
    "new_df = pd.DataFrame(columns=(list(df.columns[:4])))\n",
    "new_df\n"
   ]
  },
  {
   "cell_type": "markdown",
   "metadata": {},
   "source": [
    "Then we pick a random number between 0 and 1 and we see where that number falls when we use the Sample Weights like a distribution."
   ]
  },
  {
   "cell_type": "code",
   "execution_count": 92,
   "metadata": {},
   "outputs": [
    {
     "data": {
      "text/html": [
       "<div>\n",
       "<style scoped>\n",
       "    .dataframe tbody tr th:only-of-type {\n",
       "        vertical-align: middle;\n",
       "    }\n",
       "\n",
       "    .dataframe tbody tr th {\n",
       "        vertical-align: top;\n",
       "    }\n",
       "\n",
       "    .dataframe thead th {\n",
       "        text-align: right;\n",
       "    }\n",
       "</style>\n",
       "<table border=\"1\" class=\"dataframe\">\n",
       "  <thead>\n",
       "    <tr style=\"text-align: right;\">\n",
       "      <th></th>\n",
       "      <th>Capacitive_Sensor</th>\n",
       "      <th>Inductive_Sensor</th>\n",
       "      <th>Temperature_Sensor</th>\n",
       "      <th>Failure</th>\n",
       "      <th>Sample_Weight</th>\n",
       "    </tr>\n",
       "  </thead>\n",
       "  <tbody>\n",
       "    <tr>\n",
       "      <th>0</th>\n",
       "      <td>True</td>\n",
       "      <td>False</td>\n",
       "      <td>31.374863</td>\n",
       "      <td>False</td>\n",
       "      <td>0.125243</td>\n",
       "    </tr>\n",
       "    <tr>\n",
       "      <th>1</th>\n",
       "      <td>True</td>\n",
       "      <td>True</td>\n",
       "      <td>31.915600</td>\n",
       "      <td>True</td>\n",
       "      <td>0.074757</td>\n",
       "    </tr>\n",
       "    <tr>\n",
       "      <th>2</th>\n",
       "      <td>False</td>\n",
       "      <td>True</td>\n",
       "      <td>28.795706</td>\n",
       "      <td>False</td>\n",
       "      <td>0.125243</td>\n",
       "    </tr>\n",
       "    <tr>\n",
       "      <th>3</th>\n",
       "      <td>True</td>\n",
       "      <td>False</td>\n",
       "      <td>34.460406</td>\n",
       "      <td>False</td>\n",
       "      <td>0.074757</td>\n",
       "    </tr>\n",
       "    <tr>\n",
       "      <th>4</th>\n",
       "      <td>True</td>\n",
       "      <td>True</td>\n",
       "      <td>29.309847</td>\n",
       "      <td>True</td>\n",
       "      <td>0.074757</td>\n",
       "    </tr>\n",
       "    <tr>\n",
       "      <th>5</th>\n",
       "      <td>False</td>\n",
       "      <td>True</td>\n",
       "      <td>30.737379</td>\n",
       "      <td>True</td>\n",
       "      <td>0.074757</td>\n",
       "    </tr>\n",
       "    <tr>\n",
       "      <th>6</th>\n",
       "      <td>True</td>\n",
       "      <td>True</td>\n",
       "      <td>32.754322</td>\n",
       "      <td>False</td>\n",
       "      <td>0.125243</td>\n",
       "    </tr>\n",
       "    <tr>\n",
       "      <th>7</th>\n",
       "      <td>False</td>\n",
       "      <td>True</td>\n",
       "      <td>30.132068</td>\n",
       "      <td>False</td>\n",
       "      <td>0.125243</td>\n",
       "    </tr>\n",
       "    <tr>\n",
       "      <th>8</th>\n",
       "      <td>True</td>\n",
       "      <td>False</td>\n",
       "      <td>30.413072</td>\n",
       "      <td>True</td>\n",
       "      <td>0.074757</td>\n",
       "    </tr>\n",
       "    <tr>\n",
       "      <th>9</th>\n",
       "      <td>False</td>\n",
       "      <td>True</td>\n",
       "      <td>30.636489</td>\n",
       "      <td>False</td>\n",
       "      <td>0.125243</td>\n",
       "    </tr>\n",
       "  </tbody>\n",
       "</table>\n",
       "</div>"
      ],
      "text/plain": [
       "   Capacitive_Sensor  Inductive_Sensor  Temperature_Sensor  Failure  \\\n",
       "0               True             False           31.374863    False   \n",
       "1               True              True           31.915600     True   \n",
       "2              False              True           28.795706    False   \n",
       "3               True             False           34.460406    False   \n",
       "4               True              True           29.309847     True   \n",
       "5              False              True           30.737379     True   \n",
       "6               True              True           32.754322    False   \n",
       "7              False              True           30.132068    False   \n",
       "8               True             False           30.413072     True   \n",
       "9              False              True           30.636489    False   \n",
       "\n",
       "   Sample_Weight  \n",
       "0       0.125243  \n",
       "1       0.074757  \n",
       "2       0.125243  \n",
       "3       0.074757  \n",
       "4       0.074757  \n",
       "5       0.074757  \n",
       "6       0.125243  \n",
       "7       0.125243  \n",
       "8       0.074757  \n",
       "9       0.125243  "
      ]
     },
     "execution_count": 92,
     "metadata": {},
     "output_type": "execute_result"
    }
   ],
   "source": [
    "df"
   ]
  },
  {
   "cell_type": "markdown",
   "metadata": {},
   "source": [
    "If the number is between 0 and 0.125243, then we would put the first sample (index 0) into the new collection of samples (new_df)."
   ]
  },
  {
   "cell_type": "code",
   "execution_count": 93,
   "metadata": {},
   "outputs": [
    {
     "data": {
      "text/plain": [
       "0.2"
      ]
     },
     "execution_count": 93,
     "metadata": {},
     "output_type": "execute_result"
    }
   ],
   "source": [
    "df[\"Sample_Weight\"][0] + df[\"Sample_Weight\"][1]"
   ]
  },
  {
   "cell_type": "markdown",
   "metadata": {},
   "source": [
    "If the number is between 0.125243 and 0.2 (0.125243 + 0.074757 = 0.2), then we would put this sample (index 1) into the new collection of samples."
   ]
  },
  {
   "cell_type": "code",
   "execution_count": 94,
   "metadata": {},
   "outputs": [
    {
     "data": {
      "text/plain": [
       "0.32524271844660196"
      ]
     },
     "execution_count": 94,
     "metadata": {},
     "output_type": "execute_result"
    }
   ],
   "source": [
    "df[\"Sample_Weight\"][0] + df[\"Sample_Weight\"][1] + df[\"Sample_Weight\"][2]"
   ]
  },
  {
   "cell_type": "markdown",
   "metadata": {},
   "source": [
    "If the number is between 0.2 and 0.325242, then we would put this sample (index 2) into the new collection of samples."
   ]
  },
  {
   "cell_type": "code",
   "execution_count": 95,
   "metadata": {},
   "outputs": [
    {
     "data": {
      "text/plain": [
       "0.4"
      ]
     },
     "execution_count": 95,
     "metadata": {},
     "output_type": "execute_result"
    }
   ],
   "source": [
    "df[\"Sample_Weight\"][0] + df[\"Sample_Weight\"][1] + df[\"Sample_Weight\"][2] + df[\"Sample_Weight\"][3]"
   ]
  },
  {
   "cell_type": "markdown",
   "metadata": {},
   "source": [
    "If the number is between 0.325242 and 0.4, then we would put this sample (index 3) into the new collection of samples."
   ]
  },
  {
   "cell_type": "code",
   "execution_count": 96,
   "metadata": {},
   "outputs": [
    {
     "data": {
      "text/plain": [
       "0.4747572815533981"
      ]
     },
     "execution_count": 96,
     "metadata": {},
     "output_type": "execute_result"
    }
   ],
   "source": [
    "df[\"Sample_Weight\"][0] + df[\"Sample_Weight\"][1] + df[\"Sample_Weight\"][2] + df[\"Sample_Weight\"][3] + df[\"Sample_Weight\"][4]"
   ]
  },
  {
   "cell_type": "markdown",
   "metadata": {},
   "source": [
    "If the number is between 0.4 and 0.474757, then we would put this sample (index 4) into the new collection of samples."
   ]
  },
  {
   "cell_type": "code",
   "execution_count": 97,
   "metadata": {},
   "outputs": [
    {
     "data": {
      "text/plain": [
       "0.5495145631067961"
      ]
     },
     "execution_count": 97,
     "metadata": {},
     "output_type": "execute_result"
    }
   ],
   "source": [
    "df[\"Sample_Weight\"][0] + df[\"Sample_Weight\"][1] + df[\"Sample_Weight\"][2] + df[\"Sample_Weight\"][3] + df[\"Sample_Weight\"][4] + df[\"Sample_Weight\"][5]"
   ]
  },
  {
   "cell_type": "markdown",
   "metadata": {},
   "source": [
    "If the number is between 0.474757 and 0.549514, then we would put this sample (index 5) into the new collection of samples."
   ]
  },
  {
   "cell_type": "code",
   "execution_count": 98,
   "metadata": {},
   "outputs": [
    {
     "data": {
      "text/plain": [
       "0.6747572815533981"
      ]
     },
     "execution_count": 98,
     "metadata": {},
     "output_type": "execute_result"
    }
   ],
   "source": [
    "df[\"Sample_Weight\"][0] + df[\"Sample_Weight\"][1] + df[\"Sample_Weight\"][2] + df[\"Sample_Weight\"][3] + df[\"Sample_Weight\"][4] + df[\"Sample_Weight\"][5] + df[\"Sample_Weight\"][6]"
   ]
  },
  {
   "cell_type": "markdown",
   "metadata": {},
   "source": [
    "If the number is between 0.549514 and 0.674757, then we would put this sample (index 6) into the new collection of samples."
   ]
  },
  {
   "cell_type": "code",
   "execution_count": 99,
   "metadata": {},
   "outputs": [
    {
     "data": {
      "text/plain": [
       "0.8"
      ]
     },
     "execution_count": 99,
     "metadata": {},
     "output_type": "execute_result"
    }
   ],
   "source": [
    "df[\"Sample_Weight\"][0] + df[\"Sample_Weight\"][1] + df[\"Sample_Weight\"][2] + df[\"Sample_Weight\"][3] + df[\"Sample_Weight\"][4] + df[\"Sample_Weight\"][5] + df[\"Sample_Weight\"][6] + df[\"Sample_Weight\"][7]"
   ]
  },
  {
   "cell_type": "markdown",
   "metadata": {},
   "source": [
    "If the number is between 0.674757 and 0.8, then we would put this sample (index 7) into the new collection of samples."
   ]
  },
  {
   "cell_type": "code",
   "execution_count": 100,
   "metadata": {},
   "outputs": [
    {
     "data": {
      "text/plain": [
       "0.8747572815533982"
      ]
     },
     "execution_count": 100,
     "metadata": {},
     "output_type": "execute_result"
    }
   ],
   "source": [
    "df[\"Sample_Weight\"][0] + df[\"Sample_Weight\"][1] + df[\"Sample_Weight\"][2] + df[\"Sample_Weight\"][3] + df[\"Sample_Weight\"][4] + df[\"Sample_Weight\"][5] + df[\"Sample_Weight\"][6] + df[\"Sample_Weight\"][7] + df[\"Sample_Weight\"][8]"
   ]
  },
  {
   "cell_type": "markdown",
   "metadata": {},
   "source": [
    "If the number is between 0.8 and 0.874757, then we would put this sample (index 8) into the new collection of samples."
   ]
  },
  {
   "cell_type": "code",
   "execution_count": 101,
   "metadata": {},
   "outputs": [
    {
     "data": {
      "text/plain": [
       "1.0"
      ]
     },
     "execution_count": 101,
     "metadata": {},
     "output_type": "execute_result"
    }
   ],
   "source": [
    "df[\"Sample_Weight\"][0] + df[\"Sample_Weight\"][1] + df[\"Sample_Weight\"][2] + df[\"Sample_Weight\"][3] + df[\"Sample_Weight\"][4] + df[\"Sample_Weight\"][5] + df[\"Sample_Weight\"][6] + df[\"Sample_Weight\"][7] + df[\"Sample_Weight\"][8] + df[\"Sample_Weight\"][9]"
   ]
  },
  {
   "cell_type": "markdown",
   "metadata": {},
   "source": [
    "Lastly, if the number is between 0.874757 and 1.0, then we would put this sample (index 9) into the new collection of samples."
   ]
  },
  {
   "cell_type": "markdown",
   "metadata": {},
   "source": [
    "For example, imagine the first number I picked was 0.4, then I would put this sample (index 2) into my new collection of samples (new_df)"
   ]
  },
  {
   "cell_type": "code",
   "execution_count": 102,
   "metadata": {},
   "outputs": [
    {
     "data": {
      "text/html": [
       "<div>\n",
       "<style scoped>\n",
       "    .dataframe tbody tr th:only-of-type {\n",
       "        vertical-align: middle;\n",
       "    }\n",
       "\n",
       "    .dataframe tbody tr th {\n",
       "        vertical-align: top;\n",
       "    }\n",
       "\n",
       "    .dataframe thead th {\n",
       "        text-align: right;\n",
       "    }\n",
       "</style>\n",
       "<table border=\"1\" class=\"dataframe\">\n",
       "  <thead>\n",
       "    <tr style=\"text-align: right;\">\n",
       "      <th></th>\n",
       "      <th>Capacitive_Sensor</th>\n",
       "      <th>Inductive_Sensor</th>\n",
       "      <th>Temperature_Sensor</th>\n",
       "      <th>Failure</th>\n",
       "    </tr>\n",
       "  </thead>\n",
       "  <tbody>\n",
       "    <tr>\n",
       "      <th>0</th>\n",
       "      <td>False</td>\n",
       "      <td>True</td>\n",
       "      <td>28.795706</td>\n",
       "      <td>False</td>\n",
       "    </tr>\n",
       "  </tbody>\n",
       "</table>\n",
       "</div>"
      ],
      "text/plain": [
       "  Capacitive_Sensor Inductive_Sensor Temperature_Sensor Failure\n",
       "0             False             True          28.795706   False"
      ]
     },
     "execution_count": 102,
     "metadata": {},
     "output_type": "execute_result"
    }
   ],
   "source": [
    "new_df.loc[0] = df.loc[2]\n",
    "new_df"
   ]
  },
  {
   "cell_type": "code",
   "execution_count": 103,
   "metadata": {},
   "outputs": [
    {
     "data": {
      "text/plain": [
       "0.6211338327692949"
      ]
     },
     "execution_count": 103,
     "metadata": {},
     "output_type": "execute_result"
    }
   ],
   "source": [
    "np.random.random()"
   ]
  },
  {
   "cell_type": "markdown",
   "metadata": {},
   "source": [
    "Then I picked another random number and get 0.547232, then I would put sample with index 5 into my new collection of samples."
   ]
  },
  {
   "cell_type": "code",
   "execution_count": 104,
   "metadata": {},
   "outputs": [
    {
     "data": {
      "text/html": [
       "<div>\n",
       "<style scoped>\n",
       "    .dataframe tbody tr th:only-of-type {\n",
       "        vertical-align: middle;\n",
       "    }\n",
       "\n",
       "    .dataframe tbody tr th {\n",
       "        vertical-align: top;\n",
       "    }\n",
       "\n",
       "    .dataframe thead th {\n",
       "        text-align: right;\n",
       "    }\n",
       "</style>\n",
       "<table border=\"1\" class=\"dataframe\">\n",
       "  <thead>\n",
       "    <tr style=\"text-align: right;\">\n",
       "      <th></th>\n",
       "      <th>Capacitive_Sensor</th>\n",
       "      <th>Inductive_Sensor</th>\n",
       "      <th>Temperature_Sensor</th>\n",
       "      <th>Failure</th>\n",
       "    </tr>\n",
       "  </thead>\n",
       "  <tbody>\n",
       "    <tr>\n",
       "      <th>0</th>\n",
       "      <td>False</td>\n",
       "      <td>True</td>\n",
       "      <td>28.795706</td>\n",
       "      <td>False</td>\n",
       "    </tr>\n",
       "    <tr>\n",
       "      <th>1</th>\n",
       "      <td>False</td>\n",
       "      <td>True</td>\n",
       "      <td>30.737379</td>\n",
       "      <td>True</td>\n",
       "    </tr>\n",
       "  </tbody>\n",
       "</table>\n",
       "</div>"
      ],
      "text/plain": [
       "  Capacitive_Sensor Inductive_Sensor Temperature_Sensor Failure\n",
       "0             False             True          28.795706   False\n",
       "1             False             True          30.737379    True"
      ]
     },
     "execution_count": 104,
     "metadata": {},
     "output_type": "execute_result"
    }
   ],
   "source": [
    "new_df.loc[1] = df.loc[5]\n",
    "new_df"
   ]
  },
  {
   "cell_type": "code",
   "execution_count": 105,
   "metadata": {},
   "outputs": [
    {
     "data": {
      "text/plain": [
       "0.5291420942770391"
      ]
     },
     "execution_count": 105,
     "metadata": {},
     "output_type": "execute_result"
    }
   ],
   "source": [
    "np.random.random()"
   ]
  },
  {
   "cell_type": "markdown",
   "metadata": {},
   "source": [
    "Then I picked another random number and get 0.529, then I would put sample with index 5 (+1) into my new collection of samples."
   ]
  },
  {
   "cell_type": "code",
   "execution_count": 106,
   "metadata": {},
   "outputs": [
    {
     "data": {
      "text/html": [
       "<div>\n",
       "<style scoped>\n",
       "    .dataframe tbody tr th:only-of-type {\n",
       "        vertical-align: middle;\n",
       "    }\n",
       "\n",
       "    .dataframe tbody tr th {\n",
       "        vertical-align: top;\n",
       "    }\n",
       "\n",
       "    .dataframe thead th {\n",
       "        text-align: right;\n",
       "    }\n",
       "</style>\n",
       "<table border=\"1\" class=\"dataframe\">\n",
       "  <thead>\n",
       "    <tr style=\"text-align: right;\">\n",
       "      <th></th>\n",
       "      <th>Capacitive_Sensor</th>\n",
       "      <th>Inductive_Sensor</th>\n",
       "      <th>Temperature_Sensor</th>\n",
       "      <th>Failure</th>\n",
       "    </tr>\n",
       "  </thead>\n",
       "  <tbody>\n",
       "    <tr>\n",
       "      <th>0</th>\n",
       "      <td>False</td>\n",
       "      <td>True</td>\n",
       "      <td>28.795706</td>\n",
       "      <td>False</td>\n",
       "    </tr>\n",
       "    <tr>\n",
       "      <th>1</th>\n",
       "      <td>False</td>\n",
       "      <td>True</td>\n",
       "      <td>30.737379</td>\n",
       "      <td>True</td>\n",
       "    </tr>\n",
       "    <tr>\n",
       "      <th>2</th>\n",
       "      <td>False</td>\n",
       "      <td>True</td>\n",
       "      <td>30.737379</td>\n",
       "      <td>True</td>\n",
       "    </tr>\n",
       "  </tbody>\n",
       "</table>\n",
       "</div>"
      ],
      "text/plain": [
       "  Capacitive_Sensor Inductive_Sensor Temperature_Sensor Failure\n",
       "0             False             True          28.795706   False\n",
       "1             False             True          30.737379    True\n",
       "2             False             True          30.737379    True"
      ]
     },
     "execution_count": 106,
     "metadata": {},
     "output_type": "execute_result"
    }
   ],
   "source": [
    "new_df.loc[2] = df.loc[5]\n",
    "new_df"
   ]
  },
  {
   "cell_type": "code",
   "execution_count": 107,
   "metadata": {},
   "outputs": [
    {
     "data": {
      "text/plain": [
       "0.13457994534493356"
      ]
     },
     "execution_count": 107,
     "metadata": {},
     "output_type": "execute_result"
    }
   ],
   "source": [
    "np.random.random()"
   ]
  },
  {
   "cell_type": "markdown",
   "metadata": {},
   "source": [
    "Then I picked another random number and get 0.134, then I would put sample with index 1 into my new collection of samples."
   ]
  },
  {
   "cell_type": "code",
   "execution_count": 108,
   "metadata": {},
   "outputs": [
    {
     "data": {
      "text/html": [
       "<div>\n",
       "<style scoped>\n",
       "    .dataframe tbody tr th:only-of-type {\n",
       "        vertical-align: middle;\n",
       "    }\n",
       "\n",
       "    .dataframe tbody tr th {\n",
       "        vertical-align: top;\n",
       "    }\n",
       "\n",
       "    .dataframe thead th {\n",
       "        text-align: right;\n",
       "    }\n",
       "</style>\n",
       "<table border=\"1\" class=\"dataframe\">\n",
       "  <thead>\n",
       "    <tr style=\"text-align: right;\">\n",
       "      <th></th>\n",
       "      <th>Capacitive_Sensor</th>\n",
       "      <th>Inductive_Sensor</th>\n",
       "      <th>Temperature_Sensor</th>\n",
       "      <th>Failure</th>\n",
       "    </tr>\n",
       "  </thead>\n",
       "  <tbody>\n",
       "    <tr>\n",
       "      <th>0</th>\n",
       "      <td>False</td>\n",
       "      <td>True</td>\n",
       "      <td>28.795706</td>\n",
       "      <td>False</td>\n",
       "    </tr>\n",
       "    <tr>\n",
       "      <th>1</th>\n",
       "      <td>False</td>\n",
       "      <td>True</td>\n",
       "      <td>30.737379</td>\n",
       "      <td>True</td>\n",
       "    </tr>\n",
       "    <tr>\n",
       "      <th>2</th>\n",
       "      <td>False</td>\n",
       "      <td>True</td>\n",
       "      <td>30.737379</td>\n",
       "      <td>True</td>\n",
       "    </tr>\n",
       "    <tr>\n",
       "      <th>3</th>\n",
       "      <td>True</td>\n",
       "      <td>True</td>\n",
       "      <td>31.9156</td>\n",
       "      <td>True</td>\n",
       "    </tr>\n",
       "  </tbody>\n",
       "</table>\n",
       "</div>"
      ],
      "text/plain": [
       "  Capacitive_Sensor Inductive_Sensor Temperature_Sensor Failure\n",
       "0             False             True          28.795706   False\n",
       "1             False             True          30.737379    True\n",
       "2             False             True          30.737379    True\n",
       "3              True             True            31.9156    True"
      ]
     },
     "execution_count": 108,
     "metadata": {},
     "output_type": "execute_result"
    }
   ],
   "source": [
    "new_df.loc[3] = df.loc[1]\n",
    "new_df"
   ]
  },
  {
   "cell_type": "code",
   "execution_count": 109,
   "metadata": {},
   "outputs": [
    {
     "data": {
      "text/plain": [
       "0.5135781212657464"
      ]
     },
     "execution_count": 109,
     "metadata": {},
     "output_type": "execute_result"
    }
   ],
   "source": [
    "np.random.random()"
   ]
  },
  {
   "cell_type": "markdown",
   "metadata": {},
   "source": [
    "Then I picked another random number and get 0.513, then I would put sample with index 5 (+2) into my new collection of samples."
   ]
  },
  {
   "cell_type": "code",
   "execution_count": 110,
   "metadata": {},
   "outputs": [
    {
     "data": {
      "text/html": [
       "<div>\n",
       "<style scoped>\n",
       "    .dataframe tbody tr th:only-of-type {\n",
       "        vertical-align: middle;\n",
       "    }\n",
       "\n",
       "    .dataframe tbody tr th {\n",
       "        vertical-align: top;\n",
       "    }\n",
       "\n",
       "    .dataframe thead th {\n",
       "        text-align: right;\n",
       "    }\n",
       "</style>\n",
       "<table border=\"1\" class=\"dataframe\">\n",
       "  <thead>\n",
       "    <tr style=\"text-align: right;\">\n",
       "      <th></th>\n",
       "      <th>Capacitive_Sensor</th>\n",
       "      <th>Inductive_Sensor</th>\n",
       "      <th>Temperature_Sensor</th>\n",
       "      <th>Failure</th>\n",
       "    </tr>\n",
       "  </thead>\n",
       "  <tbody>\n",
       "    <tr>\n",
       "      <th>0</th>\n",
       "      <td>False</td>\n",
       "      <td>True</td>\n",
       "      <td>28.795706</td>\n",
       "      <td>False</td>\n",
       "    </tr>\n",
       "    <tr>\n",
       "      <th>1</th>\n",
       "      <td>False</td>\n",
       "      <td>True</td>\n",
       "      <td>30.737379</td>\n",
       "      <td>True</td>\n",
       "    </tr>\n",
       "    <tr>\n",
       "      <th>2</th>\n",
       "      <td>False</td>\n",
       "      <td>True</td>\n",
       "      <td>30.737379</td>\n",
       "      <td>True</td>\n",
       "    </tr>\n",
       "    <tr>\n",
       "      <th>3</th>\n",
       "      <td>True</td>\n",
       "      <td>True</td>\n",
       "      <td>31.9156</td>\n",
       "      <td>True</td>\n",
       "    </tr>\n",
       "    <tr>\n",
       "      <th>4</th>\n",
       "      <td>False</td>\n",
       "      <td>True</td>\n",
       "      <td>30.737379</td>\n",
       "      <td>True</td>\n",
       "    </tr>\n",
       "  </tbody>\n",
       "</table>\n",
       "</div>"
      ],
      "text/plain": [
       "  Capacitive_Sensor Inductive_Sensor Temperature_Sensor Failure\n",
       "0             False             True          28.795706   False\n",
       "1             False             True          30.737379    True\n",
       "2             False             True          30.737379    True\n",
       "3              True             True            31.9156    True\n",
       "4             False             True          30.737379    True"
      ]
     },
     "execution_count": 110,
     "metadata": {},
     "output_type": "execute_result"
    }
   ],
   "source": [
    "new_df.loc[4] = df.loc[5]\n",
    "new_df"
   ]
  },
  {
   "cell_type": "code",
   "execution_count": 111,
   "metadata": {},
   "outputs": [
    {
     "data": {
      "text/plain": [
       "0.18443986564691528"
      ]
     },
     "execution_count": 111,
     "metadata": {},
     "output_type": "execute_result"
    }
   ],
   "source": [
    "np.random.random()"
   ]
  },
  {
   "cell_type": "markdown",
   "metadata": {},
   "source": [
    "Then I picked another random number and get 0.184, then I would put sample with index 1 (+1) into my new collection of samples."
   ]
  },
  {
   "cell_type": "code",
   "execution_count": 112,
   "metadata": {},
   "outputs": [
    {
     "data": {
      "text/html": [
       "<div>\n",
       "<style scoped>\n",
       "    .dataframe tbody tr th:only-of-type {\n",
       "        vertical-align: middle;\n",
       "    }\n",
       "\n",
       "    .dataframe tbody tr th {\n",
       "        vertical-align: top;\n",
       "    }\n",
       "\n",
       "    .dataframe thead th {\n",
       "        text-align: right;\n",
       "    }\n",
       "</style>\n",
       "<table border=\"1\" class=\"dataframe\">\n",
       "  <thead>\n",
       "    <tr style=\"text-align: right;\">\n",
       "      <th></th>\n",
       "      <th>Capacitive_Sensor</th>\n",
       "      <th>Inductive_Sensor</th>\n",
       "      <th>Temperature_Sensor</th>\n",
       "      <th>Failure</th>\n",
       "    </tr>\n",
       "  </thead>\n",
       "  <tbody>\n",
       "    <tr>\n",
       "      <th>0</th>\n",
       "      <td>False</td>\n",
       "      <td>True</td>\n",
       "      <td>28.795706</td>\n",
       "      <td>False</td>\n",
       "    </tr>\n",
       "    <tr>\n",
       "      <th>1</th>\n",
       "      <td>False</td>\n",
       "      <td>True</td>\n",
       "      <td>30.737379</td>\n",
       "      <td>True</td>\n",
       "    </tr>\n",
       "    <tr>\n",
       "      <th>2</th>\n",
       "      <td>False</td>\n",
       "      <td>True</td>\n",
       "      <td>30.737379</td>\n",
       "      <td>True</td>\n",
       "    </tr>\n",
       "    <tr>\n",
       "      <th>3</th>\n",
       "      <td>True</td>\n",
       "      <td>True</td>\n",
       "      <td>31.9156</td>\n",
       "      <td>True</td>\n",
       "    </tr>\n",
       "    <tr>\n",
       "      <th>4</th>\n",
       "      <td>False</td>\n",
       "      <td>True</td>\n",
       "      <td>30.737379</td>\n",
       "      <td>True</td>\n",
       "    </tr>\n",
       "    <tr>\n",
       "      <th>5</th>\n",
       "      <td>True</td>\n",
       "      <td>True</td>\n",
       "      <td>31.9156</td>\n",
       "      <td>True</td>\n",
       "    </tr>\n",
       "  </tbody>\n",
       "</table>\n",
       "</div>"
      ],
      "text/plain": [
       "  Capacitive_Sensor Inductive_Sensor Temperature_Sensor Failure\n",
       "0             False             True          28.795706   False\n",
       "1             False             True          30.737379    True\n",
       "2             False             True          30.737379    True\n",
       "3              True             True            31.9156    True\n",
       "4             False             True          30.737379    True\n",
       "5              True             True            31.9156    True"
      ]
     },
     "execution_count": 112,
     "metadata": {},
     "output_type": "execute_result"
    }
   ],
   "source": [
    "new_df.loc[5] = df.loc[1]\n",
    "new_df"
   ]
  },
  {
   "cell_type": "code",
   "execution_count": 113,
   "metadata": {},
   "outputs": [
    {
     "data": {
      "text/plain": [
       "0.7853351478166735"
      ]
     },
     "execution_count": 113,
     "metadata": {},
     "output_type": "execute_result"
    }
   ],
   "source": [
    "np.random.random()"
   ]
  },
  {
   "cell_type": "markdown",
   "metadata": {},
   "source": [
    "Then I picked another random number and get 0.785, then I would put sample with index 7 into my new collection of samples."
   ]
  },
  {
   "cell_type": "code",
   "execution_count": 114,
   "metadata": {},
   "outputs": [
    {
     "data": {
      "text/html": [
       "<div>\n",
       "<style scoped>\n",
       "    .dataframe tbody tr th:only-of-type {\n",
       "        vertical-align: middle;\n",
       "    }\n",
       "\n",
       "    .dataframe tbody tr th {\n",
       "        vertical-align: top;\n",
       "    }\n",
       "\n",
       "    .dataframe thead th {\n",
       "        text-align: right;\n",
       "    }\n",
       "</style>\n",
       "<table border=\"1\" class=\"dataframe\">\n",
       "  <thead>\n",
       "    <tr style=\"text-align: right;\">\n",
       "      <th></th>\n",
       "      <th>Capacitive_Sensor</th>\n",
       "      <th>Inductive_Sensor</th>\n",
       "      <th>Temperature_Sensor</th>\n",
       "      <th>Failure</th>\n",
       "    </tr>\n",
       "  </thead>\n",
       "  <tbody>\n",
       "    <tr>\n",
       "      <th>0</th>\n",
       "      <td>False</td>\n",
       "      <td>True</td>\n",
       "      <td>28.795706</td>\n",
       "      <td>False</td>\n",
       "    </tr>\n",
       "    <tr>\n",
       "      <th>1</th>\n",
       "      <td>False</td>\n",
       "      <td>True</td>\n",
       "      <td>30.737379</td>\n",
       "      <td>True</td>\n",
       "    </tr>\n",
       "    <tr>\n",
       "      <th>2</th>\n",
       "      <td>False</td>\n",
       "      <td>True</td>\n",
       "      <td>30.737379</td>\n",
       "      <td>True</td>\n",
       "    </tr>\n",
       "    <tr>\n",
       "      <th>3</th>\n",
       "      <td>True</td>\n",
       "      <td>True</td>\n",
       "      <td>31.9156</td>\n",
       "      <td>True</td>\n",
       "    </tr>\n",
       "    <tr>\n",
       "      <th>4</th>\n",
       "      <td>False</td>\n",
       "      <td>True</td>\n",
       "      <td>30.737379</td>\n",
       "      <td>True</td>\n",
       "    </tr>\n",
       "    <tr>\n",
       "      <th>5</th>\n",
       "      <td>True</td>\n",
       "      <td>True</td>\n",
       "      <td>31.9156</td>\n",
       "      <td>True</td>\n",
       "    </tr>\n",
       "    <tr>\n",
       "      <th>6</th>\n",
       "      <td>False</td>\n",
       "      <td>True</td>\n",
       "      <td>30.132068</td>\n",
       "      <td>False</td>\n",
       "    </tr>\n",
       "  </tbody>\n",
       "</table>\n",
       "</div>"
      ],
      "text/plain": [
       "  Capacitive_Sensor Inductive_Sensor Temperature_Sensor Failure\n",
       "0             False             True          28.795706   False\n",
       "1             False             True          30.737379    True\n",
       "2             False             True          30.737379    True\n",
       "3              True             True            31.9156    True\n",
       "4             False             True          30.737379    True\n",
       "5              True             True            31.9156    True\n",
       "6             False             True          30.132068   False"
      ]
     },
     "execution_count": 114,
     "metadata": {},
     "output_type": "execute_result"
    }
   ],
   "source": [
    "new_df.loc[6] = df.loc[7]\n",
    "new_df"
   ]
  },
  {
   "cell_type": "code",
   "execution_count": 115,
   "metadata": {},
   "outputs": [
    {
     "data": {
      "text/plain": [
       "0.8539752926394888"
      ]
     },
     "execution_count": 115,
     "metadata": {},
     "output_type": "execute_result"
    }
   ],
   "source": [
    "np.random.random()"
   ]
  },
  {
   "cell_type": "markdown",
   "metadata": {},
   "source": [
    "Then I picked another random number and get 0.853, then I would put sample with index 8 into my new collection of samples."
   ]
  },
  {
   "cell_type": "code",
   "execution_count": 116,
   "metadata": {},
   "outputs": [
    {
     "data": {
      "text/html": [
       "<div>\n",
       "<style scoped>\n",
       "    .dataframe tbody tr th:only-of-type {\n",
       "        vertical-align: middle;\n",
       "    }\n",
       "\n",
       "    .dataframe tbody tr th {\n",
       "        vertical-align: top;\n",
       "    }\n",
       "\n",
       "    .dataframe thead th {\n",
       "        text-align: right;\n",
       "    }\n",
       "</style>\n",
       "<table border=\"1\" class=\"dataframe\">\n",
       "  <thead>\n",
       "    <tr style=\"text-align: right;\">\n",
       "      <th></th>\n",
       "      <th>Capacitive_Sensor</th>\n",
       "      <th>Inductive_Sensor</th>\n",
       "      <th>Temperature_Sensor</th>\n",
       "      <th>Failure</th>\n",
       "    </tr>\n",
       "  </thead>\n",
       "  <tbody>\n",
       "    <tr>\n",
       "      <th>0</th>\n",
       "      <td>False</td>\n",
       "      <td>True</td>\n",
       "      <td>28.795706</td>\n",
       "      <td>False</td>\n",
       "    </tr>\n",
       "    <tr>\n",
       "      <th>1</th>\n",
       "      <td>False</td>\n",
       "      <td>True</td>\n",
       "      <td>30.737379</td>\n",
       "      <td>True</td>\n",
       "    </tr>\n",
       "    <tr>\n",
       "      <th>2</th>\n",
       "      <td>False</td>\n",
       "      <td>True</td>\n",
       "      <td>30.737379</td>\n",
       "      <td>True</td>\n",
       "    </tr>\n",
       "    <tr>\n",
       "      <th>3</th>\n",
       "      <td>True</td>\n",
       "      <td>True</td>\n",
       "      <td>31.9156</td>\n",
       "      <td>True</td>\n",
       "    </tr>\n",
       "    <tr>\n",
       "      <th>4</th>\n",
       "      <td>False</td>\n",
       "      <td>True</td>\n",
       "      <td>30.737379</td>\n",
       "      <td>True</td>\n",
       "    </tr>\n",
       "    <tr>\n",
       "      <th>5</th>\n",
       "      <td>True</td>\n",
       "      <td>True</td>\n",
       "      <td>31.9156</td>\n",
       "      <td>True</td>\n",
       "    </tr>\n",
       "    <tr>\n",
       "      <th>6</th>\n",
       "      <td>False</td>\n",
       "      <td>True</td>\n",
       "      <td>30.132068</td>\n",
       "      <td>False</td>\n",
       "    </tr>\n",
       "    <tr>\n",
       "      <th>7</th>\n",
       "      <td>True</td>\n",
       "      <td>False</td>\n",
       "      <td>30.413072</td>\n",
       "      <td>True</td>\n",
       "    </tr>\n",
       "  </tbody>\n",
       "</table>\n",
       "</div>"
      ],
      "text/plain": [
       "  Capacitive_Sensor Inductive_Sensor Temperature_Sensor Failure\n",
       "0             False             True          28.795706   False\n",
       "1             False             True          30.737379    True\n",
       "2             False             True          30.737379    True\n",
       "3              True             True            31.9156    True\n",
       "4             False             True          30.737379    True\n",
       "5              True             True            31.9156    True\n",
       "6             False             True          30.132068   False\n",
       "7              True            False          30.413072    True"
      ]
     },
     "execution_count": 116,
     "metadata": {},
     "output_type": "execute_result"
    }
   ],
   "source": [
    "new_df.loc[7] = df.loc[8]\n",
    "new_df"
   ]
  },
  {
   "cell_type": "code",
   "execution_count": 117,
   "metadata": {},
   "outputs": [
    {
     "data": {
      "text/plain": [
       "0.4942368373819278"
      ]
     },
     "execution_count": 117,
     "metadata": {},
     "output_type": "execute_result"
    }
   ],
   "source": [
    "np.random.random()"
   ]
  },
  {
   "cell_type": "markdown",
   "metadata": {},
   "source": [
    "Then I picked another random number and get 0.494, then I would put sample with index 5 (+3) into my new collection of samples."
   ]
  },
  {
   "cell_type": "code",
   "execution_count": 118,
   "metadata": {},
   "outputs": [
    {
     "data": {
      "text/html": [
       "<div>\n",
       "<style scoped>\n",
       "    .dataframe tbody tr th:only-of-type {\n",
       "        vertical-align: middle;\n",
       "    }\n",
       "\n",
       "    .dataframe tbody tr th {\n",
       "        vertical-align: top;\n",
       "    }\n",
       "\n",
       "    .dataframe thead th {\n",
       "        text-align: right;\n",
       "    }\n",
       "</style>\n",
       "<table border=\"1\" class=\"dataframe\">\n",
       "  <thead>\n",
       "    <tr style=\"text-align: right;\">\n",
       "      <th></th>\n",
       "      <th>Capacitive_Sensor</th>\n",
       "      <th>Inductive_Sensor</th>\n",
       "      <th>Temperature_Sensor</th>\n",
       "      <th>Failure</th>\n",
       "    </tr>\n",
       "  </thead>\n",
       "  <tbody>\n",
       "    <tr>\n",
       "      <th>0</th>\n",
       "      <td>False</td>\n",
       "      <td>True</td>\n",
       "      <td>28.795706</td>\n",
       "      <td>False</td>\n",
       "    </tr>\n",
       "    <tr>\n",
       "      <th>1</th>\n",
       "      <td>False</td>\n",
       "      <td>True</td>\n",
       "      <td>30.737379</td>\n",
       "      <td>True</td>\n",
       "    </tr>\n",
       "    <tr>\n",
       "      <th>2</th>\n",
       "      <td>False</td>\n",
       "      <td>True</td>\n",
       "      <td>30.737379</td>\n",
       "      <td>True</td>\n",
       "    </tr>\n",
       "    <tr>\n",
       "      <th>3</th>\n",
       "      <td>True</td>\n",
       "      <td>True</td>\n",
       "      <td>31.9156</td>\n",
       "      <td>True</td>\n",
       "    </tr>\n",
       "    <tr>\n",
       "      <th>4</th>\n",
       "      <td>False</td>\n",
       "      <td>True</td>\n",
       "      <td>30.737379</td>\n",
       "      <td>True</td>\n",
       "    </tr>\n",
       "    <tr>\n",
       "      <th>5</th>\n",
       "      <td>True</td>\n",
       "      <td>True</td>\n",
       "      <td>31.9156</td>\n",
       "      <td>True</td>\n",
       "    </tr>\n",
       "    <tr>\n",
       "      <th>6</th>\n",
       "      <td>False</td>\n",
       "      <td>True</td>\n",
       "      <td>30.132068</td>\n",
       "      <td>False</td>\n",
       "    </tr>\n",
       "    <tr>\n",
       "      <th>7</th>\n",
       "      <td>True</td>\n",
       "      <td>False</td>\n",
       "      <td>30.413072</td>\n",
       "      <td>True</td>\n",
       "    </tr>\n",
       "    <tr>\n",
       "      <th>8</th>\n",
       "      <td>False</td>\n",
       "      <td>True</td>\n",
       "      <td>30.737379</td>\n",
       "      <td>True</td>\n",
       "    </tr>\n",
       "  </tbody>\n",
       "</table>\n",
       "</div>"
      ],
      "text/plain": [
       "  Capacitive_Sensor Inductive_Sensor Temperature_Sensor Failure\n",
       "0             False             True          28.795706   False\n",
       "1             False             True          30.737379    True\n",
       "2             False             True          30.737379    True\n",
       "3              True             True            31.9156    True\n",
       "4             False             True          30.737379    True\n",
       "5              True             True            31.9156    True\n",
       "6             False             True          30.132068   False\n",
       "7              True            False          30.413072    True\n",
       "8             False             True          30.737379    True"
      ]
     },
     "execution_count": 118,
     "metadata": {},
     "output_type": "execute_result"
    }
   ],
   "source": [
    "new_df.loc[8] = df.loc[5]\n",
    "new_df"
   ]
  },
  {
   "cell_type": "code",
   "execution_count": 119,
   "metadata": {},
   "outputs": [
    {
     "data": {
      "text/plain": [
       "0.846561485357468"
      ]
     },
     "execution_count": 119,
     "metadata": {},
     "output_type": "execute_result"
    }
   ],
   "source": [
    "np.random.random()"
   ]
  },
  {
   "cell_type": "markdown",
   "metadata": {},
   "source": [
    "For my last sample, I picked another random number and get 0.846, then I would put sample with index 8 (+1) into my new collection of samples."
   ]
  },
  {
   "cell_type": "code",
   "execution_count": 120,
   "metadata": {},
   "outputs": [
    {
     "data": {
      "text/html": [
       "<div>\n",
       "<style scoped>\n",
       "    .dataframe tbody tr th:only-of-type {\n",
       "        vertical-align: middle;\n",
       "    }\n",
       "\n",
       "    .dataframe tbody tr th {\n",
       "        vertical-align: top;\n",
       "    }\n",
       "\n",
       "    .dataframe thead th {\n",
       "        text-align: right;\n",
       "    }\n",
       "</style>\n",
       "<table border=\"1\" class=\"dataframe\">\n",
       "  <thead>\n",
       "    <tr style=\"text-align: right;\">\n",
       "      <th></th>\n",
       "      <th>Capacitive_Sensor</th>\n",
       "      <th>Inductive_Sensor</th>\n",
       "      <th>Temperature_Sensor</th>\n",
       "      <th>Failure</th>\n",
       "    </tr>\n",
       "  </thead>\n",
       "  <tbody>\n",
       "    <tr>\n",
       "      <th>0</th>\n",
       "      <td>False</td>\n",
       "      <td>True</td>\n",
       "      <td>28.795706</td>\n",
       "      <td>False</td>\n",
       "    </tr>\n",
       "    <tr>\n",
       "      <th>1</th>\n",
       "      <td>False</td>\n",
       "      <td>True</td>\n",
       "      <td>30.737379</td>\n",
       "      <td>True</td>\n",
       "    </tr>\n",
       "    <tr>\n",
       "      <th>2</th>\n",
       "      <td>False</td>\n",
       "      <td>True</td>\n",
       "      <td>30.737379</td>\n",
       "      <td>True</td>\n",
       "    </tr>\n",
       "    <tr>\n",
       "      <th>3</th>\n",
       "      <td>True</td>\n",
       "      <td>True</td>\n",
       "      <td>31.9156</td>\n",
       "      <td>True</td>\n",
       "    </tr>\n",
       "    <tr>\n",
       "      <th>4</th>\n",
       "      <td>False</td>\n",
       "      <td>True</td>\n",
       "      <td>30.737379</td>\n",
       "      <td>True</td>\n",
       "    </tr>\n",
       "    <tr>\n",
       "      <th>5</th>\n",
       "      <td>True</td>\n",
       "      <td>True</td>\n",
       "      <td>31.9156</td>\n",
       "      <td>True</td>\n",
       "    </tr>\n",
       "    <tr>\n",
       "      <th>6</th>\n",
       "      <td>False</td>\n",
       "      <td>True</td>\n",
       "      <td>30.132068</td>\n",
       "      <td>False</td>\n",
       "    </tr>\n",
       "    <tr>\n",
       "      <th>7</th>\n",
       "      <td>True</td>\n",
       "      <td>False</td>\n",
       "      <td>30.413072</td>\n",
       "      <td>True</td>\n",
       "    </tr>\n",
       "    <tr>\n",
       "      <th>8</th>\n",
       "      <td>False</td>\n",
       "      <td>True</td>\n",
       "      <td>30.737379</td>\n",
       "      <td>True</td>\n",
       "    </tr>\n",
       "    <tr>\n",
       "      <th>9</th>\n",
       "      <td>True</td>\n",
       "      <td>False</td>\n",
       "      <td>30.413072</td>\n",
       "      <td>True</td>\n",
       "    </tr>\n",
       "  </tbody>\n",
       "</table>\n",
       "</div>"
      ],
      "text/plain": [
       "  Capacitive_Sensor Inductive_Sensor Temperature_Sensor Failure\n",
       "0             False             True          28.795706   False\n",
       "1             False             True          30.737379    True\n",
       "2             False             True          30.737379    True\n",
       "3              True             True            31.9156    True\n",
       "4             False             True          30.737379    True\n",
       "5              True             True            31.9156    True\n",
       "6             False             True          30.132068   False\n",
       "7              True            False          30.413072    True\n",
       "8             False             True          30.737379    True\n",
       "9              True            False          30.413072    True"
      ]
     },
     "execution_count": 120,
     "metadata": {},
     "output_type": "execute_result"
    }
   ],
   "source": [
    "new_df.loc[9] = df.loc[8]\n",
    "new_df"
   ]
  },
  {
   "cell_type": "markdown",
   "metadata": {},
   "source": [
    "Ultimately, the sample with index 5 was added to the collection 4 times, reflecting its larger Sample Weight.\n",
    "\n",
    "Our new collection of samples (new_df) will be used moving forward and just like before, we give all the samples equal Sample Weights.\n",
    "\n",
    "Now we go back to the beginning and try to find the stump that does the best job classifying the new collection of samples.\n",
    "\n",
    "So that is how the errors that the first tree makes influence how the second tree is made and the errors that the second tree makes influence how the third tree is made.\n",
    "\n",
    "Etc..etc..etc "
   ]
  },
  {
   "cell_type": "markdown",
   "metadata": {},
   "source": [
    "**So, how does a forest of stumps created by AdaBoost makes classifications?**\n",
    "\n",
    "Imagine a set of stumps classified a data as \"Has Machine Failure\" and another set of stumps classified as \"Does Not Have Machine Failure\".\n",
    "\n",
    "We add up the Amount of Say for each set of stumps and depending on which has the largest sum, the data makes the classification.\n",
    "\n",
    "Example:\n",
    "\n",
    "Total Amount of Say for Stumps of \"Has Machine Failure\": 2.7\n",
    "Total Amount of Say for Stumps of \"Does Not Have Machine Failure\": 1.23\n",
    "\n",
    "Ultimately, the data is classified as \"Has Machine Failure\" because it has the largest sum"
   ]
  },
  {
   "cell_type": "code",
   "execution_count": 142,
   "metadata": {},
   "outputs": [
    {
     "name": "stdout",
     "output_type": "stream",
     "text": [
      "Accuracy: 0.5\n"
     ]
    },
    {
     "data": {
      "text/plain": [
       "0.20833333333333331"
      ]
     },
     "execution_count": 142,
     "metadata": {},
     "output_type": "execute_result"
    }
   ],
   "source": [
    "# import pandas as pd\n",
    "from sklearn.model_selection import train_test_split\n",
    "from sklearn.ensemble import AdaBoostClassifier\n",
    "from sklearn.metrics import accuracy_score\n",
    "\n",
    "# Read the CSV file into a DataFrame\n",
    "input_file = \"machinedata.csv\"\n",
    "df = pd.read_csv(input_file)\n",
    "\n",
    "# dropping the columns for simplification\n",
    "df.drop(columns=[\"Optical_Sensor\", \"Airflow_Sensor\", \"Current_Sensor\"], axis=1, inplace=True)\n",
    "\n",
    "# Convert boolean columns to integers (if needed)\n",
    "df[\"Capacitive_Sensor\"] = df[\"Capacitive_Sensor\"].astype(int)\n",
    "df[\"Inductive_Sensor\"] = df[\"Inductive_Sensor\"].astype(int)\n",
    "df[\"Failure\"] = df[\"Failure\"].astype(int)\n",
    "\n",
    "# Separate features and target variable\n",
    "features = list(df.columns[:3])\n",
    "X = df[features]  # Features\n",
    "y = df[\"Failure\"]  # Target variable\n",
    "\n",
    "# Split data into train and test sets\n",
    "X_train, X_test, y_train, y_test = train_test_split(X, y, test_size=0.2, random_state=42)\n",
    "\n",
    "# Initialize the AdaBoostClassifier\n",
    "adaboost = AdaBoostClassifier(n_estimators=100, algorithm=\"SAMME\", random_state=0)\n",
    "\n",
    "# Train the AdaBoostClassifier\n",
    "adaboost.fit(X_train, y_train)\n",
    "\n",
    "# Predict the target variable on the test set\n",
    "y_pred = adaboost.predict(X_test)\n",
    "\n",
    "# Calculate accuracy\n",
    "accuracy = accuracy_score(y_test, y_pred)\n",
    "print(\"Accuracy:\", accuracy)\n",
    "\n",
    "from sklearn.model_selection import cross_val_score\n",
    "scores = cross_val_score(adaboost, X, y, cv=4)\n",
    "scores.mean()"
   ]
  },
  {
   "cell_type": "markdown",
   "metadata": {},
   "source": [
    "From ChatGPT:\n",
    "\n",
    "An accuracy of 0.5 means that your model is performing no better than random guessing on the test data.\n",
    "\n",
    "In binary classification problems (where there are only two possible classes), if the accuracy is 0.5, it suggests that the model is making predictions that are as good as flipping a coin. Essentially, it's unable to distinguish between the two classes and is making random guesses."
   ]
  },
  {
   "cell_type": "markdown",
   "metadata": {},
   "source": [
    "Attempt to improve accuracy score with XGBoost:"
   ]
  },
  {
   "cell_type": "code",
   "execution_count": 132,
   "metadata": {},
   "outputs": [
    {
     "name": "stdout",
     "output_type": "stream",
     "text": [
      "Accuracy: 0.50\n"
     ]
    }
   ],
   "source": [
    "import pandas as pd\n",
    "from sklearn.model_selection import train_test_split\n",
    "import xgboost as xgb\n",
    "from sklearn.metrics import accuracy_score\n",
    "\n",
    "# Read the CSV file into a DataFrame\n",
    "input_file = \"machinedata.csv\"\n",
    "df = pd.read_csv(input_file)\n",
    "\n",
    "# dropping the columns for simplification\n",
    "df.drop(columns=[\"Optical_Sensor\", \"Airflow_Sensor\", \"Current_Sensor\"], axis=1, inplace=True)\n",
    "\n",
    "# Convert boolean columns to integers (if needed)\n",
    "df[\"Capacitive_Sensor\"] = df[\"Capacitive_Sensor\"].astype(int)\n",
    "df[\"Inductive_Sensor\"] = df[\"Inductive_Sensor\"].astype(int)\n",
    "df[\"Failure\"] = df[\"Failure\"].astype(int)\n",
    "\n",
    "# Separate features and target variable\n",
    "features = list(df.columns[:3])\n",
    "X = df[features]  # Features\n",
    "y = df[\"Failure\"]  # Target variable\n",
    "\n",
    "# Split data into train and test sets\n",
    "X_train, X_test, y_train, y_test = train_test_split(X, y, test_size=0.2, random_state=0)\n",
    "\n",
    "# Convert data to DMatrix format with specifying feature names\n",
    "train = xgb.DMatrix(data=X_train, label=y_train, feature_names=features)\n",
    "test = xgb.DMatrix(data=X_test, label=y_test, feature_names=features)\n",
    "\n",
    "# Remove \"num_class\" parameter or set it to 1 (since it's a binary classification task)\n",
    "param = {\n",
    "    \"max_depth\": 6,\n",
    "    \"eta\": 0.1,\n",
    "    \"objective\": \"binary:logistic\",\n",
    "    \"eval_metric\": \"error\"\n",
    "}\n",
    "\n",
    "epochs = 2  # no of iterations, how many times we want to run this algorithm over\n",
    "\n",
    "# Train the XGBoost model\n",
    "model = xgb.train(params=param, dtrain=train, num_boost_round=epochs)\n",
    "\n",
    "# Make predictions\n",
    "predictions = model.predict(data=test)\n",
    "\n",
    "# Convert probabilities to binary predictions\n",
    "predictions_binary = [1 if p > 0.5 else 0 for p in predictions]\n",
    "\n",
    "# Evaluate accuracy\n",
    "accuracy = accuracy_score(y_test, predictions_binary)\n",
    "print(f'Accuracy: {accuracy:.2f}')"
   ]
  },
  {
   "cell_type": "markdown",
   "metadata": {},
   "source": [
    "Attempt to improve accuracy using Random Forest:"
   ]
  },
  {
   "cell_type": "code",
   "execution_count": 157,
   "metadata": {},
   "outputs": [
    {
     "name": "stdout",
     "output_type": "stream",
     "text": [
      "[0 0]\n",
      "Accuracy: 0.50\n",
      "\n",
      "Classification Report:\n",
      "              precision    recall  f1-score   support\n",
      "\n",
      "           0       0.50      1.00      0.67         1\n",
      "           1       0.00      0.00      0.00         1\n",
      "\n",
      "    accuracy                           0.50         2\n",
      "   macro avg       0.25      0.50      0.33         2\n",
      "weighted avg       0.25      0.50      0.33         2\n",
      "\n"
     ]
    },
    {
     "name": "stderr",
     "output_type": "stream",
     "text": [
      "c:\\Users\\ahmad\\AppData\\Local\\Programs\\Python\\Python310\\lib\\site-packages\\sklearn\\metrics\\_classification.py:1469: UndefinedMetricWarning: Precision and F-score are ill-defined and being set to 0.0 in labels with no predicted samples. Use `zero_division` parameter to control this behavior.\n",
      "  _warn_prf(average, modifier, msg_start, len(result))\n",
      "c:\\Users\\ahmad\\AppData\\Local\\Programs\\Python\\Python310\\lib\\site-packages\\sklearn\\metrics\\_classification.py:1469: UndefinedMetricWarning: Precision and F-score are ill-defined and being set to 0.0 in labels with no predicted samples. Use `zero_division` parameter to control this behavior.\n",
      "  _warn_prf(average, modifier, msg_start, len(result))\n",
      "c:\\Users\\ahmad\\AppData\\Local\\Programs\\Python\\Python310\\lib\\site-packages\\sklearn\\metrics\\_classification.py:1469: UndefinedMetricWarning: Precision and F-score are ill-defined and being set to 0.0 in labels with no predicted samples. Use `zero_division` parameter to control this behavior.\n",
      "  _warn_prf(average, modifier, msg_start, len(result))\n"
     ]
    }
   ],
   "source": [
    "import pandas as pd\n",
    "from sklearn import tree\n",
    "from sklearn.model_selection import train_test_split\n",
    "from sklearn.ensemble import RandomForestClassifier\n",
    "from sklearn.metrics import accuracy_score, classification_report\n",
    "\n",
    "input_file = \"machinedata.csv\"\n",
    "df = pd.read_csv(input_file)\n",
    "\n",
    "# dropping the columns for simplification\n",
    "df.drop(columns=[\"Optical_Sensor\", \"Airflow_Sensor\", \"Current_Sensor\"], axis=1, inplace=True)\n",
    "\n",
    "# Convert boolean columns to integers (if needed)\n",
    "df[\"Capacitive_Sensor\"] = df[\"Capacitive_Sensor\"].astype(int)\n",
    "df[\"Inductive_Sensor\"] = df[\"Inductive_Sensor\"].astype(int)\n",
    "df[\"Failure\"] = df[\"Failure\"].astype(int)\n",
    "\n",
    "# Separate features and target variable\n",
    "features = list(df.columns[:3])\n",
    "X = df[features]  # Features\n",
    "y = df[\"Failure\"]  # Target variable\n",
    "\n",
    "# Split data into train and test sets\n",
    "X_train, X_test, y_train, y_test = train_test_split(X, y, test_size=0.2, random_state=0)\n",
    "\n",
    "clf = RandomForestClassifier(n_estimators=10) # n_estimators is equal to the number of trees\n",
    "clf = clf.fit(X_train, y_train)\n",
    "\n",
    "# Predictions for the test set\n",
    "predictions = clf.predict(X_test)\n",
    "print(predictions)\n",
    "\n",
    "# Evaluate accuracy\n",
    "accuracy = accuracy_score(y_test, predictions)\n",
    "print(f'Accuracy: {accuracy:.2f}')\n",
    "\n",
    "# Display classification report\n",
    "print('\\nClassification Report:')\n",
    "print(classification_report(y_test, predictions))"
   ]
  },
  {
   "cell_type": "code",
   "execution_count": 158,
   "metadata": {},
   "outputs": [
    {
     "data": {
      "image/png": "[encoded data removed]",
      "text/plain": [
       "<IPython.core.display.Image object>"
      ]
     },
     "execution_count": 158,
     "metadata": {},
     "output_type": "execute_result"
    }
   ],
   "source": [
    "from IPython.display import Image  \n",
    "from six import StringIO  \n",
    "import pydotplus\n",
    "\n",
    "# Visualize one of the trees in the Random Forest (for example, the first tree)\n",
    "# Note: You can choose a different tree index based on your requirements\n",
    "tree_to_visualize = 1\n",
    "tree_visualization_data = StringIO()\n",
    "tree.export_graphviz(clf.estimators_[tree_to_visualize], out_file=tree_visualization_data,\n",
    "                     feature_names=features, filled=True, rounded=True, special_characters=True)\n",
    "\n",
    "\n",
    "# Add a title to the PyDotPlus graph object\n",
    "tree_graph = pydotplus.graph_from_dot_data(tree_visualization_data.getvalue())\n",
    "tree_graph.set('label', 'Random Forest')\n",
    "\n",
    "Image(tree_graph.create_png())"
   ]
  },
  {
   "cell_type": "code",
   "execution_count": 159,
   "metadata": {},
   "outputs": [
    {
     "data": {
      "text/plain": [
       "True"
      ]
     },
     "execution_count": 159,
     "metadata": {},
     "output_type": "execute_result"
    }
   ],
   "source": [
    "# Save the random forest tree visualization as a PNG file\n",
    "output_file_path = \"day_110_adaboost_random_forest.png\"\n",
    "tree_graph.write_png(output_file_path)"
   ]
  }
 ],
 "metadata": {
  "kernelspec": {
   "display_name": "Python 3",
   "language": "python",
   "name": "python3"
  },
  "language_info": {
   "codemirror_mode": {
    "name": "ipython",
    "version": 3
   },
   "file_extension": ".py",
   "mimetype": "text/x-python",
   "name": "python",
   "nbconvert_exporter": "python",
   "pygments_lexer": "ipython3",
   "version": "3.10.0"
  }
 },
 "nbformat": 4,
 "nbformat_minor": 2
}
